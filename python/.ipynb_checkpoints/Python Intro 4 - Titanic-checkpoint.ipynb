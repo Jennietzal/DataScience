{
 "cells": [
  {
   "cell_type": "markdown",
   "metadata": {},
   "source": [
    "# Understanding the Titanic Survival\n",
    "\n",
    "<img src=\"https://upload.wikimedia.org/wikipedia/commons/6/6e/St%C3%B6wer_Titanic.jpg\" />\n",
    " \n",
    "Wellcome to the Titanic, the largest British ship at the time,  that sank in the North \n",
    "Atlantic Ocean in the early hours of 15 April 1912. \n",
    " \n",
    "In this notebook we will try to undestand the characteristics of the individuals that were at the Titanic, how many survived and who survived.\n",
    "\n",
    "Please download the titanic.csv file from the Google Drive into your computer and load it\n",
    "using Pandas.\n",
    "\n",
    "This dataset is a partial dataset used as the training set on Kaggle's Titanic challenge.\n",
    "\n",
    "###  NOTE: Open this notebook in Jupiter and make a copy of it (File ->  Make a copy). Work on the copied notebook so you can use the original notebook as a reference for the expected results.\n",
    " \n",
    "I recommend you to try to repeat the same analysis we make here using R :-)\n",
    " "
   ]
  },
  {
   "cell_type": "code",
   "execution_count": 1,
   "metadata": {},
   "outputs": [],
   "source": [
    "import numpy as np\n",
    "import pandas as pd\n",
    "import matplotlib.pyplot as plt\n",
    "import seaborn as sns"
   ]
  },
  {
   "cell_type": "code",
<<<<<<< HEAD
   "execution_count": 4,
=======
   "execution_count": 61,
>>>>>>> 1d8545e97f1a33334d30eccbad9b82a4236238e2
   "metadata": {},
   "outputs": [],
   "source": [
    "### change this to the path you downloded the file\n",
<<<<<<< HEAD
    "path = \"C:/Users/Xnes/DataScience/data/titanic.csv\""
=======
    "path = \"/home/dsuser13/DataScience/data/titanic.csv\""
>>>>>>> 1d8545e97f1a33334d30eccbad9b82a4236238e2
   ]
  },
  {
   "cell_type": "code",
<<<<<<< HEAD
   "execution_count": 5,
   "metadata": {},
=======
   "execution_count": 62,
   "metadata": {
    "scrolled": true
   },
>>>>>>> 1d8545e97f1a33334d30eccbad9b82a4236238e2
   "outputs": [
    {
     "data": {
      "text/html": [
       "<div>\n",
       "<style scoped>\n",
       "    .dataframe tbody tr th:only-of-type {\n",
       "        vertical-align: middle;\n",
       "    }\n",
       "\n",
       "    .dataframe tbody tr th {\n",
       "        vertical-align: top;\n",
       "    }\n",
       "\n",
       "    .dataframe thead th {\n",
       "        text-align: right;\n",
       "    }\n",
       "</style>\n",
       "<table border=\"1\" class=\"dataframe\">\n",
       "  <thead>\n",
       "    <tr style=\"text-align: right;\">\n",
       "      <th></th>\n",
       "      <th>PassengerId</th>\n",
       "      <th>Survived</th>\n",
       "      <th>Pclass</th>\n",
       "      <th>Name</th>\n",
       "      <th>Sex</th>\n",
       "      <th>Age</th>\n",
       "      <th>SibSp</th>\n",
       "      <th>Parch</th>\n",
       "      <th>Ticket</th>\n",
       "      <th>Fare</th>\n",
       "      <th>Cabin</th>\n",
       "      <th>Embarked</th>\n",
       "    </tr>\n",
       "  </thead>\n",
       "  <tbody>\n",
       "    <tr>\n",
<<<<<<< HEAD
       "      <th>0</th>\n",
=======
       "      <td>0</td>\n",
>>>>>>> 1d8545e97f1a33334d30eccbad9b82a4236238e2
       "      <td>1</td>\n",
       "      <td>0</td>\n",
       "      <td>3</td>\n",
       "      <td>Braund, Mr. Owen Harris</td>\n",
       "      <td>male</td>\n",
       "      <td>22.0</td>\n",
       "      <td>1</td>\n",
       "      <td>0</td>\n",
       "      <td>A/5 21171</td>\n",
       "      <td>7.2500</td>\n",
       "      <td>NaN</td>\n",
       "      <td>S</td>\n",
       "    </tr>\n",
       "    <tr>\n",
<<<<<<< HEAD
       "      <th>1</th>\n",
=======
       "      <td>1</td>\n",
>>>>>>> 1d8545e97f1a33334d30eccbad9b82a4236238e2
       "      <td>2</td>\n",
       "      <td>1</td>\n",
       "      <td>1</td>\n",
       "      <td>Cumings, Mrs. John Bradley (Florence Briggs Th...</td>\n",
       "      <td>female</td>\n",
       "      <td>38.0</td>\n",
       "      <td>1</td>\n",
       "      <td>0</td>\n",
       "      <td>PC 17599</td>\n",
       "      <td>71.2833</td>\n",
       "      <td>C85</td>\n",
       "      <td>C</td>\n",
       "    </tr>\n",
       "    <tr>\n",
<<<<<<< HEAD
       "      <th>2</th>\n",
=======
       "      <td>2</td>\n",
>>>>>>> 1d8545e97f1a33334d30eccbad9b82a4236238e2
       "      <td>3</td>\n",
       "      <td>1</td>\n",
       "      <td>3</td>\n",
       "      <td>Heikkinen, Miss. Laina</td>\n",
       "      <td>female</td>\n",
       "      <td>26.0</td>\n",
       "      <td>0</td>\n",
       "      <td>0</td>\n",
       "      <td>STON/O2. 3101282</td>\n",
       "      <td>7.9250</td>\n",
       "      <td>NaN</td>\n",
       "      <td>S</td>\n",
       "    </tr>\n",
       "    <tr>\n",
<<<<<<< HEAD
       "      <th>3</th>\n",
=======
       "      <td>3</td>\n",
>>>>>>> 1d8545e97f1a33334d30eccbad9b82a4236238e2
       "      <td>4</td>\n",
       "      <td>1</td>\n",
       "      <td>1</td>\n",
       "      <td>Futrelle, Mrs. Jacques Heath (Lily May Peel)</td>\n",
       "      <td>female</td>\n",
       "      <td>35.0</td>\n",
       "      <td>1</td>\n",
       "      <td>0</td>\n",
       "      <td>113803</td>\n",
       "      <td>53.1000</td>\n",
       "      <td>C123</td>\n",
       "      <td>S</td>\n",
       "    </tr>\n",
       "    <tr>\n",
<<<<<<< HEAD
       "      <th>4</th>\n",
=======
       "      <td>4</td>\n",
>>>>>>> 1d8545e97f1a33334d30eccbad9b82a4236238e2
       "      <td>5</td>\n",
       "      <td>0</td>\n",
       "      <td>3</td>\n",
       "      <td>Allen, Mr. William Henry</td>\n",
       "      <td>male</td>\n",
       "      <td>35.0</td>\n",
       "      <td>0</td>\n",
       "      <td>0</td>\n",
       "      <td>373450</td>\n",
       "      <td>8.0500</td>\n",
       "      <td>NaN</td>\n",
       "      <td>S</td>\n",
       "    </tr>\n",
       "  </tbody>\n",
       "</table>\n",
       "</div>"
      ],
      "text/plain": [
       "   PassengerId  Survived  Pclass  \\\n",
       "0            1         0       3   \n",
       "1            2         1       1   \n",
       "2            3         1       3   \n",
       "3            4         1       1   \n",
       "4            5         0       3   \n",
       "\n",
       "                                                Name     Sex   Age  SibSp  \\\n",
       "0                            Braund, Mr. Owen Harris    male  22.0      1   \n",
       "1  Cumings, Mrs. John Bradley (Florence Briggs Th...  female  38.0      1   \n",
       "2                             Heikkinen, Miss. Laina  female  26.0      0   \n",
       "3       Futrelle, Mrs. Jacques Heath (Lily May Peel)  female  35.0      1   \n",
       "4                           Allen, Mr. William Henry    male  35.0      0   \n",
       "\n",
       "   Parch            Ticket     Fare Cabin Embarked  \n",
       "0      0         A/5 21171   7.2500   NaN        S  \n",
       "1      0          PC 17599  71.2833   C85        C  \n",
       "2      0  STON/O2. 3101282   7.9250   NaN        S  \n",
       "3      0            113803  53.1000  C123        S  \n",
       "4      0            373450   8.0500   NaN        S  "
      ]
     },
<<<<<<< HEAD
     "execution_count": 5,
=======
     "execution_count": 62,
>>>>>>> 1d8545e97f1a33334d30eccbad9b82a4236238e2
     "metadata": {},
     "output_type": "execute_result"
    }
   ],
   "source": [
    "### user pandas to read the csv (read_csv())\n",
    "### show the top rows\n",
    "\n",
    "titanic = pd.read_csv(path)\n",
    "titanic.head()"
   ]
  },
  {
   "cell_type": "markdown",
   "metadata": {},
   "source": [
    "#### Columns\n",
    " \n",
    "Those the descriptions of the variables in this dataset:\n",
    "\n",
    "<table>\n",
    "    <tr><th> PassengerId </th><td> type should be integers </td></tr>\n",
    "    <tr><th> Survived </th><td> Survived or Not </td></tr>\n",
    "    <tr><th> Pclass </th><td> Class of Travel </td></tr>\n",
    "    <tr><th> Name </th><td> Name of Passenger </td></tr>\n",
    "    <tr><th> Sex </th><td> Gender </td></tr>\n",
    "    <tr><th> Age </th><td> </td></tr>\n",
    "    <tr><th> SibSp </th><td> Number of Sibling/Spouse abord </td></tr>\n",
    "    <tr><th> Parch </th><td> Number of Parent/Child abord </td></tr>\n",
    "    <tr><th> Ticket </th><td> </td></tr>\n",
    "    <tr><th> Fare </th><td> </td></tr>\n",
    "    <tr><th> Cabin </th><td> </td></tr>\n",
    "    <tr><th> Embarked </th><td> The port in which a passenger has embarked. <br> C - Cherbourg, S - Southampton, Q = Queenstown </td></tr>\n",
    "</table>\n"
   ]
  },
  {
   "cell_type": "markdown",
   "metadata": {},
   "source": [
    "#### Passangers and Survival\n",
    " \n",
    "First, lets check how many passangers are on the Titanic's dataset and how many of them survived?"
   ]
  },
  {
   "cell_type": "code",
<<<<<<< HEAD
   "execution_count": 213,
=======
   "execution_count": 5,
>>>>>>> 1d8545e97f1a33334d30eccbad9b82a4236238e2
   "metadata": {},
   "outputs": [
    {
     "name": "stdout",
     "output_type": "stream",
     "text": [
      "We have 891 passangers but only 342 of them survived (38.383838%)\n"
     ]
    }
   ],
   "source": [
<<<<<<< HEAD
    "passangers = count\n",
    "survived = \n",
=======
    "passangers = len(titanic)\n",
    "survived = sum(titanic.Survived)\n",
>>>>>>> 1d8545e97f1a33334d30eccbad9b82a4236238e2
    "\n",
    "print(\"We have %d passangers but only %d of them survived (%f%%)\" % (passangers, survived, (survived/passangers*100)))\n",
    "\n"
   ]
  },
  {
   "cell_type": "markdown",
   "metadata": {},
   "source": [
    "Answer: We have 891 passangers but only 342 of them survived (38.383838%)"
   ]
  },
  {
   "cell_type": "markdown",
   "metadata": {},
   "source": [
    "#### Missing values\n",
    " \n",
    "How many missing values are in the dataset?"
   ]
  },
  {
   "cell_type": "code",
<<<<<<< HEAD
   "execution_count": 214,
=======
   "execution_count": 6,
>>>>>>> 1d8545e97f1a33334d30eccbad9b82a4236238e2
   "metadata": {},
   "outputs": [
    {
     "data": {
      "text/plain": [
       "PassengerId      0\n",
       "Survived         0\n",
       "Pclass           0\n",
       "Name             0\n",
       "Sex              0\n",
       "Age            177\n",
       "SibSp            0\n",
       "Parch            0\n",
       "Ticket           0\n",
       "Fare             0\n",
       "Cabin          687\n",
       "Embarked         2\n",
       "dtype: int64"
      ]
     },
<<<<<<< HEAD
     "execution_count": 214,
=======
     "execution_count": 6,
>>>>>>> 1d8545e97f1a33334d30eccbad9b82a4236238e2
     "metadata": {},
     "output_type": "execute_result"
    }
   ],
   "source": [
    "### use the function isnull() and the function sum()\n",
<<<<<<< HEAD
    "titanic."
=======
    "titanic.isnull().sum()"
>>>>>>> 1d8545e97f1a33334d30eccbad9b82a4236238e2
   ]
  },
  {
   "cell_type": "markdown",
   "metadata": {},
   "source": [
    "Answer: The only variables having missing values are: Age (177), Cabin (687) and Emberked (2)"
   ]
  },
  {
   "cell_type": "markdown",
   "metadata": {},
   "source": [
    "#### Gender distribution and survival\n",
    "\n",
    "How distributed the survivors by gender?"
   ]
  },
  {
   "cell_type": "code",
   "execution_count": 215,
   "metadata": {},
   "outputs": [
    {
     "data": {
      "text/html": [
       "<div>\n",
       "<style>\n",
       "    .dataframe thead tr:only-child th {\n",
       "        text-align: right;\n",
       "    }\n",
       "\n",
       "    .dataframe thead th {\n",
       "        text-align: left;\n",
       "    }\n",
       "\n",
       "    .dataframe tbody tr th {\n",
       "        vertical-align: top;\n",
       "    }\n",
       "</style>\n",
       "<table border=\"1\" class=\"dataframe\">\n",
       "  <thead>\n",
       "    <tr>\n",
       "      <th></th>\n",
       "      <th colspan=\"3\" halign=\"left\">Survived</th>\n",
       "    </tr>\n",
       "    <tr>\n",
       "      <th></th>\n",
       "      <th>count</th>\n",
       "      <th>sum</th>\n",
       "      <th>mean</th>\n",
       "    </tr>\n",
       "    <tr>\n",
       "      <th>Sex</th>\n",
       "      <th></th>\n",
       "      <th></th>\n",
       "      <th></th>\n",
       "    </tr>\n",
       "  </thead>\n",
       "  <tbody>\n",
       "    <tr>\n",
       "      <th>female</th>\n",
       "      <td>314</td>\n",
       "      <td>233</td>\n",
       "      <td>0.742038</td>\n",
       "    </tr>\n",
       "    <tr>\n",
       "      <th>male</th>\n",
       "      <td>577</td>\n",
       "      <td>109</td>\n",
       "      <td>0.188908</td>\n",
       "    </tr>\n",
       "  </tbody>\n",
       "</table>\n",
       "</div>"
      ],
      "text/plain": [
       "       Survived               \n",
       "          count  sum      mean\n",
       "Sex                           \n",
       "female      314  233  0.742038\n",
       "male        577  109  0.188908"
      ]
     },
     "execution_count": 215,
     "metadata": {},
     "output_type": "execute_result"
    }
   ],
   "source": [
    "## use groupby() and agg() to get the table bellow\n",
    "titanic.groupby('Sex').agg({'Survived':['count',sum,'mean']})"
   ]
  },
  {
   "cell_type": "markdown",
   "metadata": {},
   "source": [
    "Survived\n",
    "\n",
    "Sex\t\tcount\tsum\tmean\n",
    "female\t  314\t233\t0.742038\n",
    "male\t  577\t109\t0.188908\n",
    "\n"
   ]
  },
  {
   "cell_type": "markdown",
   "metadata": {},
   "source": [
    "#### Age distribution and survival\n",
    "\n",
    "Plot the Age frequencies of the passangers. (use an histogram)\n"
   ]
  },
  {
   "cell_type": "code",
   "execution_count": 216,
   "metadata": {},
   "outputs": [
    {
     "data": {
      "text/plain": [
       "count    714.000000\n",
       "mean      29.699118\n",
       "std       14.526497\n",
       "min        0.420000\n",
       "25%       20.125000\n",
       "50%       28.000000\n",
       "75%       38.000000\n",
       "max       80.000000\n",
       "Name: Age, dtype: float64"
      ]
     },
     "execution_count": 216,
     "metadata": {},
     "output_type": "execute_result"
    }
   ],
   "source": [
    "titanic['Age'].describe()"
   ]
  },
  {
   "cell_type": "code",
   "execution_count": 217,
   "metadata": {},
   "outputs": [
    {
     "data": {
      "image/png": "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\n",
      "text/plain": [
       "<Figure size 432x288 with 1 Axes>"
      ]
     },
     "metadata": {},
     "output_type": "display_data"
    }
   ],
   "source": [
    "### As there are null values in Age, we have to drop those nulls adding the .dropna() function !\n",
    "fig, ax = plt.subplots()\n",
    "ax.hist(x=titanic['Age'].dropna())\n",
    "plt.show()"
   ]
  },
  {
   "cell_type": "code",
<<<<<<< HEAD
   "execution_count": 218,
=======
   "execution_count": 8,
>>>>>>> 1d8545e97f1a33334d30eccbad9b82a4236238e2
   "metadata": {},
   "outputs": [
    {
     "data": {
      "text/plain": [
       "(0.0, 100.0)"
      ]
     },
<<<<<<< HEAD
     "execution_count": 218,
=======
     "execution_count": 8,
>>>>>>> 1d8545e97f1a33334d30eccbad9b82a4236238e2
     "metadata": {},
     "output_type": "execute_result"
    },
    {
     "data": {
<<<<<<< HEAD
      "image/png": "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\n",
=======
      "image/png": "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\n",
>>>>>>> 1d8545e97f1a33334d30eccbad9b82a4236238e2
      "text/plain": [
       "<Figure size 432x288 with 1 Axes>"
      ]
     },
<<<<<<< HEAD
     "metadata": {},
=======
     "metadata": {
      "needs_background": "light"
     },
>>>>>>> 1d8545e97f1a33334d30eccbad9b82a4236238e2
     "output_type": "display_data"
    }
   ],
   "source": [
    "### A more sophisticated example...\n",
    "n, bins, patches = plt.hist(x=titanic['Age'].dropna(), bins='auto', color='#0504aa',alpha=0.7, rwidth=0.85)\n",
    "plt.grid(axis='y', alpha=0.75)\n",
    "plt.xlabel('Age')\n",
    "plt.ylabel('Frequency')\n",
    "plt.title('Age Distribution of the Titanic Passengers')\n",
    "maxfreq = n.max()\n",
    "# Set a clean upper y-axis limit.\n",
    "plt.ylim(ymax=np.ceil(maxfreq / 10) * 10 if maxfreq % 10 else maxfreq + 10)\n"
   ]
  },
  {
   "cell_type": "code",
<<<<<<< HEAD
   "execution_count": 219,
=======
   "execution_count": 12,
>>>>>>> 1d8545e97f1a33334d30eccbad9b82a4236238e2
   "metadata": {},
   "outputs": [
    {
     "data": {
      "text/plain": [
<<<<<<< HEAD
       "<matplotlib.axes._subplots.AxesSubplot at 0x7faa259ecba8>"
      ]
     },
     "execution_count": 219,
=======
       "<matplotlib.axes._subplots.AxesSubplot at 0x7f2122a70898>"
      ]
     },
     "execution_count": 12,
>>>>>>> 1d8545e97f1a33334d30eccbad9b82a4236238e2
     "metadata": {},
     "output_type": "execute_result"
    },
    {
     "data": {
<<<<<<< HEAD
      "image/png": "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\n",
=======
      "image/png": "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\n",
>>>>>>> 1d8545e97f1a33334d30eccbad9b82a4236238e2
      "text/plain": [
       "<Figure size 432x288 with 1 Axes>"
      ]
     },
<<<<<<< HEAD
     "metadata": {},
=======
     "metadata": {
      "needs_background": "light"
     },
>>>>>>> 1d8545e97f1a33334d30eccbad9b82a4236238e2
     "output_type": "display_data"
    }
   ],
   "source": [
    "### using seaborn... easier to create...\n",
<<<<<<< HEAD
    "sns.distplot(...)"
=======
    "sns.distplot(titanic.Age.dropna())"
>>>>>>> 1d8545e97f1a33334d30eccbad9b82a4236238e2
   ]
  },
  {
   "cell_type": "markdown",
   "metadata": {},
   "source": [
    "\n",
    "Create a new variable that will divide the passangers in four age categories:\n",
    "\n",
    "- Babies: 0-5\n",
    "- Children: 6-12 years old\n",
    "- Young: 13-17 years old\n",
    "- Adult: 18-59 years old\n",
    "- Older: 60+ years old\n",
    "\n",
    "How many (number and percent) survived on each age group? (We will use the mean function as the percentage)\n"
   ]
  },
  {
   "cell_type": "code",
<<<<<<< HEAD
   "execution_count": 220,
=======
   "execution_count": 16,
>>>>>>> 1d8545e97f1a33334d30eccbad9b82a4236238e2
   "metadata": {},
   "outputs": [],
   "source": [
    "### create the categorical variables\n",
    "titanic['AgeGroup'] = '18-59'\n",
<<<<<<< HEAD
    "\n",
    "... your code\n"
=======
    "titanic['AgeGroup']\n",
    "titanic.loc[(titanic['Age']<6),'AgeGroup']='0-5'\n",
    "titanic.loc[((titanic['Age']>=6)&(titanic['Age']<13)),'AgeGroup']='6-12'\n",
    "titanic.loc[((titanic['Age']>=13)&(titanic['Age']<18)),'AgeGroup']='13-17'\n",
    "titanic.loc[(titanic['Age']>=60),'AgeGroup']='60+'\n",
    "\n",
    "\n"
>>>>>>> 1d8545e97f1a33334d30eccbad9b82a4236238e2
   ]
  },
  {
   "cell_type": "code",
<<<<<<< HEAD
   "execution_count": 222,
=======
   "execution_count": 17,
>>>>>>> 1d8545e97f1a33334d30eccbad9b82a4236238e2
   "metadata": {},
   "outputs": [
    {
     "data": {
      "text/html": [
       "<div>\n",
<<<<<<< HEAD
       "<style>\n",
       "    .dataframe thead tr:only-child th {\n",
       "        text-align: right;\n",
       "    }\n",
       "\n",
       "    .dataframe thead th {\n",
       "        text-align: left;\n",
       "    }\n",
       "\n",
       "    .dataframe tbody tr th {\n",
       "        vertical-align: top;\n",
=======
       "<style scoped>\n",
       "    .dataframe tbody tr th:only-of-type {\n",
       "        vertical-align: middle;\n",
       "    }\n",
       "\n",
       "    .dataframe tbody tr th {\n",
       "        vertical-align: top;\n",
       "    }\n",
       "\n",
       "    .dataframe thead tr th {\n",
       "        text-align: left;\n",
       "    }\n",
       "\n",
       "    .dataframe thead tr:last-of-type th {\n",
       "        text-align: right;\n",
>>>>>>> 1d8545e97f1a33334d30eccbad9b82a4236238e2
       "    }\n",
       "</style>\n",
       "<table border=\"1\" class=\"dataframe\">\n",
       "  <thead>\n",
       "    <tr>\n",
       "      <th></th>\n",
       "      <th colspan=\"3\" halign=\"left\">Survived</th>\n",
       "    </tr>\n",
       "    <tr>\n",
       "      <th></th>\n",
       "      <th>count</th>\n",
       "      <th>sum</th>\n",
       "      <th>mean</th>\n",
       "    </tr>\n",
       "    <tr>\n",
       "      <th>AgeGroup</th>\n",
       "      <th></th>\n",
       "      <th></th>\n",
       "      <th></th>\n",
       "    </tr>\n",
       "  </thead>\n",
       "  <tbody>\n",
       "    <tr>\n",
<<<<<<< HEAD
       "      <th>0-5</th>\n",
=======
       "      <td>0-5</td>\n",
>>>>>>> 1d8545e97f1a33334d30eccbad9b82a4236238e2
       "      <td>44</td>\n",
       "      <td>31</td>\n",
       "      <td>0.704545</td>\n",
       "    </tr>\n",
       "    <tr>\n",
<<<<<<< HEAD
       "      <th>6-12</th>\n",
       "      <td>25</td>\n",
       "      <td>9</td>\n",
       "      <td>0.360000</td>\n",
       "    </tr>\n",
       "    <tr>\n",
       "      <th>13-17</th>\n",
=======
       "      <td>13-17</td>\n",
>>>>>>> 1d8545e97f1a33334d30eccbad9b82a4236238e2
       "      <td>44</td>\n",
       "      <td>21</td>\n",
       "      <td>0.477273</td>\n",
       "    </tr>\n",
       "    <tr>\n",
<<<<<<< HEAD
       "      <th>18-59</th>\n",
=======
       "      <td>18-59</td>\n",
>>>>>>> 1d8545e97f1a33334d30eccbad9b82a4236238e2
       "      <td>752</td>\n",
       "      <td>274</td>\n",
       "      <td>0.364362</td>\n",
       "    </tr>\n",
       "    <tr>\n",
<<<<<<< HEAD
       "      <th>60+</th>\n",
=======
       "      <td>6-12</td>\n",
       "      <td>25</td>\n",
       "      <td>9</td>\n",
       "      <td>0.360000</td>\n",
       "    </tr>\n",
       "    <tr>\n",
       "      <td>60+</td>\n",
>>>>>>> 1d8545e97f1a33334d30eccbad9b82a4236238e2
       "      <td>26</td>\n",
       "      <td>7</td>\n",
       "      <td>0.269231</td>\n",
       "    </tr>\n",
       "  </tbody>\n",
       "</table>\n",
       "</div>"
      ],
      "text/plain": [
       "         Survived               \n",
       "            count  sum      mean\n",
       "AgeGroup                        \n",
<<<<<<< HEAD
       " 0-5           44   31  0.704545\n",
       " 6-12          25    9  0.360000\n",
       "13-17          44   21  0.477273\n",
       "18-59         752  274  0.364362\n",
       "60+            26    7  0.269231"
      ]
     },
     "execution_count": 222,
=======
       "0-5            44   31  0.704545\n",
       "13-17          44   21  0.477273\n",
       "18-59         752  274  0.364362\n",
       "6-12           25    9  0.360000\n",
       "60+            26    7  0.269231"
      ]
     },
     "execution_count": 17,
>>>>>>> 1d8545e97f1a33334d30eccbad9b82a4236238e2
     "metadata": {},
     "output_type": "execute_result"
    }
   ],
   "source": [
    "## use groupby() and agg() to get the table bellow\n",
<<<<<<< HEAD
    "titanic.groupby(...).agg(...)"
=======
    "titanic.groupby('AgeGroup').agg({\"Survived\":['count',sum,'mean']})"
>>>>>>> 1d8545e97f1a33334d30eccbad9b82a4236238e2
   ]
  },
  {
   "cell_type": "markdown",
   "metadata": {},
   "source": [
    "\tSurvived\n",
    "\n",
    "AgeGroup count\tsum\tmean\t\t\t\n",
    "0-5\t      44\t31\t0.704545\n",
    "6-12\t  25\t9\t0.360000\n",
    "13-17\t  44\t21\t0.477273\n",
    "18-59\t  752\t274\t0.364362\n",
    "60+\t      26\t7\t0.269231"
   ]
  },
  {
   "cell_type": "markdown",
   "metadata": {},
   "source": [
    "#### Age-Gender Survival\n",
    "\n",
    "Where there differences on survival by age group and gender?"
   ]
  },
  {
   "cell_type": "code",
<<<<<<< HEAD
   "execution_count": 223,
=======
   "execution_count": 25,
>>>>>>> 1d8545e97f1a33334d30eccbad9b82a4236238e2
   "metadata": {},
   "outputs": [
    {
     "data": {
      "text/html": [
       "<div>\n",
<<<<<<< HEAD
       "<style>\n",
       "    .dataframe thead tr:only-child th {\n",
       "        text-align: right;\n",
       "    }\n",
       "\n",
       "    .dataframe thead th {\n",
       "        text-align: left;\n",
       "    }\n",
       "\n",
       "    .dataframe tbody tr th {\n",
       "        vertical-align: top;\n",
=======
       "<style scoped>\n",
       "    .dataframe tbody tr th:only-of-type {\n",
       "        vertical-align: middle;\n",
       "    }\n",
       "\n",
       "    .dataframe tbody tr th {\n",
       "        vertical-align: top;\n",
       "    }\n",
       "\n",
       "    .dataframe thead tr th {\n",
       "        text-align: left;\n",
       "    }\n",
       "\n",
       "    .dataframe thead tr:last-of-type th {\n",
       "        text-align: right;\n",
>>>>>>> 1d8545e97f1a33334d30eccbad9b82a4236238e2
       "    }\n",
       "</style>\n",
       "<table border=\"1\" class=\"dataframe\">\n",
       "  <thead>\n",
       "    <tr>\n",
       "      <th></th>\n",
       "      <th></th>\n",
       "      <th colspan=\"3\" halign=\"left\">Survived</th>\n",
       "    </tr>\n",
       "    <tr>\n",
       "      <th></th>\n",
       "      <th></th>\n",
       "      <th>count</th>\n",
       "      <th>sum</th>\n",
       "      <th>mean</th>\n",
       "    </tr>\n",
       "    <tr>\n",
       "      <th>Sex</th>\n",
       "      <th>AgeGroup</th>\n",
       "      <th></th>\n",
       "      <th></th>\n",
       "      <th></th>\n",
       "    </tr>\n",
       "  </thead>\n",
       "  <tbody>\n",
       "    <tr>\n",
<<<<<<< HEAD
       "      <th rowspan=\"5\" valign=\"top\">female</th>\n",
       "      <th>0-5</th>\n",
=======
       "      <td rowspan=\"5\" valign=\"top\">female</td>\n",
       "      <td>0-5</td>\n",
>>>>>>> 1d8545e97f1a33334d30eccbad9b82a4236238e2
       "      <td>21</td>\n",
       "      <td>16</td>\n",
       "      <td>0.761905</td>\n",
       "    </tr>\n",
       "    <tr>\n",
<<<<<<< HEAD
       "      <th>6-12</th>\n",
       "      <td>11</td>\n",
       "      <td>3</td>\n",
       "      <td>0.272727</td>\n",
       "    </tr>\n",
       "    <tr>\n",
       "      <th>13-17</th>\n",
=======
       "      <td>13-17</td>\n",
>>>>>>> 1d8545e97f1a33334d30eccbad9b82a4236238e2
       "      <td>23</td>\n",
       "      <td>19</td>\n",
       "      <td>0.826087</td>\n",
       "    </tr>\n",
       "    <tr>\n",
<<<<<<< HEAD
       "      <th>18-59</th>\n",
=======
       "      <td>18-59</td>\n",
>>>>>>> 1d8545e97f1a33334d30eccbad9b82a4236238e2
       "      <td>255</td>\n",
       "      <td>191</td>\n",
       "      <td>0.749020</td>\n",
       "    </tr>\n",
       "    <tr>\n",
<<<<<<< HEAD
       "      <th>60+</th>\n",
=======
       "      <td>6-12</td>\n",
       "      <td>11</td>\n",
       "      <td>3</td>\n",
       "      <td>0.272727</td>\n",
       "    </tr>\n",
       "    <tr>\n",
       "      <td>60+</td>\n",
>>>>>>> 1d8545e97f1a33334d30eccbad9b82a4236238e2
       "      <td>4</td>\n",
       "      <td>4</td>\n",
       "      <td>1.000000</td>\n",
       "    </tr>\n",
       "    <tr>\n",
<<<<<<< HEAD
       "      <th rowspan=\"5\" valign=\"top\">male</th>\n",
       "      <th>0-5</th>\n",
=======
       "      <td rowspan=\"5\" valign=\"top\">male</td>\n",
       "      <td>0-5</td>\n",
>>>>>>> 1d8545e97f1a33334d30eccbad9b82a4236238e2
       "      <td>23</td>\n",
       "      <td>15</td>\n",
       "      <td>0.652174</td>\n",
       "    </tr>\n",
       "    <tr>\n",
<<<<<<< HEAD
       "      <th>6-12</th>\n",
       "      <td>14</td>\n",
       "      <td>6</td>\n",
       "      <td>0.428571</td>\n",
       "    </tr>\n",
       "    <tr>\n",
       "      <th>13-17</th>\n",
=======
       "      <td>13-17</td>\n",
>>>>>>> 1d8545e97f1a33334d30eccbad9b82a4236238e2
       "      <td>21</td>\n",
       "      <td>2</td>\n",
       "      <td>0.095238</td>\n",
       "    </tr>\n",
       "    <tr>\n",
<<<<<<< HEAD
       "      <th>18-59</th>\n",
=======
       "      <td>18-59</td>\n",
>>>>>>> 1d8545e97f1a33334d30eccbad9b82a4236238e2
       "      <td>497</td>\n",
       "      <td>83</td>\n",
       "      <td>0.167002</td>\n",
       "    </tr>\n",
       "    <tr>\n",
<<<<<<< HEAD
       "      <th>60+</th>\n",
=======
       "      <td>6-12</td>\n",
       "      <td>14</td>\n",
       "      <td>6</td>\n",
       "      <td>0.428571</td>\n",
       "    </tr>\n",
       "    <tr>\n",
       "      <td>60+</td>\n",
>>>>>>> 1d8545e97f1a33334d30eccbad9b82a4236238e2
       "      <td>22</td>\n",
       "      <td>3</td>\n",
       "      <td>0.136364</td>\n",
       "    </tr>\n",
       "  </tbody>\n",
       "</table>\n",
       "</div>"
      ],
      "text/plain": [
       "                Survived               \n",
       "                   count  sum      mean\n",
       "Sex    AgeGroup                        \n",
<<<<<<< HEAD
       "female  0-5           21   16  0.761905\n",
       "        6-12          11    3  0.272727\n",
       "       13-17          23   19  0.826087\n",
       "       18-59         255  191  0.749020\n",
       "       60+             4    4  1.000000\n",
       "male    0-5           23   15  0.652174\n",
       "        6-12          14    6  0.428571\n",
       "       13-17          21    2  0.095238\n",
       "       18-59         497   83  0.167002\n",
       "       60+            22    3  0.136364"
      ]
     },
     "execution_count": 223,
=======
       "female 0-5            21   16  0.761905\n",
       "       13-17          23   19  0.826087\n",
       "       18-59         255  191  0.749020\n",
       "       6-12           11    3  0.272727\n",
       "       60+             4    4  1.000000\n",
       "male   0-5            23   15  0.652174\n",
       "       13-17          21    2  0.095238\n",
       "       18-59         497   83  0.167002\n",
       "       6-12           14    6  0.428571\n",
       "       60+            22    3  0.136364"
      ]
     },
     "execution_count": 25,
>>>>>>> 1d8545e97f1a33334d30eccbad9b82a4236238e2
     "metadata": {},
     "output_type": "execute_result"
    }
   ],
   "source": [
    "## use groupby() and agg() to get the table bellow\n",
<<<<<<< HEAD
    "titanic.groupby(...).agg(...)"
=======
    "titanic.groupby(['Sex','AgeGroup']).agg({\"Survived\":['count',sum,'mean']})"
>>>>>>> 1d8545e97f1a33334d30eccbad9b82a4236238e2
   ]
  },
  {
   "cell_type": "markdown",
   "metadata": {},
   "source": [
    "Survived\n",
    "\n",
    "Sex\t  AgeGroup count\tsum\tmean\t\t\n",
    "female\t0-5\t    21\t    16\t0.761905\n",
    "        6-12\t11\t    3\t0.272727\n",
    "        13-17\t23\t    19\t0.826087\n",
    "        18-59\t255\t    191\t0.749020\n",
    "        60+\t    4\t    4\t1.000000\n",
    "male\t0-5\t    23\t    15\t0.652174\n",
    "        6-12\t14\t    6\t0.428571\n",
    "        13-17\t21\t    2\t0.095238\n",
    "        18-59\t497\t    83\t0.167002\n",
    "        60+\t    22\t    3\t0.136364"
   ]
  },
  {
   "cell_type": "markdown",
   "metadata": {},
   "source": [
    "#### Passenger Class and Survival\n",
    "\n",
    "Was there any difference in the survival among passangers by their ticket class (Pclass) ?"
   ]
  },
  {
   "cell_type": "code",
<<<<<<< HEAD
   "execution_count": 224,
=======
   "execution_count": 26,
>>>>>>> 1d8545e97f1a33334d30eccbad9b82a4236238e2
   "metadata": {},
   "outputs": [
    {
     "data": {
      "text/html": [
       "<div>\n",
<<<<<<< HEAD
       "<style>\n",
       "    .dataframe thead tr:only-child th {\n",
       "        text-align: right;\n",
       "    }\n",
       "\n",
       "    .dataframe thead th {\n",
       "        text-align: left;\n",
       "    }\n",
       "\n",
       "    .dataframe tbody tr th {\n",
       "        vertical-align: top;\n",
=======
       "<style scoped>\n",
       "    .dataframe tbody tr th:only-of-type {\n",
       "        vertical-align: middle;\n",
       "    }\n",
       "\n",
       "    .dataframe tbody tr th {\n",
       "        vertical-align: top;\n",
       "    }\n",
       "\n",
       "    .dataframe thead tr th {\n",
       "        text-align: left;\n",
       "    }\n",
       "\n",
       "    .dataframe thead tr:last-of-type th {\n",
       "        text-align: right;\n",
>>>>>>> 1d8545e97f1a33334d30eccbad9b82a4236238e2
       "    }\n",
       "</style>\n",
       "<table border=\"1\" class=\"dataframe\">\n",
       "  <thead>\n",
       "    <tr>\n",
       "      <th></th>\n",
       "      <th colspan=\"3\" halign=\"left\">Survived</th>\n",
       "    </tr>\n",
       "    <tr>\n",
       "      <th></th>\n",
       "      <th>count</th>\n",
       "      <th>sum</th>\n",
       "      <th>mean</th>\n",
       "    </tr>\n",
       "    <tr>\n",
       "      <th>Pclass</th>\n",
       "      <th></th>\n",
       "      <th></th>\n",
       "      <th></th>\n",
       "    </tr>\n",
       "  </thead>\n",
       "  <tbody>\n",
       "    <tr>\n",
<<<<<<< HEAD
       "      <th>1</th>\n",
=======
       "      <td>1</td>\n",
>>>>>>> 1d8545e97f1a33334d30eccbad9b82a4236238e2
       "      <td>216</td>\n",
       "      <td>136</td>\n",
       "      <td>0.629630</td>\n",
       "    </tr>\n",
       "    <tr>\n",
<<<<<<< HEAD
       "      <th>2</th>\n",
=======
       "      <td>2</td>\n",
>>>>>>> 1d8545e97f1a33334d30eccbad9b82a4236238e2
       "      <td>184</td>\n",
       "      <td>87</td>\n",
       "      <td>0.472826</td>\n",
       "    </tr>\n",
       "    <tr>\n",
<<<<<<< HEAD
       "      <th>3</th>\n",
=======
       "      <td>3</td>\n",
>>>>>>> 1d8545e97f1a33334d30eccbad9b82a4236238e2
       "      <td>491</td>\n",
       "      <td>119</td>\n",
       "      <td>0.242363</td>\n",
       "    </tr>\n",
       "  </tbody>\n",
       "</table>\n",
       "</div>"
      ],
      "text/plain": [
       "       Survived               \n",
       "          count  sum      mean\n",
       "Pclass                        \n",
       "1           216  136  0.629630\n",
       "2           184   87  0.472826\n",
       "3           491  119  0.242363"
      ]
     },
<<<<<<< HEAD
     "execution_count": 224,
=======
     "execution_count": 26,
>>>>>>> 1d8545e97f1a33334d30eccbad9b82a4236238e2
     "metadata": {},
     "output_type": "execute_result"
    }
   ],
   "source": [
    "## use groupby() and agg() to get the table bellow\n",
<<<<<<< HEAD
    "titanic.groupby(...).agg(...)"
=======
    "titanic.groupby('Pclass').agg({\"Survived\":['count',sum,'mean']})"
>>>>>>> 1d8545e97f1a33334d30eccbad9b82a4236238e2
   ]
  },
  {
   "cell_type": "markdown",
   "metadata": {},
   "source": [
    "Survived\n",
    "\n",
    "Pclass\tcount\tsum\tmean\t\t\n",
    "    1\t216\t    136\t0.629630\n",
    "    2\t184\t    87\t0.472826\n",
    "    3\t491\t    119\t0.242363\n"
   ]
  },
  {
   "cell_type": "markdown",
   "metadata": {},
   "source": [
    "#### Traveling alone vs with family\n",
    "\n",
    "Who survived more, individuals that traveled alone or those who traveled with their families?"
   ]
  },
  {
   "cell_type": "code",
<<<<<<< HEAD
   "execution_count": 225,
=======
   "execution_count": 32,
>>>>>>> 1d8545e97f1a33334d30eccbad9b82a4236238e2
   "metadata": {},
   "outputs": [
    {
     "data": {
      "text/html": [
       "<div>\n",
<<<<<<< HEAD
       "<style>\n",
       "    .dataframe thead tr:only-child th {\n",
       "        text-align: right;\n",
       "    }\n",
       "\n",
       "    .dataframe thead th {\n",
       "        text-align: left;\n",
       "    }\n",
       "\n",
       "    .dataframe tbody tr th {\n",
       "        vertical-align: top;\n",
=======
       "<style scoped>\n",
       "    .dataframe tbody tr th:only-of-type {\n",
       "        vertical-align: middle;\n",
       "    }\n",
       "\n",
       "    .dataframe tbody tr th {\n",
       "        vertical-align: top;\n",
       "    }\n",
       "\n",
       "    .dataframe thead tr th {\n",
       "        text-align: left;\n",
       "    }\n",
       "\n",
       "    .dataframe thead tr:last-of-type th {\n",
       "        text-align: right;\n",
>>>>>>> 1d8545e97f1a33334d30eccbad9b82a4236238e2
       "    }\n",
       "</style>\n",
       "<table border=\"1\" class=\"dataframe\">\n",
       "  <thead>\n",
       "    <tr>\n",
       "      <th></th>\n",
       "      <th colspan=\"3\" halign=\"left\">Survived</th>\n",
       "    </tr>\n",
       "    <tr>\n",
       "      <th></th>\n",
       "      <th>count</th>\n",
       "      <th>sum</th>\n",
       "      <th>mean</th>\n",
       "    </tr>\n",
       "    <tr>\n",
       "      <th>TravelAlone</th>\n",
       "      <th></th>\n",
       "      <th></th>\n",
       "      <th></th>\n",
       "    </tr>\n",
       "  </thead>\n",
       "  <tbody>\n",
       "    <tr>\n",
<<<<<<< HEAD
       "      <th>0</th>\n",
=======
       "      <td>0</td>\n",
>>>>>>> 1d8545e97f1a33334d30eccbad9b82a4236238e2
       "      <td>354</td>\n",
       "      <td>179</td>\n",
       "      <td>0.505650</td>\n",
       "    </tr>\n",
       "    <tr>\n",
<<<<<<< HEAD
       "      <th>1</th>\n",
=======
       "      <td>1</td>\n",
>>>>>>> 1d8545e97f1a33334d30eccbad9b82a4236238e2
       "      <td>537</td>\n",
       "      <td>163</td>\n",
       "      <td>0.303538</td>\n",
       "    </tr>\n",
       "  </tbody>\n",
       "</table>\n",
       "</div>"
      ],
      "text/plain": [
       "            Survived               \n",
       "               count  sum      mean\n",
       "TravelAlone                        \n",
       "0                354  179  0.505650\n",
       "1                537  163  0.303538"
      ]
     },
<<<<<<< HEAD
     "execution_count": 225,
=======
     "execution_count": 32,
>>>>>>> 1d8545e97f1a33334d30eccbad9b82a4236238e2
     "metadata": {},
     "output_type": "execute_result"
    }
   ],
   "source": [
    "# first we have to determine who was alone and who was in family. Use the variables SibSp and Parch\n",
    "titanic['TravelAlone'] = 0\n",
<<<<<<< HEAD
    "...\n",
    "\n",
    "\n",
    "## then use groupby() and agg() to get the table bellow\n",
    "titanic.groupby(...).agg(...)"
=======
    "titanic.loc[((titanic.SibSp==0)&(titanic.Parch==0)),'TravelAlone']=1\n",
    "\n",
    "\n",
    "## then use groupby() and agg() to get the table bellow\n",
    "titanic.groupby('TravelAlone').agg({\"Survived\":['count',sum,'mean']})"
>>>>>>> 1d8545e97f1a33334d30eccbad9b82a4236238e2
   ]
  },
  {
   "cell_type": "markdown",
   "metadata": {},
   "source": [
    "Survived\n",
    "\n",
    "TravelAlone\tcount\tsum\tmean\t\t\n",
    "    0\t     354\t179\t0.505650\n",
    "    1\t     537\t163\t0.303538"
   ]
  },
  {
   "cell_type": "markdown",
   "metadata": {},
   "source": [
    "#### Embarking port and survival\n",
    "\n",
    "Was there any difference in survival related to the embarking port?"
   ]
  },
  {
   "cell_type": "code",
<<<<<<< HEAD
   "execution_count": 226,
=======
   "execution_count": 33,
>>>>>>> 1d8545e97f1a33334d30eccbad9b82a4236238e2
   "metadata": {},
   "outputs": [
    {
     "data": {
      "text/html": [
       "<div>\n",
<<<<<<< HEAD
       "<style>\n",
       "    .dataframe thead tr:only-child th {\n",
       "        text-align: right;\n",
       "    }\n",
       "\n",
       "    .dataframe thead th {\n",
       "        text-align: left;\n",
       "    }\n",
       "\n",
       "    .dataframe tbody tr th {\n",
       "        vertical-align: top;\n",
=======
       "<style scoped>\n",
       "    .dataframe tbody tr th:only-of-type {\n",
       "        vertical-align: middle;\n",
       "    }\n",
       "\n",
       "    .dataframe tbody tr th {\n",
       "        vertical-align: top;\n",
       "    }\n",
       "\n",
       "    .dataframe thead tr th {\n",
       "        text-align: left;\n",
       "    }\n",
       "\n",
       "    .dataframe thead tr:last-of-type th {\n",
       "        text-align: right;\n",
>>>>>>> 1d8545e97f1a33334d30eccbad9b82a4236238e2
       "    }\n",
       "</style>\n",
       "<table border=\"1\" class=\"dataframe\">\n",
       "  <thead>\n",
       "    <tr>\n",
       "      <th></th>\n",
       "      <th colspan=\"3\" halign=\"left\">Survived</th>\n",
       "    </tr>\n",
       "    <tr>\n",
       "      <th></th>\n",
       "      <th>count</th>\n",
       "      <th>sum</th>\n",
       "      <th>mean</th>\n",
       "    </tr>\n",
       "    <tr>\n",
       "      <th>Embarked</th>\n",
       "      <th></th>\n",
       "      <th></th>\n",
       "      <th></th>\n",
       "    </tr>\n",
       "  </thead>\n",
       "  <tbody>\n",
       "    <tr>\n",
<<<<<<< HEAD
       "      <th>C</th>\n",
=======
       "      <td>C</td>\n",
>>>>>>> 1d8545e97f1a33334d30eccbad9b82a4236238e2
       "      <td>168</td>\n",
       "      <td>93</td>\n",
       "      <td>0.553571</td>\n",
       "    </tr>\n",
       "    <tr>\n",
<<<<<<< HEAD
       "      <th>Q</th>\n",
=======
       "      <td>Q</td>\n",
>>>>>>> 1d8545e97f1a33334d30eccbad9b82a4236238e2
       "      <td>77</td>\n",
       "      <td>30</td>\n",
       "      <td>0.389610</td>\n",
       "    </tr>\n",
       "    <tr>\n",
<<<<<<< HEAD
       "      <th>S</th>\n",
=======
       "      <td>S</td>\n",
>>>>>>> 1d8545e97f1a33334d30eccbad9b82a4236238e2
       "      <td>644</td>\n",
       "      <td>217</td>\n",
       "      <td>0.336957</td>\n",
       "    </tr>\n",
       "  </tbody>\n",
       "</table>\n",
       "</div>"
      ],
      "text/plain": [
       "         Survived               \n",
       "            count  sum      mean\n",
       "Embarked                        \n",
       "C             168   93  0.553571\n",
       "Q              77   30  0.389610\n",
       "S             644  217  0.336957"
      ]
     },
<<<<<<< HEAD
     "execution_count": 226,
=======
     "execution_count": 33,
>>>>>>> 1d8545e97f1a33334d30eccbad9b82a4236238e2
     "metadata": {},
     "output_type": "execute_result"
    }
   ],
   "source": [
    "## use groupby() and agg() to get the table bellow\n",
<<<<<<< HEAD
    "titanic.groupby(...).agg(...)"
=======
    "titanic.groupby('Embarked').agg({\"Survived\":['count',sum,'mean']})"
>>>>>>> 1d8545e97f1a33334d30eccbad9b82a4236238e2
   ]
  },
  {
   "cell_type": "markdown",
   "metadata": {},
   "source": [
    "Survived\n",
    "\n",
    "Embarked  count\tsum\tmean\t\t\t\n",
    "    C\t   168\t93\t0.553571\n",
    "    Q\t    77\t30\t0.389610\n",
    "    S\t   644\t217\t0.336957"
   ]
  },
  {
   "cell_type": "markdown",
   "metadata": {},
   "source": [
    "#### Paid fair and survival\n",
    "\n",
    "What was the fare range paid by the passangers?\n"
   ]
  },
  {
   "cell_type": "code",
<<<<<<< HEAD
   "execution_count": 227,
=======
   "execution_count": 41,
>>>>>>> 1d8545e97f1a33334d30eccbad9b82a4236238e2
   "metadata": {},
   "outputs": [
    {
     "data": {
<<<<<<< HEAD
      "image/png": "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\n",
      "text/plain": [
       "<Figure size 432x288 with 1 Axes>"
      ]
     },
     "metadata": {},
=======
      "text/plain": [
       "<matplotlib.axes._subplots.AxesSubplot at 0x7f212291c828>"
      ]
     },
     "execution_count": 41,
     "metadata": {},
     "output_type": "execute_result"
    },
    {
     "data": {
      "image/png": "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\n",
      "text/plain": [
       "<Figure size 432x288 with 1 Axes>"
      ]
     },
     "metadata": {
      "needs_background": "light"
     },
>>>>>>> 1d8545e97f1a33334d30eccbad9b82a4236238e2
     "output_type": "display_data"
    }
   ],
   "source": [
    "#### use describe() to get the summary of the Fare variable\n",
<<<<<<< HEAD
    "...\n",
    "\n",
    "### draw an histogram for the Fare variable. \n",
    "\n"
=======
    "titanic['Fare'].describe()\n",
    "\n",
    "### draw an histogram for the Fare variable. \n",
    "\n",
    "sns.distplot(titanic.Fare.dropna())"
>>>>>>> 1d8545e97f1a33334d30eccbad9b82a4236238e2
   ]
  },
  {
   "cell_type": "markdown",
   "metadata": {},
   "source": [
    "How many individuals didn't paid for their ticket?\n",
    " \n",
    "Does this affected their survival?"
   ]
  },
  {
   "cell_type": "code",
<<<<<<< HEAD
   "execution_count": 228,
   "metadata": {},
   "outputs": [
    {
     "name": "stdout",
     "output_type": "stream",
     "text": [
      "15\n"
     ]
=======
   "execution_count": 42,
   "metadata": {},
   "outputs": [
    {
     "data": {
      "text/plain": [
       "15"
      ]
     },
     "execution_count": 42,
     "metadata": {},
     "output_type": "execute_result"
>>>>>>> 1d8545e97f1a33334d30eccbad9b82a4236238e2
    }
   ],
   "source": [
    "### get the number of those with a Fare == 0\n",
<<<<<<< HEAD
    "..."
=======
    "len(titanic.loc[titanic.Fare==0],)"
>>>>>>> 1d8545e97f1a33334d30eccbad9b82a4236238e2
   ]
  },
  {
   "cell_type": "code",
<<<<<<< HEAD
   "execution_count": 229,
   "metadata": {},
   "outputs": [
    {
     "data": {
      "text/html": [
       "<div>\n",
       "<style>\n",
       "    .dataframe thead tr:only-child th {\n",
       "        text-align: right;\n",
       "    }\n",
       "\n",
       "    .dataframe thead th {\n",
       "        text-align: left;\n",
       "    }\n",
       "\n",
       "    .dataframe tbody tr th {\n",
       "        vertical-align: top;\n",
       "    }\n",
       "</style>\n",
       "<table border=\"1\" class=\"dataframe\">\n",
       "  <thead>\n",
       "    <tr>\n",
       "      <th></th>\n",
       "      <th colspan=\"3\" halign=\"left\">Survived</th>\n",
       "    </tr>\n",
       "    <tr>\n",
       "      <th></th>\n",
       "      <th>count</th>\n",
       "      <th>sum</th>\n",
       "      <th>mean</th>\n",
       "    </tr>\n",
       "    <tr>\n",
       "      <th>Gratis</th>\n",
       "      <th></th>\n",
       "      <th></th>\n",
       "      <th></th>\n",
       "    </tr>\n",
       "  </thead>\n",
       "  <tbody>\n",
       "    <tr>\n",
       "      <th>0</th>\n",
       "      <td>876</td>\n",
       "      <td>341</td>\n",
       "      <td>0.389269</td>\n",
       "    </tr>\n",
       "    <tr>\n",
       "      <th>1</th>\n",
       "      <td>15</td>\n",
       "      <td>1</td>\n",
       "      <td>0.066667</td>\n",
       "    </tr>\n",
       "  </tbody>\n",
       "</table>\n",
       "</div>"
      ],
      "text/plain": [
       "       Survived               \n",
       "          count  sum      mean\n",
       "Gratis                        \n",
       "0           876  341  0.389269\n",
       "1            15    1  0.066667"
      ]
     },
     "execution_count": 229,
     "metadata": {},
     "output_type": "execute_result"
=======
   "execution_count": 45,
   "metadata": {},
   "outputs": [
    {
     "ename": "SyntaxError",
     "evalue": "invalid syntax (<ipython-input-45-a48be52c3b9a>, line 3)",
     "output_type": "error",
     "traceback": [
      "\u001b[0;36m  File \u001b[0;32m\"<ipython-input-45-a48be52c3b9a>\"\u001b[0;36m, line \u001b[0;32m3\u001b[0m\n\u001b[0;31m    titanic.loc[titanic.Fare==0],'Gratis')=1\u001b[0m\n\u001b[0m                                         ^\u001b[0m\n\u001b[0;31mSyntaxError\u001b[0m\u001b[0;31m:\u001b[0m invalid syntax\n"
     ]
>>>>>>> 1d8545e97f1a33334d30eccbad9b82a4236238e2
    }
   ],
   "source": [
    "### Create a new variable called Gratis and give 1 to passangers who didn't pay\n",
    "titanic['Gratis'] = 0\n",
<<<<<<< HEAD
    "....\n",
    "\n",
    "## then use groupby() and agg() to get the table bellow\n",
    "..."
=======
    "titanic.loc[titanic.Fare==0],'Gratis')=1\n",
    "\n",
    "## then use groupby() and agg() to get the table bellow\n",
    "titanic.groupby('Gratis').agg({\"Survived\":['count',sum,'mean']})"
>>>>>>> 1d8545e97f1a33334d30eccbad9b82a4236238e2
   ]
  },
  {
   "cell_type": "markdown",
   "metadata": {},
   "source": [
    "Where there differences in fare rates among the same ticket classes? \n",
    " \n",
    "If the answer was yes, does those differences affected the survival of individuals?"
   ]
  },
  {
   "cell_type": "code",
<<<<<<< HEAD
   "execution_count": 230,
=======
   "execution_count": 46,
>>>>>>> 1d8545e97f1a33334d30eccbad9b82a4236238e2
   "metadata": {},
   "outputs": [
    {
     "data": {
      "text/html": [
       "<div>\n",
<<<<<<< HEAD
       "<style>\n",
       "    .dataframe thead tr:only-child th {\n",
       "        text-align: right;\n",
       "    }\n",
       "\n",
       "    .dataframe thead th {\n",
       "        text-align: left;\n",
=======
       "<style scoped>\n",
       "    .dataframe tbody tr th:only-of-type {\n",
       "        vertical-align: middle;\n",
>>>>>>> 1d8545e97f1a33334d30eccbad9b82a4236238e2
       "    }\n",
       "\n",
       "    .dataframe tbody tr th {\n",
       "        vertical-align: top;\n",
       "    }\n",
<<<<<<< HEAD
=======
       "\n",
       "    .dataframe thead th {\n",
       "        text-align: right;\n",
       "    }\n",
>>>>>>> 1d8545e97f1a33334d30eccbad9b82a4236238e2
       "</style>\n",
       "<table border=\"1\" class=\"dataframe\">\n",
       "  <thead>\n",
       "    <tr style=\"text-align: right;\">\n",
       "      <th></th>\n",
       "      <th>count</th>\n",
       "      <th>mean</th>\n",
       "      <th>std</th>\n",
       "      <th>min</th>\n",
       "      <th>25%</th>\n",
       "      <th>50%</th>\n",
       "      <th>75%</th>\n",
       "      <th>max</th>\n",
       "    </tr>\n",
       "    <tr>\n",
       "      <th>Pclass</th>\n",
       "      <th></th>\n",
       "      <th></th>\n",
       "      <th></th>\n",
       "      <th></th>\n",
       "      <th></th>\n",
       "      <th></th>\n",
       "      <th></th>\n",
       "      <th></th>\n",
       "    </tr>\n",
       "  </thead>\n",
       "  <tbody>\n",
       "    <tr>\n",
<<<<<<< HEAD
       "      <th>1</th>\n",
=======
       "      <td>1</td>\n",
>>>>>>> 1d8545e97f1a33334d30eccbad9b82a4236238e2
       "      <td>216.0</td>\n",
       "      <td>84.154687</td>\n",
       "      <td>78.380373</td>\n",
       "      <td>0.0</td>\n",
       "      <td>30.92395</td>\n",
       "      <td>60.2875</td>\n",
       "      <td>93.5</td>\n",
       "      <td>512.3292</td>\n",
       "    </tr>\n",
       "    <tr>\n",
<<<<<<< HEAD
       "      <th>2</th>\n",
=======
       "      <td>2</td>\n",
>>>>>>> 1d8545e97f1a33334d30eccbad9b82a4236238e2
       "      <td>184.0</td>\n",
       "      <td>20.662183</td>\n",
       "      <td>13.417399</td>\n",
       "      <td>0.0</td>\n",
       "      <td>13.00000</td>\n",
       "      <td>14.2500</td>\n",
       "      <td>26.0</td>\n",
       "      <td>73.5000</td>\n",
       "    </tr>\n",
       "    <tr>\n",
<<<<<<< HEAD
       "      <th>3</th>\n",
=======
       "      <td>3</td>\n",
>>>>>>> 1d8545e97f1a33334d30eccbad9b82a4236238e2
       "      <td>491.0</td>\n",
       "      <td>13.675550</td>\n",
       "      <td>11.778142</td>\n",
       "      <td>0.0</td>\n",
       "      <td>7.75000</td>\n",
       "      <td>8.0500</td>\n",
       "      <td>15.5</td>\n",
       "      <td>69.5500</td>\n",
       "    </tr>\n",
       "  </tbody>\n",
       "</table>\n",
       "</div>"
      ],
      "text/plain": [
       "        count       mean        std  min       25%      50%   75%       max\n",
       "Pclass                                                                     \n",
       "1       216.0  84.154687  78.380373  0.0  30.92395  60.2875  93.5  512.3292\n",
       "2       184.0  20.662183  13.417399  0.0  13.00000  14.2500  26.0   73.5000\n",
       "3       491.0  13.675550  11.778142  0.0   7.75000   8.0500  15.5   69.5500"
      ]
     },
<<<<<<< HEAD
     "execution_count": 230,
=======
     "execution_count": 46,
>>>>>>> 1d8545e97f1a33334d30eccbad9b82a4236238e2
     "metadata": {},
     "output_type": "execute_result"
    }
   ],
   "source": [
    "byPclass = titanic.groupby('Pclass')\n",
    "byPclass['Fare'].describe()\n"
   ]
  },
  {
   "cell_type": "code",
   "execution_count": 231,
   "metadata": {},
   "outputs": [],
   "source": [
    "### We will use the data on the desctiptive table to divide the paid fare:\n",
    "### Those who paid more than the 75% where considered 'Overpaid', \n",
    "### If paid less than the 25% where categorized as 'Underpaid', else 'Normal' fare\n",
    "titanic['FareGroup'] = 'Normal'\n",
    "\n",
    "....\n",
    "\n"
   ]
  },
  {
   "cell_type": "markdown",
   "metadata": {},
   "source": [
    "Now we will check how many survived by Pclass and Fategroup:"
   ]
  },
  {
   "cell_type": "code",
   "execution_count": 232,
   "metadata": {},
   "outputs": [
    {
     "data": {
      "text/html": [
       "<div>\n",
       "<style>\n",
       "    .dataframe thead tr:only-child th {\n",
       "        text-align: right;\n",
       "    }\n",
       "\n",
       "    .dataframe thead th {\n",
       "        text-align: left;\n",
       "    }\n",
       "\n",
       "    .dataframe tbody tr th {\n",
       "        vertical-align: top;\n",
       "    }\n",
       "</style>\n",
       "<table border=\"1\" class=\"dataframe\">\n",
       "  <thead>\n",
       "    <tr>\n",
       "      <th></th>\n",
       "      <th></th>\n",
       "      <th colspan=\"3\" halign=\"left\">Survived</th>\n",
       "    </tr>\n",
       "    <tr>\n",
       "      <th></th>\n",
       "      <th></th>\n",
       "      <th>count</th>\n",
       "      <th>sum</th>\n",
       "      <th>mean</th>\n",
       "    </tr>\n",
       "    <tr>\n",
       "      <th>Pclass</th>\n",
       "      <th>FareGroup</th>\n",
       "      <th></th>\n",
       "      <th></th>\n",
       "      <th></th>\n",
       "    </tr>\n",
       "  </thead>\n",
       "  <tbody>\n",
       "    <tr>\n",
       "      <th rowspan=\"3\" valign=\"top\">1</th>\n",
       "      <th>Normal</th>\n",
       "      <td>109</td>\n",
       "      <td>72</td>\n",
       "      <td>0.660550</td>\n",
       "    </tr>\n",
       "    <tr>\n",
       "      <th>Overpaid</th>\n",
       "      <td>53</td>\n",
       "      <td>39</td>\n",
       "      <td>0.735849</td>\n",
       "    </tr>\n",
       "    <tr>\n",
       "      <th>Underpaid</th>\n",
       "      <td>54</td>\n",
       "      <td>25</td>\n",
       "      <td>0.462963</td>\n",
       "    </tr>\n",
       "    <tr>\n",
       "      <th rowspan=\"3\" valign=\"top\">2</th>\n",
       "      <th>Normal</th>\n",
       "      <td>103</td>\n",
       "      <td>51</td>\n",
       "      <td>0.495146</td>\n",
       "    </tr>\n",
       "    <tr>\n",
       "      <th>Overpaid</th>\n",
       "      <td>39</td>\n",
       "      <td>23</td>\n",
       "      <td>0.589744</td>\n",
       "    </tr>\n",
       "    <tr>\n",
       "      <th>Underpaid</th>\n",
       "      <td>42</td>\n",
       "      <td>13</td>\n",
       "      <td>0.309524</td>\n",
       "    </tr>\n",
       "    <tr>\n",
       "      <th rowspan=\"3\" valign=\"top\">3</th>\n",
       "      <th>Normal</th>\n",
       "      <td>277</td>\n",
       "      <td>68</td>\n",
       "      <td>0.245487</td>\n",
       "    </tr>\n",
       "    <tr>\n",
       "      <th>Overpaid</th>\n",
       "      <td>120</td>\n",
       "      <td>34</td>\n",
       "      <td>0.283333</td>\n",
       "    </tr>\n",
       "    <tr>\n",
       "      <th>Underpaid</th>\n",
       "      <td>94</td>\n",
       "      <td>17</td>\n",
       "      <td>0.180851</td>\n",
       "    </tr>\n",
       "  </tbody>\n",
       "</table>\n",
       "</div>"
      ],
      "text/plain": [
       "                 Survived              \n",
       "                    count sum      mean\n",
       "Pclass FareGroup                       \n",
       "1      Normal         109  72  0.660550\n",
       "       Overpaid        53  39  0.735849\n",
       "       Underpaid       54  25  0.462963\n",
       "2      Normal         103  51  0.495146\n",
       "       Overpaid        39  23  0.589744\n",
       "       Underpaid       42  13  0.309524\n",
       "3      Normal         277  68  0.245487\n",
       "       Overpaid       120  34  0.283333\n",
       "       Underpaid       94  17  0.180851"
      ]
     },
     "execution_count": 232,
     "metadata": {},
     "output_type": "execute_result"
    }
   ],
   "source": [
    "## use groupby() and agg() to get the table bellow\n",
    "...\n"
   ]
  },
  {
   "cell_type": "markdown",
   "metadata": {},
   "source": [
    "Survived\n",
    "\n",
    "Pclass\tFareGroup count\tsum\tmean\n",
    "    1\tNormal\t   109\t72\t0.660550\n",
    "        Overpaid\t53\t39\t0.735849\n",
    "        Underpaid\t54\t25\t0.462963\n",
    "    2\tNormal\t   103\t51\t0.495146\n",
    "        Overpaid\t39\t23\t0.589744\n",
    "        Underpaid\t42\t13\t0.309524\n",
    "    3\tNormal\t   277\t68\t0.245487\n",
    "        Overpaid   120\t34\t0.283333\n",
    "        Underpaid\t94\t17\t0.180851"
   ]
  },
  {
   "cell_type": "markdown",
   "metadata": {},
   "source": [
    "#### The title passanger had and survival \n",
    "\n",
    "Which were the five most common titles passanger had? (Sir, Mr, Mrs, etc)?\n",
    " \n",
    "For this part we will take the 'Name' column and will split all the words in the name by the white space.\n",
    " \n",
    "Then we will join all the words and calculate the frequency of appearance of each world in descending order.\n",
    " \n",
    "We will take the five most common words (must be titles), and with them we will create a new column. Then we will procede as we did in the other analyses.\n"
   ]
  },
  {
   "cell_type": "code",
<<<<<<< HEAD
   "execution_count": 233,
=======
   "execution_count": 55,
   "metadata": {},
   "outputs": [],
   "source": [
    "import re"
   ]
  },
  {
   "cell_type": "code",
   "execution_count": 56,
>>>>>>> 1d8545e97f1a33334d30eccbad9b82a4236238e2
   "metadata": {},
   "outputs": [
    {
     "name": "stdout",
     "output_type": "stream",
     "text": [
<<<<<<< HEAD
=======
      "24916\n",
>>>>>>> 1d8545e97f1a33334d30eccbad9b82a4236238e2
      "Braund, Mr. Owen Harris Cumings, Mrs. John Bradley (Florence Briggs Thayer) Heikkinen, Miss. Laina F\n"
     ]
    }
   ],
   "source": [
    "## Join all the words in the 'Name' column\n",
    "words = ' '.join(titanic['Name'])\n",
<<<<<<< HEAD
    "len(words)\n",
=======
    "print(len(words))\n",
>>>>>>> 1d8545e97f1a33334d30eccbad9b82a4236238e2
    "print(words[0:100])"
   ]
  },
  {
   "cell_type": "code",
<<<<<<< HEAD
   "execution_count": 234,
   "metadata": {},
   "outputs": [
    {
     "name": "stdout",
     "output_type": "stream",
     "text": [
      "Braund Mr Owen Harris Cumings Mrs John Bradley Florence Briggs Thayer Heikkinen Miss Laina Futrelle \n"
=======
   "execution_count": 63,
   "metadata": {},
   "outputs": [
    {
     "ename": "AttributeError",
     "evalue": "module 'string' has no attribute 'maketrans'",
     "output_type": "error",
     "traceback": [
      "\u001b[0;31m---------------------------------------------------------------------------\u001b[0m",
      "\u001b[0;31mAttributeError\u001b[0m                            Traceback (most recent call last)",
      "\u001b[0;32m<ipython-input-63-9696cd1572d8>\u001b[0m in \u001b[0;36m<module>\u001b[0;34m\u001b[0m\n\u001b[1;32m      2\u001b[0m \u001b[0;32mimport\u001b[0m \u001b[0mstring\u001b[0m\u001b[0;34m\u001b[0m\u001b[0;34m\u001b[0m\u001b[0m\n\u001b[1;32m      3\u001b[0m \u001b[0;34m\u001b[0m\u001b[0m\n\u001b[0;32m----> 4\u001b[0;31m \u001b[0mtable\u001b[0m \u001b[0;34m=\u001b[0m \u001b[0mstr\u001b[0m\u001b[0;34m.\u001b[0m\u001b[0mmaketrans\u001b[0m\u001b[0;34m(\u001b[0m\u001b[0;34m{\u001b[0m\u001b[0mkey\u001b[0m\u001b[0;34m:\u001b[0m \u001b[0;32mNone\u001b[0m \u001b[0;32mfor\u001b[0m \u001b[0mkey\u001b[0m \u001b[0;32min\u001b[0m \u001b[0mstring\u001b[0m\u001b[0;34m.\u001b[0m\u001b[0mpunctuation\u001b[0m\u001b[0;34m}\u001b[0m\u001b[0;34m)\u001b[0m\u001b[0;34m\u001b[0m\u001b[0;34m\u001b[0m\u001b[0m\n\u001b[0m\u001b[1;32m      5\u001b[0m \u001b[0mwords\u001b[0m \u001b[0;34m=\u001b[0m \u001b[0mwords\u001b[0m\u001b[0;34m.\u001b[0m\u001b[0mtranslate\u001b[0m\u001b[0;34m(\u001b[0m\u001b[0mtable\u001b[0m\u001b[0;34m)\u001b[0m\u001b[0;34m\u001b[0m\u001b[0;34m\u001b[0m\u001b[0m\n\u001b[1;32m      6\u001b[0m \u001b[0mprint\u001b[0m\u001b[0;34m(\u001b[0m\u001b[0mwords\u001b[0m\u001b[0;34m[\u001b[0m\u001b[0;36m0\u001b[0m\u001b[0;34m:\u001b[0m\u001b[0;36m100\u001b[0m\u001b[0;34m]\u001b[0m\u001b[0;34m)\u001b[0m\u001b[0;34m\u001b[0m\u001b[0;34m\u001b[0m\u001b[0m\n",
      "\u001b[0;31mAttributeError\u001b[0m: module 'string' has no attribute 'maketrans'"
>>>>>>> 1d8545e97f1a33334d30eccbad9b82a4236238e2
     ]
    }
   ],
   "source": [
    "## the following code will delete the punctuation\n",
    "import string\n",
    "\n",
    "table = str.maketrans({key: None for key in string.punctuation})\n",
    "words = words.translate(table)\n",
    "print(words[0:100])"
   ]
  },
  {
   "cell_type": "code",
   "execution_count": 235,
   "metadata": {},
   "outputs": [
    {
     "name": "stdout",
     "output_type": "stream",
     "text": [
      "<class 'list'>\n",
      "['Mr', 'Owen', 'Harris', 'Cumings', 'Mrs', 'John', 'Bradley', 'Florence', 'Briggs']\n"
     ]
    }
   ],
   "source": [
    "## now we will split by the white spaces the words string into a list\n",
    "wordlist = words.split()\n",
    "print(type(wordlist))\n",
    "print(wordlist[1:10])"
   ]
  },
  {
   "cell_type": "code",
   "execution_count": 236,
   "metadata": {},
   "outputs": [
    {
     "name": "stdout",
     "output_type": "stream",
     "text": [
      "1526\n",
      "1526\n",
      "1526\n",
      "<class 'dict_keys'>\n",
      "<class 'dict_values'>\n"
     ]
    }
   ],
   "source": [
    "## We will count each unique word and show the top 20 in descending order\n",
    "## There are lots of ways to this. We will generate a dictionary to make the counts\n",
    "\n",
    "worddict = {x:wordlist.count(x) for x in wordlist}\n",
    "\n",
    "wordunq, wordcnt = worddict.keys(), worddict.values()\n",
    "\n",
    "print(len(worddict))\n",
    "print(len(wordunq))\n",
    "print(len(wordcnt))\n",
    "\n",
    "#wordunq.tolist()\n",
    "\n",
    "print(type(wordunq))\n",
    "print(type(wordcnt))\n"
   ]
  },
  {
   "cell_type": "code",
   "execution_count": 243,
   "metadata": {},
   "outputs": [
    {
     "data": {
      "text/html": [
       "<div>\n",
       "<style>\n",
       "    .dataframe thead tr:only-child th {\n",
       "        text-align: right;\n",
       "    }\n",
       "\n",
       "    .dataframe thead th {\n",
       "        text-align: left;\n",
       "    }\n",
       "\n",
       "    .dataframe tbody tr th {\n",
       "        vertical-align: top;\n",
       "    }\n",
       "</style>\n",
       "<table border=\"1\" class=\"dataframe\">\n",
       "  <thead>\n",
       "    <tr style=\"text-align: right;\">\n",
       "      <th></th>\n",
       "      <th>quantity</th>\n",
       "      <th>word</th>\n",
       "    </tr>\n",
       "  </thead>\n",
       "  <tbody>\n",
       "    <tr>\n",
       "      <th>1225</th>\n",
       "      <td>521</td>\n",
       "      <td>Mr</td>\n",
       "    </tr>\n",
       "    <tr>\n",
       "      <th>389</th>\n",
       "      <td>182</td>\n",
       "      <td>Miss</td>\n",
       "    </tr>\n",
       "    <tr>\n",
       "      <th>893</th>\n",
       "      <td>129</td>\n",
       "      <td>Mrs</td>\n",
       "    </tr>\n",
       "    <tr>\n",
       "      <th>453</th>\n",
       "      <td>64</td>\n",
       "      <td>William</td>\n",
       "    </tr>\n",
       "    <tr>\n",
       "      <th>124</th>\n",
       "      <td>44</td>\n",
       "      <td>John</td>\n",
       "    </tr>\n",
       "    <tr>\n",
       "      <th>509</th>\n",
       "      <td>40</td>\n",
       "      <td>Master</td>\n",
       "    </tr>\n",
       "    <tr>\n",
       "      <th>998</th>\n",
       "      <td>35</td>\n",
       "      <td>Henry</td>\n",
       "    </tr>\n",
       "    <tr>\n",
       "      <th>423</th>\n",
       "      <td>24</td>\n",
       "      <td>George</td>\n",
       "    </tr>\n",
       "    <tr>\n",
       "      <th>1356</th>\n",
       "      <td>24</td>\n",
       "      <td>James</td>\n",
       "    </tr>\n",
       "    <tr>\n",
       "      <th>821</th>\n",
       "      <td>23</td>\n",
       "      <td>Charles</td>\n",
       "    </tr>\n",
       "    <tr>\n",
       "      <th>1498</th>\n",
       "      <td>22</td>\n",
       "      <td>Thomas</td>\n",
       "    </tr>\n",
       "    <tr>\n",
       "      <th>1006</th>\n",
       "      <td>20</td>\n",
       "      <td>Mary</td>\n",
       "    </tr>\n",
       "    <tr>\n",
       "      <th>167</th>\n",
       "      <td>18</td>\n",
       "      <td>Edward</td>\n",
       "    </tr>\n",
       "    <tr>\n",
       "      <th>875</th>\n",
       "      <td>17</td>\n",
       "      <td>Anna</td>\n",
       "    </tr>\n",
       "    <tr>\n",
       "      <th>1394</th>\n",
       "      <td>16</td>\n",
       "      <td>Joseph</td>\n",
       "    </tr>\n",
       "    <tr>\n",
       "      <th>1405</th>\n",
       "      <td>15</td>\n",
       "      <td>Johan</td>\n",
       "    </tr>\n",
       "    <tr>\n",
       "      <th>433</th>\n",
       "      <td>15</td>\n",
       "      <td>Frederick</td>\n",
       "    </tr>\n",
       "    <tr>\n",
       "      <th>1028</th>\n",
       "      <td>15</td>\n",
       "      <td>Elizabeth</td>\n",
       "    </tr>\n",
       "    <tr>\n",
       "      <th>770</th>\n",
       "      <td>14</td>\n",
       "      <td>Richard</td>\n",
       "    </tr>\n",
       "    <tr>\n",
       "      <th>529</th>\n",
       "      <td>13</td>\n",
       "      <td>Arthur</td>\n",
       "    </tr>\n",
       "  </tbody>\n",
       "</table>\n",
       "</div>"
      ],
      "text/plain": [
       "      quantity       word\n",
       "1225       521         Mr\n",
       "389        182       Miss\n",
       "893        129        Mrs\n",
       "453         64    William\n",
       "124         44       John\n",
       "509         40     Master\n",
       "998         35      Henry\n",
       "423         24     George\n",
       "1356        24      James\n",
       "821         23    Charles\n",
       "1498        22     Thomas\n",
       "1006        20       Mary\n",
       "167         18     Edward\n",
       "875         17       Anna\n",
       "1394        16     Joseph\n",
       "1405        15      Johan\n",
       "433         15  Frederick\n",
       "1028        15  Elizabeth\n",
       "770         14    Richard\n",
       "529         13     Arthur"
      ]
     },
     "execution_count": 243,
     "metadata": {},
     "output_type": "execute_result"
    }
   ],
   "source": [
    "## now we tranform the keys and values into lists and create with them a DataFrame\n",
    "\n",
    "...\n",
    "\n",
    "...\n"
   ]
  },
  {
   "cell_type": "markdown",
   "metadata": {},
   "source": [
    "Answer:\n",
    "    quantity\tword\n",
    " \t521\t        Mr\n",
    "\t182\t        Miss\n",
    "\t129\t        Mrs\n",
    "\t64\t        William\n",
    "\t44\t        John\n",
    "\t40\t        Master"
   ]
  },
  {
   "cell_type": "markdown",
   "metadata": {},
   "source": [
    "We have shown here that the most common titles were Mr (521), Miss (182), Mrs (129) and Master (40). \n",
    " \n",
    "This totals 872 out of 891 passengers (97.9%).\n",
    " \n",
    "Now we will create a new variable with those titles and check for differences on survival among them.\n",
    " \n",
    "We can use the following function to decide if a title is present on a name:\n",
    "\n",
    "<code> \n",
    " titanic['Name'].str.contains('Mr')\n",
    "</code>"
   ]
  },
  {
   "cell_type": "code",
   "execution_count": 242,
   "metadata": {},
   "outputs": [
    {
     "data": {
      "text/html": [
       "<div>\n",
       "<style>\n",
       "    .dataframe thead tr:only-child th {\n",
       "        text-align: right;\n",
       "    }\n",
       "\n",
       "    .dataframe thead th {\n",
       "        text-align: left;\n",
       "    }\n",
       "\n",
       "    .dataframe tbody tr th {\n",
       "        vertical-align: top;\n",
       "    }\n",
       "</style>\n",
       "<table border=\"1\" class=\"dataframe\">\n",
       "  <thead>\n",
       "    <tr>\n",
       "      <th></th>\n",
       "      <th colspan=\"3\" halign=\"left\">Survived</th>\n",
       "    </tr>\n",
       "    <tr>\n",
       "      <th></th>\n",
       "      <th>count</th>\n",
       "      <th>sum</th>\n",
       "      <th>mean</th>\n",
       "    </tr>\n",
       "    <tr>\n",
       "      <th>Title</th>\n",
       "      <th></th>\n",
       "      <th></th>\n",
       "      <th></th>\n",
       "    </tr>\n",
       "  </thead>\n",
       "  <tbody>\n",
       "    <tr>\n",
       "      <th>Master</th>\n",
       "      <td>40</td>\n",
       "      <td>23</td>\n",
       "      <td>0.575000</td>\n",
       "    </tr>\n",
       "    <tr>\n",
       "      <th>Miss</th>\n",
       "      <td>180</td>\n",
       "      <td>126</td>\n",
       "      <td>0.700000</td>\n",
       "    </tr>\n",
       "    <tr>\n",
       "      <th>Mr</th>\n",
       "      <td>518</td>\n",
       "      <td>82</td>\n",
       "      <td>0.158301</td>\n",
       "    </tr>\n",
       "    <tr>\n",
       "      <th>Mrs</th>\n",
       "      <td>130</td>\n",
       "      <td>103</td>\n",
       "      <td>0.792308</td>\n",
       "    </tr>\n",
       "    <tr>\n",
       "      <th>Other</th>\n",
       "      <td>24</td>\n",
       "      <td>9</td>\n",
       "      <td>0.375000</td>\n",
       "    </tr>\n",
       "  </tbody>\n",
       "</table>\n",
       "</div>"
      ],
      "text/plain": [
       "       Survived               \n",
       "          count  sum      mean\n",
       "Title                         \n",
       "Master       40   23  0.575000\n",
       "Miss        180  126  0.700000\n",
       "Mr          518   82  0.158301\n",
       "Mrs         130  103  0.792308\n",
       "Other        24    9  0.375000"
      ]
     },
     "execution_count": 242,
     "metadata": {},
     "output_type": "execute_result"
    }
   ],
   "source": [
    "titanic['Title'] = 'Other'\n",
    "\n",
    "...\n",
    "\n",
    "## then use groupby() and agg() to get the table bellow\n",
    "...\n"
   ]
  },
  {
   "cell_type": "markdown",
   "metadata": {},
   "source": [
    "Survived\n",
    "\n",
    "Title\tcount\tsum\tmean\t\t\n",
    "Master\t  40\t23\t0.575000\n",
    "Miss\t 180\t126\t0.700000\n",
    "Mr\t     518\t82\t0.158301\n",
    "Mrs\t     130\t103\t0.792308\n",
    "Other\t  24\t9\t0.375000"
   ]
  }
 ],
 "metadata": {
  "kernelspec": {
   "display_name": "Python 3",
   "language": "python",
   "name": "python3"
  },
  "language_info": {
   "codemirror_mode": {
    "name": "ipython",
    "version": 3
   },
   "file_extension": ".py",
   "mimetype": "text/x-python",
   "name": "python",
   "nbconvert_exporter": "python",
   "pygments_lexer": "ipython3",
<<<<<<< HEAD
   "version": "3.7.6"
=======
   "version": "3.6.9"
>>>>>>> 1d8545e97f1a33334d30eccbad9b82a4236238e2
  }
 },
 "nbformat": 4,
 "nbformat_minor": 2
}
