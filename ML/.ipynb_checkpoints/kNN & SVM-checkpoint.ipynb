{
 "cells": [
  {
   "cell_type": "markdown",
   "metadata": {},
   "source": [
    "# kNN algorithm"
   ]
  },
  {
   "cell_type": "code",
   "execution_count": 1,
   "metadata": {},
   "outputs": [
    {
     "data": {
      "text/html": [
       "<table>\n",
       "<caption>A data.frame: 6 × 11</caption>\n",
       "<thead>\n",
       "\t<tr><th></th><th scope=col>mpg</th><th scope=col>cyl</th><th scope=col>disp</th><th scope=col>hp</th><th scope=col>drat</th><th scope=col>wt</th><th scope=col>qsec</th><th scope=col>vs</th><th scope=col>am</th><th scope=col>gear</th><th scope=col>carb</th></tr>\n",
       "\t<tr><th></th><th scope=col>&lt;dbl&gt;</th><th scope=col>&lt;dbl&gt;</th><th scope=col>&lt;dbl&gt;</th><th scope=col>&lt;dbl&gt;</th><th scope=col>&lt;dbl&gt;</th><th scope=col>&lt;dbl&gt;</th><th scope=col>&lt;dbl&gt;</th><th scope=col>&lt;dbl&gt;</th><th scope=col>&lt;dbl&gt;</th><th scope=col>&lt;dbl&gt;</th><th scope=col>&lt;dbl&gt;</th></tr>\n",
       "</thead>\n",
       "<tbody>\n",
       "\t<tr><th scope=row>Mazda RX4</th><td>21.0</td><td>6</td><td>160</td><td>110</td><td>3.90</td><td>2.620</td><td>16.46</td><td>0</td><td>1</td><td>4</td><td>4</td></tr>\n",
       "\t<tr><th scope=row>Mazda RX4 Wag</th><td>21.0</td><td>6</td><td>160</td><td>110</td><td>3.90</td><td>2.875</td><td>17.02</td><td>0</td><td>1</td><td>4</td><td>4</td></tr>\n",
       "\t<tr><th scope=row>Datsun 710</th><td>22.8</td><td>4</td><td>108</td><td> 93</td><td>3.85</td><td>2.320</td><td>18.61</td><td>1</td><td>1</td><td>4</td><td>1</td></tr>\n",
       "\t<tr><th scope=row>Hornet 4 Drive</th><td>21.4</td><td>6</td><td>258</td><td>110</td><td>3.08</td><td>3.215</td><td>19.44</td><td>1</td><td>0</td><td>3</td><td>1</td></tr>\n",
       "\t<tr><th scope=row>Hornet Sportabout</th><td>18.7</td><td>8</td><td>360</td><td>175</td><td>3.15</td><td>3.440</td><td>17.02</td><td>0</td><td>0</td><td>3</td><td>2</td></tr>\n",
       "\t<tr><th scope=row>Valiant</th><td>18.1</td><td>6</td><td>225</td><td>105</td><td>2.76</td><td>3.460</td><td>20.22</td><td>1</td><td>0</td><td>3</td><td>1</td></tr>\n",
       "</tbody>\n",
       "</table>\n"
      ],
      "text/latex": [
       "A data.frame: 6 × 11\n",
       "\\begin{tabular}{r|lllllllllll}\n",
       "  & mpg & cyl & disp & hp & drat & wt & qsec & vs & am & gear & carb\\\\\n",
       "  & <dbl> & <dbl> & <dbl> & <dbl> & <dbl> & <dbl> & <dbl> & <dbl> & <dbl> & <dbl> & <dbl>\\\\\n",
       "\\hline\n",
       "\tMazda RX4 & 21.0 & 6 & 160 & 110 & 3.90 & 2.620 & 16.46 & 0 & 1 & 4 & 4\\\\\n",
       "\tMazda RX4 Wag & 21.0 & 6 & 160 & 110 & 3.90 & 2.875 & 17.02 & 0 & 1 & 4 & 4\\\\\n",
       "\tDatsun 710 & 22.8 & 4 & 108 &  93 & 3.85 & 2.320 & 18.61 & 1 & 1 & 4 & 1\\\\\n",
       "\tHornet 4 Drive & 21.4 & 6 & 258 & 110 & 3.08 & 3.215 & 19.44 & 1 & 0 & 3 & 1\\\\\n",
       "\tHornet Sportabout & 18.7 & 8 & 360 & 175 & 3.15 & 3.440 & 17.02 & 0 & 0 & 3 & 2\\\\\n",
       "\tValiant & 18.1 & 6 & 225 & 105 & 2.76 & 3.460 & 20.22 & 1 & 0 & 3 & 1\\\\\n",
       "\\end{tabular}\n"
      ],
      "text/markdown": [
       "\n",
       "A data.frame: 6 × 11\n",
       "\n",
       "| <!--/--> | mpg &lt;dbl&gt; | cyl &lt;dbl&gt; | disp &lt;dbl&gt; | hp &lt;dbl&gt; | drat &lt;dbl&gt; | wt &lt;dbl&gt; | qsec &lt;dbl&gt; | vs &lt;dbl&gt; | am &lt;dbl&gt; | gear &lt;dbl&gt; | carb &lt;dbl&gt; |\n",
       "|---|---|---|---|---|---|---|---|---|---|---|---|\n",
       "| Mazda RX4 | 21.0 | 6 | 160 | 110 | 3.90 | 2.620 | 16.46 | 0 | 1 | 4 | 4 |\n",
       "| Mazda RX4 Wag | 21.0 | 6 | 160 | 110 | 3.90 | 2.875 | 17.02 | 0 | 1 | 4 | 4 |\n",
       "| Datsun 710 | 22.8 | 4 | 108 |  93 | 3.85 | 2.320 | 18.61 | 1 | 1 | 4 | 1 |\n",
       "| Hornet 4 Drive | 21.4 | 6 | 258 | 110 | 3.08 | 3.215 | 19.44 | 1 | 0 | 3 | 1 |\n",
       "| Hornet Sportabout | 18.7 | 8 | 360 | 175 | 3.15 | 3.440 | 17.02 | 0 | 0 | 3 | 2 |\n",
       "| Valiant | 18.1 | 6 | 225 | 105 | 2.76 | 3.460 | 20.22 | 1 | 0 | 3 | 1 |\n",
       "\n"
      ],
      "text/plain": [
       "                  mpg  cyl disp hp  drat wt    qsec  vs am gear carb\n",
       "Mazda RX4         21.0 6   160  110 3.90 2.620 16.46 0  1  4    4   \n",
       "Mazda RX4 Wag     21.0 6   160  110 3.90 2.875 17.02 0  1  4    4   \n",
       "Datsun 710        22.8 4   108   93 3.85 2.320 18.61 1  1  4    1   \n",
       "Hornet 4 Drive    21.4 6   258  110 3.08 3.215 19.44 1  0  3    1   \n",
       "Hornet Sportabout 18.7 8   360  175 3.15 3.440 17.02 0  0  3    2   \n",
       "Valiant           18.1 6   225  105 2.76 3.460 20.22 1  0  3    1   "
      ]
     },
     "metadata": {},
     "output_type": "display_data"
    }
   ],
   "source": [
    "library(class)\n",
    "head(mtcars)"
   ]
  },
  {
   "cell_type": "code",
   "execution_count": 2,
   "metadata": {},
   "outputs": [],
   "source": [
    "# get train and test randomly - train = 22, test = 10\n",
    "ids <- sample(x = 1:nrow(mtcars), size=nrow(mtcars)-10)\n",
    "\n",
    "x1 <- mtcars[ids,c(\"mpg\",\"wt\")]\n",
    "y1 <- mtcars[ids,\"am\"]\n",
    "\n",
    "x2 <- mtcars[-ids,c(\"mpg\",\"wt\")]\n",
    "y2 <- mtcars[-ids,\"am\"]\n",
    "#we have to change \"am\" as factor because its categorical"
   ]
  },
  {
   "cell_type": "code",
   "execution_count": 3,
   "metadata": {},
   "outputs": [
    {
     "data": {
      "text/html": [
       "<style>\n",
       ".list-inline {list-style: none; margin:0; padding: 0}\n",
       ".list-inline>li {display: inline-block}\n",
       ".list-inline>li:not(:last-child)::after {content: \"\\00b7\"; padding: 0 .5ex}\n",
       "</style>\n",
       "<ol class=list-inline><li>0</li><li>1</li><li>1</li><li>0</li><li>0</li><li>1</li><li>1</li><li>0</li><li>1</li><li>0</li></ol>\n",
       "\n",
       "<details>\n",
       "\t<summary style=display:list-item;cursor:pointer>\n",
       "\t\t<strong>Levels</strong>:\n",
       "\t</summary>\n",
       "\t<style>\n",
       "\t.list-inline {list-style: none; margin:0; padding: 0}\n",
       "\t.list-inline>li {display: inline-block}\n",
       "\t.list-inline>li:not(:last-child)::after {content: \"\\00b7\"; padding: 0 .5ex}\n",
       "\t</style>\n",
       "\t<ol class=list-inline><li>'0'</li><li>'1'</li></ol>\n",
       "</details>"
      ],
      "text/latex": [
       "\\begin{enumerate*}\n",
       "\\item 0\n",
       "\\item 1\n",
       "\\item 1\n",
       "\\item 0\n",
       "\\item 0\n",
       "\\item 1\n",
       "\\item 1\n",
       "\\item 0\n",
       "\\item 1\n",
       "\\item 0\n",
       "\\end{enumerate*}\n",
       "\n",
       "\\emph{Levels}: \\begin{enumerate*}\n",
       "\\item '0'\n",
       "\\item '1'\n",
       "\\end{enumerate*}\n"
      ],
      "text/markdown": [
       "1. 0\n",
       "2. 1\n",
       "3. 1\n",
       "4. 0\n",
       "5. 0\n",
       "6. 1\n",
       "7. 1\n",
       "8. 0\n",
       "9. 1\n",
       "10. 0\n",
       "\n",
       "\n",
       "\n",
       "**Levels**: 1. '0'\n",
       "2. '1'\n",
       "\n",
       "\n"
      ],
      "text/plain": [
       " [1] 0 1 1 0 0 1 1 0 1 0\n",
       "Levels: 0 1"
      ]
     },
     "metadata": {},
     "output_type": "display_data"
    }
   ],
   "source": [
    "mod.knn <- knn(train = x1, test = x2, cl=y1)\n",
    "\n",
    "mod.knn\n"
   ]
  },
  {
   "cell_type": "code",
   "execution_count": 4,
   "metadata": {},
   "outputs": [
    {
     "data": {
      "text/plain": [
       "    observ\n",
       "pred 0 1\n",
       "   0 4 1\n",
       "   1 3 2"
      ]
     },
     "metadata": {},
     "output_type": "display_data"
    }
   ],
   "source": [
    "table(pred=mod.knn, observ=y2)"
   ]
  },
  {
   "cell_type": "markdown",
   "metadata": {},
   "source": [
    "# Support Vector Machine (SVM)"
   ]
  },
  {
   "cell_type": "code",
   "execution_count": 5,
   "metadata": {},
   "outputs": [
    {
     "data": {
      "text/html": [
       "<table>\n",
       "<caption>A data.frame: 6 × 11</caption>\n",
       "<thead>\n",
       "\t<tr><th></th><th scope=col>mpg</th><th scope=col>cyl</th><th scope=col>disp</th><th scope=col>hp</th><th scope=col>drat</th><th scope=col>wt</th><th scope=col>qsec</th><th scope=col>vs</th><th scope=col>am</th><th scope=col>gear</th><th scope=col>carb</th></tr>\n",
       "\t<tr><th></th><th scope=col>&lt;dbl&gt;</th><th scope=col>&lt;dbl&gt;</th><th scope=col>&lt;dbl&gt;</th><th scope=col>&lt;dbl&gt;</th><th scope=col>&lt;dbl&gt;</th><th scope=col>&lt;dbl&gt;</th><th scope=col>&lt;dbl&gt;</th><th scope=col>&lt;dbl&gt;</th><th scope=col>&lt;dbl&gt;</th><th scope=col>&lt;dbl&gt;</th><th scope=col>&lt;dbl&gt;</th></tr>\n",
       "</thead>\n",
       "<tbody>\n",
       "\t<tr><th scope=row>Mazda RX4</th><td>21.0</td><td>6</td><td>160</td><td>110</td><td>3.90</td><td>2.620</td><td>16.46</td><td>0</td><td>1</td><td>4</td><td>4</td></tr>\n",
       "\t<tr><th scope=row>Mazda RX4 Wag</th><td>21.0</td><td>6</td><td>160</td><td>110</td><td>3.90</td><td>2.875</td><td>17.02</td><td>0</td><td>1</td><td>4</td><td>4</td></tr>\n",
       "\t<tr><th scope=row>Datsun 710</th><td>22.8</td><td>4</td><td>108</td><td> 93</td><td>3.85</td><td>2.320</td><td>18.61</td><td>1</td><td>1</td><td>4</td><td>1</td></tr>\n",
       "\t<tr><th scope=row>Hornet 4 Drive</th><td>21.4</td><td>6</td><td>258</td><td>110</td><td>3.08</td><td>3.215</td><td>19.44</td><td>1</td><td>0</td><td>3</td><td>1</td></tr>\n",
       "\t<tr><th scope=row>Hornet Sportabout</th><td>18.7</td><td>8</td><td>360</td><td>175</td><td>3.15</td><td>3.440</td><td>17.02</td><td>0</td><td>0</td><td>3</td><td>2</td></tr>\n",
       "\t<tr><th scope=row>Valiant</th><td>18.1</td><td>6</td><td>225</td><td>105</td><td>2.76</td><td>3.460</td><td>20.22</td><td>1</td><td>0</td><td>3</td><td>1</td></tr>\n",
       "</tbody>\n",
       "</table>\n"
      ],
      "text/latex": [
       "A data.frame: 6 × 11\n",
       "\\begin{tabular}{r|lllllllllll}\n",
       "  & mpg & cyl & disp & hp & drat & wt & qsec & vs & am & gear & carb\\\\\n",
       "  & <dbl> & <dbl> & <dbl> & <dbl> & <dbl> & <dbl> & <dbl> & <dbl> & <dbl> & <dbl> & <dbl>\\\\\n",
       "\\hline\n",
       "\tMazda RX4 & 21.0 & 6 & 160 & 110 & 3.90 & 2.620 & 16.46 & 0 & 1 & 4 & 4\\\\\n",
       "\tMazda RX4 Wag & 21.0 & 6 & 160 & 110 & 3.90 & 2.875 & 17.02 & 0 & 1 & 4 & 4\\\\\n",
       "\tDatsun 710 & 22.8 & 4 & 108 &  93 & 3.85 & 2.320 & 18.61 & 1 & 1 & 4 & 1\\\\\n",
       "\tHornet 4 Drive & 21.4 & 6 & 258 & 110 & 3.08 & 3.215 & 19.44 & 1 & 0 & 3 & 1\\\\\n",
       "\tHornet Sportabout & 18.7 & 8 & 360 & 175 & 3.15 & 3.440 & 17.02 & 0 & 0 & 3 & 2\\\\\n",
       "\tValiant & 18.1 & 6 & 225 & 105 & 2.76 & 3.460 & 20.22 & 1 & 0 & 3 & 1\\\\\n",
       "\\end{tabular}\n"
      ],
      "text/markdown": [
       "\n",
       "A data.frame: 6 × 11\n",
       "\n",
       "| <!--/--> | mpg &lt;dbl&gt; | cyl &lt;dbl&gt; | disp &lt;dbl&gt; | hp &lt;dbl&gt; | drat &lt;dbl&gt; | wt &lt;dbl&gt; | qsec &lt;dbl&gt; | vs &lt;dbl&gt; | am &lt;dbl&gt; | gear &lt;dbl&gt; | carb &lt;dbl&gt; |\n",
       "|---|---|---|---|---|---|---|---|---|---|---|---|\n",
       "| Mazda RX4 | 21.0 | 6 | 160 | 110 | 3.90 | 2.620 | 16.46 | 0 | 1 | 4 | 4 |\n",
       "| Mazda RX4 Wag | 21.0 | 6 | 160 | 110 | 3.90 | 2.875 | 17.02 | 0 | 1 | 4 | 4 |\n",
       "| Datsun 710 | 22.8 | 4 | 108 |  93 | 3.85 | 2.320 | 18.61 | 1 | 1 | 4 | 1 |\n",
       "| Hornet 4 Drive | 21.4 | 6 | 258 | 110 | 3.08 | 3.215 | 19.44 | 1 | 0 | 3 | 1 |\n",
       "| Hornet Sportabout | 18.7 | 8 | 360 | 175 | 3.15 | 3.440 | 17.02 | 0 | 0 | 3 | 2 |\n",
       "| Valiant | 18.1 | 6 | 225 | 105 | 2.76 | 3.460 | 20.22 | 1 | 0 | 3 | 1 |\n",
       "\n"
      ],
      "text/plain": [
       "                  mpg  cyl disp hp  drat wt    qsec  vs am gear carb\n",
       "Mazda RX4         21.0 6   160  110 3.90 2.620 16.46 0  1  4    4   \n",
       "Mazda RX4 Wag     21.0 6   160  110 3.90 2.875 17.02 0  1  4    4   \n",
       "Datsun 710        22.8 4   108   93 3.85 2.320 18.61 1  1  4    1   \n",
       "Hornet 4 Drive    21.4 6   258  110 3.08 3.215 19.44 1  0  3    1   \n",
       "Hornet Sportabout 18.7 8   360  175 3.15 3.440 17.02 0  0  3    2   \n",
       "Valiant           18.1 6   225  105 2.76 3.460 20.22 1  0  3    1   "
      ]
     },
     "metadata": {},
     "output_type": "display_data"
    }
   ],
   "source": [
    "library(e1071)\n",
    "\n",
    "head(mtcars)"
   ]
  },
  {
   "cell_type": "code",
   "execution_count": 11,
   "metadata": {},
   "outputs": [
    {
     "data": {
      "text/plain": [
       "\n",
       "Call:\n",
       "svm(formula = am ~ ., data = mtcars)\n",
       "\n",
       "\n",
       "Parameters:\n",
       "   SVM-Type:  eps-regression \n",
       " SVM-Kernel:  radial \n",
       "       cost:  1 \n",
       "      gamma:  0.1 \n",
       "    epsilon:  0.1 \n",
       "\n",
       "\n",
       "Number of Support Vectors:  21\n",
       "\n",
       "\n",
       "\n",
       "\n"
      ]
     },
     "metadata": {},
     "output_type": "display_data"
    }
   ],
   "source": [
    "mod.svm <- svm(am ~. , mtcars)\n",
    "summary(mod.svm)\n"
   ]
  },
  {
   "cell_type": "code",
   "execution_count": 12,
   "metadata": {},
   "outputs": [
    {
     "data": {
      "text/html": [
       "<style>\n",
       ".dl-inline {width: auto; margin:0; padding: 0}\n",
       ".dl-inline>dt, .dl-inline>dd {float: none; width: auto; display: inline-block}\n",
       ".dl-inline>dt::after {content: \":\\0020\"; padding-right: .5ex}\n",
       ".dl-inline>dt:not(:first-of-type) {padding-left: .5ex}\n",
       "</style><dl class=dl-inline><dt>Mazda RX4</dt><dd>0.950034467767844</dd><dt>Mazda RX4 Wag</dt><dd>0.868823144907747</dd><dt>Datsun 710</dt><dd>0.751416447952524</dd><dt>Hornet 4 Drive</dt><dd>0.0492484595746238</dd><dt>Hornet Sportabout</dt><dd>0.049967785850571</dd><dt>Valiant</dt><dd>0.0228002734666975</dd><dt>Duster 360</dt><dd>0.0501264798490597</dd><dt>Merc 240D</dt><dd>0.296547762280636</dd><dt>Merc 230</dt><dd>0.0498326090970087</dd><dt>Merc 280</dt><dd>0.142690832349059</dd><dt>Merc 280C</dt><dd>0.0498964665498997</dd><dt>Merc 450SE</dt><dd>-0.0143635478226235</dd><dt>Merc 450SL</dt><dd>0.0155729297213909</dd><dt>Merc 450SLC</dt><dd>-0.0157086912712555</dd><dt>Cadillac Fleetwood</dt><dd>0.0483293367335643</dd><dt>Lincoln Continental</dt><dd>0.0500741195098094</dd><dt>Chrysler Imperial</dt><dd>0.0175898962585101</dd><dt>Fiat 128</dt><dd>0.932022509163131</dd><dt>Honda Civic</dt><dd>0.961098654623085</dd><dt>Toyota Corolla</dt><dd>0.949862633287836</dd><dt>Toyota Corona</dt><dd>0.291681793915199</dd><dt>Dodge Challenger</dt><dd>0.0500022214668857</dd><dt>AMC Javelin</dt><dd>0.0451522186379758</dd><dt>Camaro Z28</dt><dd>0.103537545707393</dd><dt>Pontiac Firebird</dt><dd>0.0187540395749344</dd><dt>Fiat X1-9</dt><dd>0.949848334777405</dd><dt>Porsche 914-2</dt><dd>1.05005316109991</dd><dt>Lotus Europa</dt><dd>0.992722280618428</dd><dt>Ford Pantera L</dt><dd>0.949904850277019</dd><dt>Ferrari Dino</dt><dd>0.950231963102125</dd><dt>Maserati Bora</dt><dd>0.950063972057843</dd><dt>Volvo 142E</dt><dd>0.598773830780849</dd></dl>\n"
      ],
      "text/latex": [
       "\\begin{description*}\n",
       "\\item[Mazda RX4] 0.950034467767844\n",
       "\\item[Mazda RX4 Wag] 0.868823144907747\n",
       "\\item[Datsun 710] 0.751416447952524\n",
       "\\item[Hornet 4 Drive] 0.0492484595746238\n",
       "\\item[Hornet Sportabout] 0.049967785850571\n",
       "\\item[Valiant] 0.0228002734666975\n",
       "\\item[Duster 360] 0.0501264798490597\n",
       "\\item[Merc 240D] 0.296547762280636\n",
       "\\item[Merc 230] 0.0498326090970087\n",
       "\\item[Merc 280] 0.142690832349059\n",
       "\\item[Merc 280C] 0.0498964665498997\n",
       "\\item[Merc 450SE] -0.0143635478226235\n",
       "\\item[Merc 450SL] 0.0155729297213909\n",
       "\\item[Merc 450SLC] -0.0157086912712555\n",
       "\\item[Cadillac Fleetwood] 0.0483293367335643\n",
       "\\item[Lincoln Continental] 0.0500741195098094\n",
       "\\item[Chrysler Imperial] 0.0175898962585101\n",
       "\\item[Fiat 128] 0.932022509163131\n",
       "\\item[Honda Civic] 0.961098654623085\n",
       "\\item[Toyota Corolla] 0.949862633287836\n",
       "\\item[Toyota Corona] 0.291681793915199\n",
       "\\item[Dodge Challenger] 0.0500022214668857\n",
       "\\item[AMC Javelin] 0.0451522186379758\n",
       "\\item[Camaro Z28] 0.103537545707393\n",
       "\\item[Pontiac Firebird] 0.0187540395749344\n",
       "\\item[Fiat X1-9] 0.949848334777405\n",
       "\\item[Porsche 914-2] 1.05005316109991\n",
       "\\item[Lotus Europa] 0.992722280618428\n",
       "\\item[Ford Pantera L] 0.949904850277019\n",
       "\\item[Ferrari Dino] 0.950231963102125\n",
       "\\item[Maserati Bora] 0.950063972057843\n",
       "\\item[Volvo 142E] 0.598773830780849\n",
       "\\end{description*}\n"
      ],
      "text/markdown": [
       "Mazda RX4\n",
       ":   0.950034467767844Mazda RX4 Wag\n",
       ":   0.868823144907747Datsun 710\n",
       ":   0.751416447952524Hornet 4 Drive\n",
       ":   0.0492484595746238Hornet Sportabout\n",
       ":   0.049967785850571Valiant\n",
       ":   0.0228002734666975Duster 360\n",
       ":   0.0501264798490597Merc 240D\n",
       ":   0.296547762280636Merc 230\n",
       ":   0.0498326090970087Merc 280\n",
       ":   0.142690832349059Merc 280C\n",
       ":   0.0498964665498997Merc 450SE\n",
       ":   -0.0143635478226235Merc 450SL\n",
       ":   0.0155729297213909Merc 450SLC\n",
       ":   -0.0157086912712555Cadillac Fleetwood\n",
       ":   0.0483293367335643Lincoln Continental\n",
       ":   0.0500741195098094Chrysler Imperial\n",
       ":   0.0175898962585101Fiat 128\n",
       ":   0.932022509163131Honda Civic\n",
       ":   0.961098654623085Toyota Corolla\n",
       ":   0.949862633287836Toyota Corona\n",
       ":   0.291681793915199Dodge Challenger\n",
       ":   0.0500022214668857AMC Javelin\n",
       ":   0.0451522186379758Camaro Z28\n",
       ":   0.103537545707393Pontiac Firebird\n",
       ":   0.0187540395749344Fiat X1-9\n",
       ":   0.949848334777405Porsche 914-2\n",
       ":   1.05005316109991Lotus Europa\n",
       ":   0.992722280618428Ford Pantera L\n",
       ":   0.949904850277019Ferrari Dino\n",
       ":   0.950231963102125Maserati Bora\n",
       ":   0.950063972057843Volvo 142E\n",
       ":   0.598773830780849\n",
       "\n"
      ],
      "text/plain": [
       "          Mazda RX4       Mazda RX4 Wag          Datsun 710      Hornet 4 Drive \n",
       "         0.95003447          0.86882314          0.75141645          0.04924846 \n",
       "  Hornet Sportabout             Valiant          Duster 360           Merc 240D \n",
       "         0.04996779          0.02280027          0.05012648          0.29654776 \n",
       "           Merc 230            Merc 280           Merc 280C          Merc 450SE \n",
       "         0.04983261          0.14269083          0.04989647         -0.01436355 \n",
       "         Merc 450SL         Merc 450SLC  Cadillac Fleetwood Lincoln Continental \n",
       "         0.01557293         -0.01570869          0.04832934          0.05007412 \n",
       "  Chrysler Imperial            Fiat 128         Honda Civic      Toyota Corolla \n",
       "         0.01758990          0.93202251          0.96109865          0.94986263 \n",
       "      Toyota Corona    Dodge Challenger         AMC Javelin          Camaro Z28 \n",
       "         0.29168179          0.05000222          0.04515222          0.10353755 \n",
       "   Pontiac Firebird           Fiat X1-9       Porsche 914-2        Lotus Europa \n",
       "         0.01875404          0.94984833          1.05005316          0.99272228 \n",
       "     Ford Pantera L        Ferrari Dino       Maserati Bora          Volvo 142E \n",
       "         0.94990485          0.95023196          0.95006397          0.59877383 "
      ]
     },
     "metadata": {},
     "output_type": "display_data"
    }
   ],
   "source": [
    "pred <- predict(mod.svm, newdata=mtcars)\n",
    "pred"
   ]
  },
  {
   "cell_type": "code",
   "execution_count": 9,
   "metadata": {},
   "outputs": [
    {
     "name": "stderr",
     "output_type": "stream",
     "text": [
      "Warning message in Ops.factor(pred, 0.5):\n",
      "\"'>=' not meaningful for factors\"\n"
     ]
    }
   ],
   "source": [
    "pred_cat <- ifelse(pred>=0.5,1,0)"
   ]
  },
  {
   "cell_type": "code",
   "execution_count": 13,
   "metadata": {},
   "outputs": [
    {
     "data": {
      "text/plain": [
       "< table of extent 0 x 2 >"
      ]
     },
     "metadata": {},
     "output_type": "display_data"
    }
   ],
   "source": [
    "table(pred=pred_cat, observ=mtcars$am)\n",
    "\n"
   ]
  },
  {
   "cell_type": "code",
   "execution_count": 14,
   "metadata": {},
   "outputs": [
    {
     "data": {
      "text/plain": [
       "                     observ\n",
       "pred                  0 1\n",
       "  -0.0157086912712555 1 0\n",
       "  -0.0143635478226235 1 0\n",
       "  0.0155729297213909  1 0\n",
       "  0.0175898962585101  1 0\n",
       "  0.0187540395749344  1 0\n",
       "  0.0228002734666975  1 0\n",
       "  0.0451522186379758  1 0\n",
       "  0.0483293367335643  1 0\n",
       "  0.0492484595746238  1 0\n",
       "  0.0498326090970087  1 0\n",
       "  0.0498964665498997  1 0\n",
       "  0.049967785850571   1 0\n",
       "  0.0500022214668857  1 0\n",
       "  0.0500741195098094  1 0\n",
       "  0.0501264798490597  1 0\n",
       "  0.103537545707393   1 0\n",
       "  0.142690832349059   1 0\n",
       "  0.291681793915199   1 0\n",
       "  0.296547762280636   1 0\n",
       "  0.598773830780849   0 1\n",
       "  0.751416447952524   0 1\n",
       "  0.868823144907747   0 1\n",
       "  0.932022509163131   0 1\n",
       "  0.949848334777405   0 1\n",
       "  0.949862633287836   0 1\n",
       "  0.949904850277019   0 1\n",
       "  0.950034467767844   0 1\n",
       "  0.950063972057843   0 1\n",
       "  0.950231963102125   0 1\n",
       "  0.961098654623085   0 1\n",
       "  0.992722280618428   0 1\n",
       "  1.05005316109991    0 1"
      ]
     },
     "metadata": {},
     "output_type": "display_data"
    }
   ],
   "source": [
    "table(pred=pred,observ=mtcars$am)"
   ]
  },
  {
   "cell_type": "code",
   "execution_count": null,
   "metadata": {},
   "outputs": [],
   "source": []
  }
 ],
 "metadata": {
  "kernelspec": {
   "display_name": "R",
   "language": "R",
   "name": "ir"
  },
  "language_info": {
   "codemirror_mode": "r",
   "file_extension": ".r",
   "mimetype": "text/x-r-source",
   "name": "R",
   "pygments_lexer": "r",
   "version": "4.0.1"
  }
 },
 "nbformat": 4,
 "nbformat_minor": 2
}
