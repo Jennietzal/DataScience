{
 "cells": [
  {
   "cell_type": "code",
   "execution_count": 4,
   "metadata": {},
   "outputs": [
    {
     "name": "stderr",
     "output_type": "stream",
     "text": [
      "Warning message:\n",
      "\"package 'dplyr' was built under R version 4.0.2\"\n",
      "\n",
      "Attaching package: 'dplyr'\n",
      "\n",
      "\n",
      "The following objects are masked from 'package:stats':\n",
      "\n",
      "    filter, lag\n",
      "\n",
      "\n",
      "The following objects are masked from 'package:base':\n",
      "\n",
      "    intersect, setdiff, setequal, union\n",
      "\n",
      "\n"
     ]
    }
   ],
   "source": [
    "library(dplyr)"
   ]
  },
  {
   "cell_type": "code",
   "execution_count": 3,
   "metadata": {},
   "outputs": [],
   "source": [
    "cardio<- read.csv(\"C:/Users/Xnes/DataScience/data/heart_failure_clinical_records_dataset.csv\")"
   ]
  },
  {
   "cell_type": "code",
   "execution_count": 5,
   "metadata": {},
   "outputs": [
    {
     "data": {
      "text/plain": [
       "      age           anaemia       creatinine_phosphokinase    diabetes     \n",
       " Min.   :40.00   Min.   :0.0000   Min.   :  23.0           Min.   :0.0000  \n",
       " 1st Qu.:51.00   1st Qu.:0.0000   1st Qu.: 116.5           1st Qu.:0.0000  \n",
       " Median :60.00   Median :0.0000   Median : 250.0           Median :0.0000  \n",
       " Mean   :60.83   Mean   :0.4314   Mean   : 581.8           Mean   :0.4181  \n",
       " 3rd Qu.:70.00   3rd Qu.:1.0000   3rd Qu.: 582.0           3rd Qu.:1.0000  \n",
       " Max.   :95.00   Max.   :1.0000   Max.   :7861.0           Max.   :1.0000  \n",
       " ejection_fraction high_blood_pressure   platelets      serum_creatinine\n",
       " Min.   :14.00     Min.   :0.0000      Min.   : 25100   Min.   :0.500   \n",
       " 1st Qu.:30.00     1st Qu.:0.0000      1st Qu.:212500   1st Qu.:0.900   \n",
       " Median :38.00     Median :0.0000      Median :262000   Median :1.100   \n",
       " Mean   :38.08     Mean   :0.3512      Mean   :263358   Mean   :1.394   \n",
       " 3rd Qu.:45.00     3rd Qu.:1.0000      3rd Qu.:303500   3rd Qu.:1.400   \n",
       " Max.   :80.00     Max.   :1.0000      Max.   :850000   Max.   :9.400   \n",
       "  serum_sodium        sex            smoking            time      \n",
       " Min.   :113.0   Min.   :0.0000   Min.   :0.0000   Min.   :  4.0  \n",
       " 1st Qu.:134.0   1st Qu.:0.0000   1st Qu.:0.0000   1st Qu.: 73.0  \n",
       " Median :137.0   Median :1.0000   Median :0.0000   Median :115.0  \n",
       " Mean   :136.6   Mean   :0.6488   Mean   :0.3211   Mean   :130.3  \n",
       " 3rd Qu.:140.0   3rd Qu.:1.0000   3rd Qu.:1.0000   3rd Qu.:203.0  \n",
       " Max.   :148.0   Max.   :1.0000   Max.   :1.0000   Max.   :285.0  \n",
       "  DEATH_EVENT    \n",
       " Min.   :0.0000  \n",
       " 1st Qu.:0.0000  \n",
       " Median :0.0000  \n",
       " Mean   :0.3211  \n",
       " 3rd Qu.:1.0000  \n",
       " Max.   :1.0000  "
      ]
     },
     "metadata": {},
     "output_type": "display_data"
    }
   ],
   "source": [
    "summary(cardio)"
   ]
  },
  {
   "cell_type": "code",
   "execution_count": null,
   "metadata": {},
   "outputs": [],
   "source": []
  },
  {
   "cell_type": "code",
   "execution_count": 63,
   "metadata": {},
   "outputs": [
    {
     "data": {
      "text/plain": [
       "\n",
       "Call:\n",
       "glm(formula = as.factor(DEATH_EVENT) ~ ., family = \"binomial\", \n",
       "    data = cardio)\n",
       "\n",
       "Deviance Residuals: \n",
       "    Min       1Q   Median       3Q      Max  \n",
       "-2.1848  -0.5706  -0.2401   0.4466   2.6668  \n",
       "\n",
       "Coefficients:\n",
       "                           Estimate Std. Error z value Pr(>|z|)    \n",
       "(Intercept)               1.018e+01  5.657e+00   1.801 0.071774 .  \n",
       "age                       4.742e-02  1.580e-02   3.001 0.002690 ** \n",
       "anaemia                  -7.470e-03  3.605e-01  -0.021 0.983467    \n",
       "creatinine_phosphokinase  2.222e-04  1.779e-04   1.249 0.211684    \n",
       "diabetes                  1.451e-01  3.512e-01   0.413 0.679380    \n",
       "ejection_fraction        -7.666e-02  1.633e-02  -4.695 2.67e-06 ***\n",
       "high_blood_pressure      -1.027e-01  3.587e-01  -0.286 0.774688    \n",
       "platelets                -1.200e-06  1.889e-06  -0.635 0.525404    \n",
       "serum_creatinine          6.661e-01  1.815e-01   3.670 0.000242 ***\n",
       "serum_sodium             -6.698e-02  3.974e-02  -1.686 0.091855 .  \n",
       "sex                      -5.337e-01  4.139e-01  -1.289 0.197299    \n",
       "smoking                  -1.349e-02  4.126e-01  -0.033 0.973915    \n",
       "time                     -2.104e-02  3.014e-03  -6.981 2.92e-12 ***\n",
       "---\n",
       "Signif. codes:  0 '***' 0.001 '**' 0.01 '*' 0.05 '.' 0.1 ' ' 1\n",
       "\n",
       "(Dispersion parameter for binomial family taken to be 1)\n",
       "\n",
       "    Null deviance: 375.35  on 298  degrees of freedom\n",
       "Residual deviance: 219.55  on 286  degrees of freedom\n",
       "AIC: 245.55\n",
       "\n",
       "Number of Fisher Scoring iterations: 6\n"
      ]
     },
     "metadata": {},
     "output_type": "display_data"
    },
    {
     "data": {
      "text/plain": [
       "     \n",
       "pred1   0   1\n",
       "    0 190  38\n",
       "    1  13  58"
      ]
     },
     "metadata": {},
     "output_type": "display_data"
    }
   ],
   "source": [
    "mod1<-glm(as.factor(DEATH_EVENT)~.,data=cardio,family=\"binomial\")\n",
    "summary(mod1)\n",
    "pred1<-predict(mod1,data=cardio)\n",
    "pred1<-ifelse(pred1>=0.5,1,0)\n",
    "table(pred1,cardio$DEATH_EVENT)"
   ]
  },
  {
   "cell_type": "code",
   "execution_count": 70,
   "metadata": {},
   "outputs": [
    {
     "data": {
      "text/plain": [
       "\n",
       "Classification tree:\n",
       "tree(formula = as.factor(DEATH_EVENT) ~ ., data = cardio)\n",
       "Variables actually used in tree construction:\n",
       "[1] \"time\"                     \"serum_sodium\"            \n",
       "[3] \"ejection_fraction\"        \"high_blood_pressure\"     \n",
       "[5] \"serum_creatinine\"         \"age\"                     \n",
       "[7] \"creatinine_phosphokinase\" \"sex\"                     \n",
       "[9] \"diabetes\"                \n",
       "Number of terminal nodes:  18 \n",
       "Residual mean deviance:  0.3798 = 106.7 / 281 \n",
       "Misclassification error rate: 0.07692 = 23 / 299 "
      ]
     },
     "metadata": {},
     "output_type": "display_data"
    }
   ],
   "source": [
    "library(tree)\n",
    "mod2<-tree(as.factor(DEATH_EVENT)~.,data=cardio)\n",
    "summary(mod2)\n",
    "pred2<-predict(mod2,data=cardio)\n",
    "pred2<-ifelse(pred2>=0.5,1,0)\n"
   ]
  },
  {
   "cell_type": "code",
   "execution_count": 71,
   "metadata": {},
   "outputs": [
    {
     "data": {
      "text/plain": [
       "   \n",
       "      0   1\n",
       "  0 195  15\n",
       "  1   8  81"
      ]
     },
     "metadata": {},
     "output_type": "display_data"
    }
   ],
   "source": [
    "table(pred2[,2],cardio$DEATH_EVENT)"
   ]
  },
  {
   "cell_type": "code",
   "execution_count": 75,
   "metadata": {},
   "outputs": [
    {
     "data": {
      "text/plain": [
       "                          Length Class         Mode     \n",
       "predictions               299    factor        numeric  \n",
       "num.trees                   1    -none-        numeric  \n",
       "num.independent.variables   1    -none-        numeric  \n",
       "mtry                        1    -none-        numeric  \n",
       "min.node.size               1    -none-        numeric  \n",
       "prediction.error            1    -none-        numeric  \n",
       "forest                      9    ranger.forest list     \n",
       "confusion.matrix            4    table         numeric  \n",
       "splitrule                   1    -none-        character\n",
       "treetype                    1    -none-        character\n",
       "call                        3    -none-        call     \n",
       "importance.mode             1    -none-        character\n",
       "num.samples                 1    -none-        numeric  \n",
       "replace                     1    -none-        logical  "
      ]
     },
     "metadata": {},
     "output_type": "display_data"
    }
   ],
   "source": [
    "library(ranger)\n",
    "mod3<-ranger(factor(DEATH_EVENT)~.,data=cardio)\n",
    "summary(mod3)"
   ]
  },
  {
   "cell_type": "code",
   "execution_count": 84,
   "metadata": {},
   "outputs": [
    {
     "ename": "ERROR",
     "evalue": "Error in ifelse(pred3 >= 0.5, 1, 0): 'list' object cannot be coerced to type 'double'\n",
     "output_type": "error",
     "traceback": [
      "Error in ifelse(pred3 >= 0.5, 1, 0): 'list' object cannot be coerced to type 'double'\nTraceback:\n",
      "1. ifelse(pred3 >= 0.5, 1, 0)"
     ]
    }
   ],
   "source": [
    "pred3<-predict(mod3,data=cardio)\n",
    "pred3<-ifelse(pred3>=0.5,1,0)\n",
    "pred3$predictions"
   ]
  },
  {
   "cell_type": "code",
   "execution_count": 85,
   "metadata": {},
   "outputs": [
    {
     "data": {
      "text/plain": [
       "   \n",
       "      0   1\n",
       "  0 203   0\n",
       "  1   0  96"
      ]
     },
     "metadata": {},
     "output_type": "display_data"
    }
   ],
   "source": [
    "table(pred3$predictions,cardio$DEATH_EVENT)"
   ]
  },
  {
   "cell_type": "code",
   "execution_count": 40,
   "metadata": {},
   "outputs": [
    {
     "name": "stdout",
     "output_type": "stream",
     "text": [
      "[1]\ttrain-error:0.080268 \n",
      "[2]\ttrain-error:0.036789 \n",
      "[3]\ttrain-error:0.030100 \n",
      "[4]\ttrain-error:0.016722 \n",
      "[5]\ttrain-error:0.006689 \n",
      "[6]\ttrain-error:0.003344 \n",
      "[7]\ttrain-error:0.000000 \n"
     ]
    },
    {
     "data": {
      "text/plain": [
       "               Length Class              Mode       \n",
       "handle             1  xgb.Booster.handle externalptr\n",
       "raw            10773  -none-             raw        \n",
       "niter              1  -none-             numeric    \n",
       "evaluation_log     2  data.table         list       \n",
       "call              16  -none-             call       \n",
       "params             4  -none-             list       \n",
       "callbacks          2  -none-             list       \n",
       "feature_names     12  -none-             character  \n",
       "nfeatures          1  -none-             numeric    "
      ]
     },
     "metadata": {},
     "output_type": "display_data"
    }
   ],
   "source": [
    "X<-as.matrix(cardio[,1:12])\n",
    "library(xgboost)\n",
    "mod4<-xgboost(data=X,label=cardio$DEATH_EVENT, max_depth=6, eta=1,nrounds = 7,objective=\"binary:logistic\")\n",
    "summary(mod4)"
   ]
  },
  {
   "cell_type": "code",
   "execution_count": 44,
   "metadata": {},
   "outputs": [
    {
     "data": {
      "text/plain": [
       "     \n",
       "pred4   0   1\n",
       "    0 203   0\n",
       "    1   0  96"
      ]
     },
     "metadata": {},
     "output_type": "display_data"
    }
   ],
   "source": [
    "pred4<-predict(mod4,newdata=X)\n",
    "pred4<-ifelse(pred4>=0.5,1,0)\n",
    "table(pred4,cardio$DEATH_EVENT)"
   ]
  },
  {
   "cell_type": "code",
   "execution_count": 59,
   "metadata": {},
   "outputs": [
    {
     "name": "stderr",
     "output_type": "stream",
     "text": [
      "Warning message in (function (model, command.args = NULL, ..., d = NULL, warn.suboptimal = getOption(\"liquidSVM.warn.suboptimal\", :\n",
      "\"Solution may not be optimal: try training again using max_gamma=25\"\n"
     ]
    },
    {
     "data": {
      "text/plain": [
       "   Length     Class      Mode \n",
       "        1 liquidSVM        S4 "
      ]
     },
     "metadata": {},
     "output_type": "display_data"
    }
   ],
   "source": [
    "library(liquidSVM)\n",
    "mod5<-svm(factor(DEATH_EVENT)~.,cardio)\n",
    "summary(mod5)\n"
   ]
  },
  {
   "cell_type": "code",
   "execution_count": 60,
   "metadata": {},
   "outputs": [
    {
     "data": {
      "text/plain": [
       "     \n",
       "pred5   0   1\n",
       "    0 194  31\n",
       "    1   9  65"
      ]
     },
     "metadata": {},
     "output_type": "display_data"
    }
   ],
   "source": [
    "pred5<-predict(mod5,newdata=cardio)\n",
    "#pred5<-ifelse(pred5>=0.5,1,0)\n",
    "table(pred5,cardio$DEATH_EVENT)"
   ]
  },
  {
   "cell_type": "code",
   "execution_count": null,
   "metadata": {},
   "outputs": [],
   "source": [
    "knn(train, test, cl, k = 3, prob=TRUE)"
   ]
  }
 ],
 "metadata": {
  "kernelspec": {
   "display_name": "R",
   "language": "R",
   "name": "ir"
  },
  "language_info": {
   "codemirror_mode": "r",
   "file_extension": ".r",
   "mimetype": "text/x-r-source",
   "name": "R",
   "pygments_lexer": "r",
   "version": "4.0.1"
  }
 },
 "nbformat": 4,
 "nbformat_minor": 4
}
