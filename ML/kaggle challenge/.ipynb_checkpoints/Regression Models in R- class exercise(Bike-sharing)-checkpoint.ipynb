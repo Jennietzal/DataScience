{
 "cells": [
  {
   "cell_type": "markdown",
   "metadata": {},
   "source": [
    "# Regression Models in R (BikeSharing -Kaggle)"
   ]
  },
  {
   "cell_type": "code",
   "execution_count": 1,
   "metadata": {},
   "outputs": [
    {
     "name": "stderr",
     "output_type": "stream",
     "text": [
      "Warning message:\n",
      "\"package 'readr' was built under R version 4.0.2\"\n",
      "Warning message:\n",
      "\"package 'dplyr' was built under R version 4.0.2\"\n",
      "\n",
      "Attaching package: 'dplyr'\n",
      "\n",
      "\n",
      "The following objects are masked from 'package:stats':\n",
      "\n",
      "    filter, lag\n",
      "\n",
      "\n",
      "The following objects are masked from 'package:base':\n",
      "\n",
      "    intersect, setdiff, setequal, union\n",
      "\n",
      "\n",
      "Warning message:\n",
      "\"package 'ggplot2' was built under R version 4.0.2\"\n"
     ]
    }
   ],
   "source": [
    "library(readr)\n",
    "library(mechkar)\n",
    "library(dplyr)\n",
    "library(ggplot2)"
   ]
  },
  {
   "cell_type": "code",
   "execution_count": 2,
   "metadata": {},
   "outputs": [],
   "source": [
    "df_train <- read.csv(\"C:/Users/Xnes/DataScience/ML/kaggle challenge/train.csv\")\n",
    "df_test <- read.csv(\"C:/Users/Xnes/DataScience/ML/kaggle challenge/test.csv\")"
   ]
  },
  {
   "cell_type": "code",
   "execution_count": 3,
   "metadata": {},
   "outputs": [
    {
     "data": {
      "text/html": [
       "<table>\n",
       "<caption>A data.frame: 6 × 12</caption>\n",
       "<thead>\n",
       "\t<tr><th></th><th scope=col>id</th><th scope=col>season</th><th scope=col>mnth</th><th scope=col>holiday</th><th scope=col>weekday</th><th scope=col>workingday</th><th scope=col>weathersit</th><th scope=col>temp</th><th scope=col>atemp</th><th scope=col>hum</th><th scope=col>windspeed</th><th scope=col>cnt</th></tr>\n",
       "\t<tr><th></th><th scope=col>&lt;int&gt;</th><th scope=col>&lt;int&gt;</th><th scope=col>&lt;int&gt;</th><th scope=col>&lt;int&gt;</th><th scope=col>&lt;int&gt;</th><th scope=col>&lt;int&gt;</th><th scope=col>&lt;int&gt;</th><th scope=col>&lt;dbl&gt;</th><th scope=col>&lt;dbl&gt;</th><th scope=col>&lt;dbl&gt;</th><th scope=col>&lt;dbl&gt;</th><th scope=col>&lt;int&gt;</th></tr>\n",
       "</thead>\n",
       "<tbody>\n",
       "\t<tr><th scope=row>1</th><td>1</td><td>1</td><td>1</td><td>0</td><td>6</td><td>0</td><td>2</td><td>0.344167</td><td>0.363625</td><td>0.805833</td><td>0.1604460</td><td> 985</td></tr>\n",
       "\t<tr><th scope=row>2</th><td>2</td><td>1</td><td>1</td><td>0</td><td>0</td><td>0</td><td>2</td><td>0.363478</td><td>0.353739</td><td>0.696087</td><td>0.2485390</td><td> 801</td></tr>\n",
       "\t<tr><th scope=row>3</th><td>3</td><td>1</td><td>1</td><td>0</td><td>1</td><td>1</td><td>1</td><td>0.196364</td><td>0.189405</td><td>0.437273</td><td>0.2483090</td><td>1349</td></tr>\n",
       "\t<tr><th scope=row>4</th><td>4</td><td>1</td><td>1</td><td>0</td><td>2</td><td>1</td><td>1</td><td>0.200000</td><td>0.212122</td><td>0.590435</td><td>0.1602960</td><td>1562</td></tr>\n",
       "\t<tr><th scope=row>5</th><td>5</td><td>1</td><td>1</td><td>0</td><td>3</td><td>1</td><td>1</td><td>0.226957</td><td>0.229270</td><td>0.436957</td><td>0.1869000</td><td>1600</td></tr>\n",
       "\t<tr><th scope=row>6</th><td>6</td><td>1</td><td>1</td><td>0</td><td>4</td><td>1</td><td>1</td><td>0.204348</td><td>0.233209</td><td>0.518261</td><td>0.0895652</td><td>1606</td></tr>\n",
       "</tbody>\n",
       "</table>\n"
      ],
      "text/latex": [
       "A data.frame: 6 × 12\n",
       "\\begin{tabular}{r|llllllllllll}\n",
       "  & id & season & mnth & holiday & weekday & workingday & weathersit & temp & atemp & hum & windspeed & cnt\\\\\n",
       "  & <int> & <int> & <int> & <int> & <int> & <int> & <int> & <dbl> & <dbl> & <dbl> & <dbl> & <int>\\\\\n",
       "\\hline\n",
       "\t1 & 1 & 1 & 1 & 0 & 6 & 0 & 2 & 0.344167 & 0.363625 & 0.805833 & 0.1604460 &  985\\\\\n",
       "\t2 & 2 & 1 & 1 & 0 & 0 & 0 & 2 & 0.363478 & 0.353739 & 0.696087 & 0.2485390 &  801\\\\\n",
       "\t3 & 3 & 1 & 1 & 0 & 1 & 1 & 1 & 0.196364 & 0.189405 & 0.437273 & 0.2483090 & 1349\\\\\n",
       "\t4 & 4 & 1 & 1 & 0 & 2 & 1 & 1 & 0.200000 & 0.212122 & 0.590435 & 0.1602960 & 1562\\\\\n",
       "\t5 & 5 & 1 & 1 & 0 & 3 & 1 & 1 & 0.226957 & 0.229270 & 0.436957 & 0.1869000 & 1600\\\\\n",
       "\t6 & 6 & 1 & 1 & 0 & 4 & 1 & 1 & 0.204348 & 0.233209 & 0.518261 & 0.0895652 & 1606\\\\\n",
       "\\end{tabular}\n"
      ],
      "text/markdown": [
       "\n",
       "A data.frame: 6 × 12\n",
       "\n",
       "| <!--/--> | id &lt;int&gt; | season &lt;int&gt; | mnth &lt;int&gt; | holiday &lt;int&gt; | weekday &lt;int&gt; | workingday &lt;int&gt; | weathersit &lt;int&gt; | temp &lt;dbl&gt; | atemp &lt;dbl&gt; | hum &lt;dbl&gt; | windspeed &lt;dbl&gt; | cnt &lt;int&gt; |\n",
       "|---|---|---|---|---|---|---|---|---|---|---|---|---|\n",
       "| 1 | 1 | 1 | 1 | 0 | 6 | 0 | 2 | 0.344167 | 0.363625 | 0.805833 | 0.1604460 |  985 |\n",
       "| 2 | 2 | 1 | 1 | 0 | 0 | 0 | 2 | 0.363478 | 0.353739 | 0.696087 | 0.2485390 |  801 |\n",
       "| 3 | 3 | 1 | 1 | 0 | 1 | 1 | 1 | 0.196364 | 0.189405 | 0.437273 | 0.2483090 | 1349 |\n",
       "| 4 | 4 | 1 | 1 | 0 | 2 | 1 | 1 | 0.200000 | 0.212122 | 0.590435 | 0.1602960 | 1562 |\n",
       "| 5 | 5 | 1 | 1 | 0 | 3 | 1 | 1 | 0.226957 | 0.229270 | 0.436957 | 0.1869000 | 1600 |\n",
       "| 6 | 6 | 1 | 1 | 0 | 4 | 1 | 1 | 0.204348 | 0.233209 | 0.518261 | 0.0895652 | 1606 |\n",
       "\n"
      ],
      "text/plain": [
       "  id season mnth holiday weekday workingday weathersit temp     atemp   \n",
       "1 1  1      1    0       6       0          2          0.344167 0.363625\n",
       "2 2  1      1    0       0       0          2          0.363478 0.353739\n",
       "3 3  1      1    0       1       1          1          0.196364 0.189405\n",
       "4 4  1      1    0       2       1          1          0.200000 0.212122\n",
       "5 5  1      1    0       3       1          1          0.226957 0.229270\n",
       "6 6  1      1    0       4       1          1          0.204348 0.233209\n",
       "  hum      windspeed cnt \n",
       "1 0.805833 0.1604460  985\n",
       "2 0.696087 0.2485390  801\n",
       "3 0.437273 0.2483090 1349\n",
       "4 0.590435 0.1602960 1562\n",
       "5 0.436957 0.1869000 1600\n",
       "6 0.518261 0.0895652 1606"
      ]
     },
     "metadata": {},
     "output_type": "display_data"
    },
    {
     "data": {
      "text/html": [
       "<style>\n",
       ".list-inline {list-style: none; margin:0; padding: 0}\n",
       ".list-inline>li {display: inline-block}\n",
       ".list-inline>li:not(:last-child)::after {content: \"\\00b7\"; padding: 0 .5ex}\n",
       "</style>\n",
       "<ol class=list-inline><li>365</li><li>12</li></ol>\n"
      ],
      "text/latex": [
       "\\begin{enumerate*}\n",
       "\\item 365\n",
       "\\item 12\n",
       "\\end{enumerate*}\n"
      ],
      "text/markdown": [
       "1. 365\n",
       "2. 12\n",
       "\n",
       "\n"
      ],
      "text/plain": [
       "[1] 365  12"
      ]
     },
     "metadata": {},
     "output_type": "display_data"
    }
   ],
   "source": [
    "head(df_train)\n",
    "dim(df_train)"
   ]
  },
  {
   "cell_type": "markdown",
   "metadata": {},
   "source": [
    "# EDA"
   ]
  },
  {
   "cell_type": "code",
   "execution_count": 4,
   "metadata": {},
   "outputs": [
    {
     "data": {
      "text/plain": [
       "       id          season           mnth           holiday      \n",
       " Min.   :  1   Min.   :1.000   Min.   : 1.000   Min.   :0.0000  \n",
       " 1st Qu.: 92   1st Qu.:2.000   1st Qu.: 4.000   1st Qu.:0.0000  \n",
       " Median :183   Median :3.000   Median : 7.000   Median :0.0000  \n",
       " Mean   :183   Mean   :2.499   Mean   : 6.526   Mean   :0.0274  \n",
       " 3rd Qu.:274   3rd Qu.:3.000   3rd Qu.:10.000   3rd Qu.:0.0000  \n",
       " Max.   :365   Max.   :4.000   Max.   :12.000   Max.   :1.0000  \n",
       "    weekday        workingday       weathersit         temp        \n",
       " Min.   :0.000   Min.   :0.0000   Min.   :1.000   Min.   :0.05913  \n",
       " 1st Qu.:1.000   1st Qu.:0.0000   1st Qu.:1.000   1st Qu.:0.32500  \n",
       " Median :3.000   Median :1.0000   Median :1.000   Median :0.47917  \n",
       " Mean   :3.008   Mean   :0.6849   Mean   :1.422   Mean   :0.48666  \n",
       " 3rd Qu.:5.000   3rd Qu.:1.0000   3rd Qu.:2.000   3rd Qu.:0.65667  \n",
       " Max.   :6.000   Max.   :1.0000   Max.   :3.000   Max.   :0.84917  \n",
       "     atemp              hum           windspeed            cnt      \n",
       " Min.   :0.07907   Min.   :0.0000   Min.   :0.02239   Min.   : 431  \n",
       " 1st Qu.:0.32195   1st Qu.:0.5383   1st Qu.:0.13558   1st Qu.:2132  \n",
       " Median :0.47285   Median :0.6475   Median :0.18690   Median :3740  \n",
       " Mean   :0.46684   Mean   :0.6437   Mean   :0.19140   Mean   :3406  \n",
       " 3rd Qu.:0.61238   3rd Qu.:0.7421   3rd Qu.:0.23508   3rd Qu.:4586  \n",
       " Max.   :0.84090   Max.   :0.9725   Max.   :0.50746   Max.   :6043  "
      ]
     },
     "metadata": {},
     "output_type": "display_data"
    }
   ],
   "source": [
    "summary(df_train)"
   ]
  },
  {
   "cell_type": "code",
   "execution_count": 5,
   "metadata": {},
   "outputs": [],
   "source": [
    "df_train$season <- factor(df_train$season)\n",
    "df_train$mnth <- factor(df_train$mnth)\n",
    "df_train$holiday <- factor(df_train$holiday)\n",
    "df_train$weekday <- factor(df_train$weekday)\n",
    "df_train$weathersit <- factor(df_train$weathersit)\n",
    "df_train$workingday <- factor(df_train$workingday)"
   ]
  },
  {
   "cell_type": "code",
   "execution_count": 6,
   "metadata": {},
   "outputs": [],
   "source": [
    "df_test$season <- factor(df_test$season)\n",
    "df_test$mnth <- factor(df_test$mnth)\n",
    "df_test$holiday <- factor(df_test$holiday)\n",
    "df_test$weekday <- factor(df_test$weekday)\n",
    "df_test$weathersit <- factor(df_test$weathersit)\n",
    "df_test$workingday <- factor(df_test$workingday)"
   ]
  },
  {
   "cell_type": "code",
   "execution_count": 7,
   "metadata": {},
   "outputs": [
    {
     "data": {
      "text/plain": [
       "       id        season      mnth     holiday weekday workingday weathersit\n",
       " Min.   :366.0   1:91   1      : 31   0:355   0:53    0:116      1:237     \n",
       " 1st Qu.:457.2   2:92   3      : 31   1: 11   1:53    1:250      2:123     \n",
       " Median :548.5   3:94   5      : 31           2:52               3:  6     \n",
       " Mean   :548.5   4:89   7      : 31           3:52                         \n",
       " 3rd Qu.:639.8          8      : 31           4:52                         \n",
       " Max.   :731.0          10     : 31           5:52                         \n",
       "                        (Other):180           6:52                         \n",
       "      temp            atemp             hum           windspeed      \n",
       " Min.   :0.1075   Min.   :0.1017   Min.   :0.2542   Min.   :0.04665  \n",
       " 1st Qu.:0.3477   1st Qu.:0.3507   1st Qu.:0.5081   1st Qu.:0.13372  \n",
       " Median :0.5142   Median :0.4978   Median :0.6119   Median :0.17475  \n",
       " Mean   :0.5041   Mean   :0.4819   Mean   :0.6122   Mean   :0.18957  \n",
       " 3rd Qu.:0.6540   3rd Qu.:0.6076   3rd Qu.:0.7111   3rd Qu.:0.23120  \n",
       " Max.   :0.8617   Max.   :0.8049   Max.   :0.9250   Max.   :0.44156  \n",
       "                                                                     "
      ]
     },
     "metadata": {},
     "output_type": "display_data"
    }
   ],
   "source": [
    "summary(df_test)"
   ]
  },
  {
   "cell_type": "code",
   "execution_count": 8,
   "metadata": {},
   "outputs": [
    {
     "data": {
      "text/plain": [
       "       id      season      mnth     holiday weekday workingday weathersit\n",
       " Min.   :  1   1:90   1      : 31   0:355   0:52    0:115      1:226     \n",
       " 1st Qu.: 92   2:92   3      : 31   1: 10   1:52    1:250      2:124     \n",
       " Median :183   3:94   5      : 31           2:52               3: 15     \n",
       " Mean   :183   4:89   7      : 31           3:52                         \n",
       " 3rd Qu.:274          8      : 31           4:52                         \n",
       " Max.   :365          10     : 31           5:52                         \n",
       "                      (Other):179           6:53                         \n",
       "      temp             atemp              hum           windspeed      \n",
       " Min.   :0.05913   Min.   :0.07907   Min.   :0.0000   Min.   :0.02239  \n",
       " 1st Qu.:0.32500   1st Qu.:0.32195   1st Qu.:0.5383   1st Qu.:0.13558  \n",
       " Median :0.47917   Median :0.47285   Median :0.6475   Median :0.18690  \n",
       " Mean   :0.48666   Mean   :0.46684   Mean   :0.6437   Mean   :0.19140  \n",
       " 3rd Qu.:0.65667   3rd Qu.:0.61238   3rd Qu.:0.7421   3rd Qu.:0.23508  \n",
       " Max.   :0.84917   Max.   :0.84090   Max.   :0.9725   Max.   :0.50746  \n",
       "                                                                       \n",
       "      cnt      \n",
       " Min.   : 431  \n",
       " 1st Qu.:2132  \n",
       " Median :3740  \n",
       " Mean   :3406  \n",
       " 3rd Qu.:4586  \n",
       " Max.   :6043  \n",
       "               "
      ]
     },
     "metadata": {},
     "output_type": "display_data"
    }
   ],
   "source": [
    "summary(df_train)"
   ]
  },
  {
   "cell_type": "markdown",
   "metadata": {},
   "source": [
    "# DATASET PARTITION"
   ]
  },
  {
   "cell_type": "code",
   "execution_count": 10,
   "metadata": {},
   "outputs": [
    {
     "name": "stderr",
     "output_type": "stream",
     "text": [
      "Dataset partitioned into:\n",
      "\n",
      " + Train dataset: train\n",
      "\n",
      " + Test dataset: test\n",
      "\n",
      "Warning message in Table1(data = df, y = \"traintest_ind_\", messages = FALSE):\n",
      "\"The following variables have unique values and will not be included in the analysis: \"\n"
     ]
    },
    {
     "name": "stdout",
     "output_type": "stream",
     "text": [
      "  |=================================================================     |  92%"
     ]
    },
    {
     "name": "stderr",
     "output_type": "stream",
     "text": [
      " \n",
      "\n",
      "You got a perfectly balanced training and test datasets\n",
      "\n",
      " \n",
      "\n"
     ]
    },
    {
     "data": {
      "text/html": [
       "<table>\n",
       "<caption>A tibble: 43 × 6</caption>\n",
       "<thead>\n",
       "\t<tr><th scope=col>V1</th><th scope=col>V2</th><th scope=col>Pop</th><th scope=col>1</th><th scope=col>2</th><th scope=col>pval</th></tr>\n",
       "\t<tr><th scope=col>&lt;chr&gt;</th><th scope=col>&lt;chr&gt;</th><th scope=col>&lt;chr&gt;</th><th scope=col>&lt;chr&gt;</th><th scope=col>&lt;chr&gt;</th><th scope=col>&lt;chr&gt;</th></tr>\n",
       "</thead>\n",
       "<tbody>\n",
       "\t<tr><td>Individuals   </td><td>n           </td><td>365                      </td><td>255                      </td><td>110                      </td><td>NA   </td></tr>\n",
       "\t<tr><td>id            </td><td>Mean (SD)   </td><td>183.0 (105.5)            </td><td>187.0 (106.8)            </td><td>173.7 (102.4)            </td><td>NA   </td></tr>\n",
       "\t<tr><td>id            </td><td>Median (IQR)</td><td>183.0 (92.0-274.0)       </td><td>186.0 (93.5-286.5)       </td><td>176.0 (89.8-243.8)       </td><td>0.27 </td></tr>\n",
       "\t<tr><td>season        </td><td>1           </td><td>90 (24.7%)               </td><td>62 (24.3%)               </td><td>28 (25.5%)               </td><td>NA   </td></tr>\n",
       "\t<tr><td>season        </td><td>2           </td><td>92 (25.2%)               </td><td>62 (24.3%)               </td><td>30 (27.3%)               </td><td>0.108</td></tr>\n",
       "\t<tr><td>season        </td><td>3           </td><td>94 (25.8%)               </td><td>60 (23.5%)               </td><td>34 (30.9%)               </td><td>NA   </td></tr>\n",
       "\t<tr><td>season        </td><td>4           </td><td>89 (24.4%)               </td><td>71 (27.8%)               </td><td>18 (16.4%)               </td><td>NA   </td></tr>\n",
       "\t<tr><td>mnth          </td><td>1           </td><td>31 (8.5%)                </td><td>18 (7.1%)                </td><td>13 (11.8%)               </td><td>NA   </td></tr>\n",
       "\t<tr><td>mnth          </td><td>2           </td><td>28 (7.7%)                </td><td>22 (8.6%)                </td><td>6 (5.5%)                 </td><td>0.237</td></tr>\n",
       "\t<tr><td>mnth          </td><td>3           </td><td>31 (8.5%)                </td><td>22 (8.6%)                </td><td>9 (8.2%)                 </td><td>NA   </td></tr>\n",
       "\t<tr><td>mnth          </td><td>4           </td><td>30 (8.2%)                </td><td>22 (8.6%)                </td><td>8 (7.3%)                 </td><td>NA   </td></tr>\n",
       "\t<tr><td>mnth          </td><td>5           </td><td>31 (8.5%)                </td><td>19 (7.5%)                </td><td>12 (10.9%)               </td><td>NA   </td></tr>\n",
       "\t<tr><td>mnth          </td><td>6           </td><td>30 (8.2%)                </td><td>22 (8.6%)                </td><td>8 (7.3%)                 </td><td>NA   </td></tr>\n",
       "\t<tr><td>mnth          </td><td>7           </td><td>31 (8.5%)                </td><td>20 (7.8%)                </td><td>11 (10.0%)               </td><td>NA   </td></tr>\n",
       "\t<tr><td>mnth          </td><td>8           </td><td>31 (8.5%)                </td><td>16 (6.3%)                </td><td>15 (13.6%)               </td><td>NA   </td></tr>\n",
       "\t<tr><td>mnth          </td><td>9           </td><td>30 (8.2%)                </td><td>21 (8.2%)                </td><td>9 (8.2%)                 </td><td>NA   </td></tr>\n",
       "\t<tr><td>mnth          </td><td>10          </td><td>31 (8.5%)                </td><td>25 (9.8%)                </td><td>6 (5.5%)                 </td><td>NA   </td></tr>\n",
       "\t<tr><td>mnth          </td><td>11          </td><td>30 (8.2%)                </td><td>26 (10.2%)               </td><td>4 (3.6%)                 </td><td>NA   </td></tr>\n",
       "\t<tr><td>mnth          </td><td>12          </td><td>31 (8.5%)                </td><td>22 (8.6%)                </td><td>9 (8.2%)                 </td><td>NA   </td></tr>\n",
       "\t<tr><td>holiday       </td><td>1           </td><td>10 (2.7%)                </td><td>9 (3.5%)                 </td><td>1 (0.9%)                 </td><td>0.16 </td></tr>\n",
       "\t<tr><td>weekday       </td><td>0           </td><td>52 (14.2%)               </td><td>34 (13.3%)               </td><td>18 (16.4%)               </td><td>NA   </td></tr>\n",
       "\t<tr><td>weekday       </td><td>1           </td><td>52 (14.2%)               </td><td>37 (14.5%)               </td><td>15 (13.6%)               </td><td>0.959</td></tr>\n",
       "\t<tr><td>weekday       </td><td>2           </td><td>52 (14.2%)               </td><td>37 (14.5%)               </td><td>15 (13.6%)               </td><td>NA   </td></tr>\n",
       "\t<tr><td>weekday       </td><td>3           </td><td>52 (14.2%)               </td><td>34 (13.3%)               </td><td>18 (16.4%)               </td><td>NA   </td></tr>\n",
       "\t<tr><td>weekday       </td><td>4           </td><td>52 (14.2%)               </td><td>37 (14.5%)               </td><td>15 (13.6%)               </td><td>NA   </td></tr>\n",
       "\t<tr><td>weekday       </td><td>5           </td><td>52 (14.2%)               </td><td>37 (14.5%)               </td><td>15 (13.6%)               </td><td>NA   </td></tr>\n",
       "\t<tr><td>weekday       </td><td>6           </td><td>53 (14.5%)               </td><td>39 (15.3%)               </td><td>14 (12.7%)               </td><td>NA   </td></tr>\n",
       "\t<tr><td>workingday    </td><td>1           </td><td>250 (68.5%)              </td><td>173 (67.8%)              </td><td>77 (70.0%)               </td><td>0.776</td></tr>\n",
       "\t<tr><td>weathersit    </td><td>1           </td><td>226 (61.9%)              </td><td>162 (63.5%)              </td><td>64 (58.2%)               </td><td>NA   </td></tr>\n",
       "\t<tr><td>weathersit    </td><td>2           </td><td>124 (34.0%)              </td><td>80 (31.4%)               </td><td>44 (40.0%)               </td><td>0.489</td></tr>\n",
       "\t<tr><td>weathersit    </td><td>3           </td><td>15 (4.1%)                </td><td>13 (5.1%)                </td><td>2 (1.8%)                 </td><td>NA   </td></tr>\n",
       "\t<tr><td>temp          </td><td>Mean (SD)   </td><td>0.5 (0.2)                </td><td>0.5 (0.2)                </td><td>0.5 (0.2)                </td><td>NA   </td></tr>\n",
       "\t<tr><td>temp          </td><td>Median (IQR)</td><td>0.5 (0.3-0.7)            </td><td>0.5 (0.3-0.6)            </td><td>0.6 (0.3-0.7)            </td><td>0.352</td></tr>\n",
       "\t<tr><td>atemp         </td><td>Mean (SD)   </td><td>0.5 (0.2)                </td><td>0.5 (0.2)                </td><td>0.5 (0.2)                </td><td>NA   </td></tr>\n",
       "\t<tr><td>atemp         </td><td>Median (IQR)</td><td>0.5 (0.3-0.6)            </td><td>0.5 (0.3-0.6)            </td><td>0.5 (0.3-0.6)            </td><td>0.366</td></tr>\n",
       "\t<tr><td>hum           </td><td>Mean (SD)   </td><td>0.6 (0.1)                </td><td>0.6 (0.2)                </td><td>0.7 (0.1)                </td><td>NA   </td></tr>\n",
       "\t<tr><td>hum           </td><td>Median (IQR)</td><td>0.6 (0.5-0.7)            </td><td>0.6 (0.5-0.7)            </td><td>0.7 (0.5-0.8)            </td><td>0.304</td></tr>\n",
       "\t<tr><td>windspeed     </td><td>Mean (SD)   </td><td>0.2 (0.1)                </td><td>0.2 (0.1)                </td><td>0.2 (0.1)                </td><td>NA   </td></tr>\n",
       "\t<tr><td>windspeed     </td><td>Median (IQR)</td><td>0.2 (0.1-0.2)            </td><td>0.2 (0.1-0.2)            </td><td>0.2 (0.1-0.2)            </td><td>0.386</td></tr>\n",
       "\t<tr><td>cnt           </td><td>Mean (SD)   </td><td>3,405.8 (1,378.8)        </td><td>3,385.9 (1,381.3)        </td><td>3,451.8 (1,378.0)        </td><td>NA   </td></tr>\n",
       "\t<tr><td>cnt           </td><td>Median (IQR)</td><td>3,740.0 (2,132.0-4,586.0)</td><td>3,663.0 (2,066.5-4,552.0)</td><td>3,830.0 (2,405.8-4,645.2)</td><td>0.676</td></tr>\n",
       "\t<tr><td>traintest_ind_</td><td>Mean (SD)   </td><td>1.3 (0.5)                </td><td>NA                       </td><td>NA                       </td><td>NA   </td></tr>\n",
       "\t<tr><td>traintest_ind_</td><td>Median (IQR)</td><td>1.0 (1.0-2.0)            </td><td>NA                       </td><td>NA                       </td><td>0    </td></tr>\n",
       "</tbody>\n",
       "</table>\n"
      ],
      "text/latex": [
       "A tibble: 43 × 6\n",
       "\\begin{tabular}{llllll}\n",
       " V1 & V2 & Pop & 1 & 2 & pval\\\\\n",
       " <chr> & <chr> & <chr> & <chr> & <chr> & <chr>\\\\\n",
       "\\hline\n",
       "\t Individuals    & n            & 365                       & 255                       & 110                       & NA   \\\\\n",
       "\t id             & Mean (SD)    & 183.0 (105.5)             & 187.0 (106.8)             & 173.7 (102.4)             & NA   \\\\\n",
       "\t id             & Median (IQR) & 183.0 (92.0-274.0)        & 186.0 (93.5-286.5)        & 176.0 (89.8-243.8)        & 0.27 \\\\\n",
       "\t season         & 1            & 90 (24.7\\%)                & 62 (24.3\\%)                & 28 (25.5\\%)                & NA   \\\\\n",
       "\t season         & 2            & 92 (25.2\\%)                & 62 (24.3\\%)                & 30 (27.3\\%)                & 0.108\\\\\n",
       "\t season         & 3            & 94 (25.8\\%)                & 60 (23.5\\%)                & 34 (30.9\\%)                & NA   \\\\\n",
       "\t season         & 4            & 89 (24.4\\%)                & 71 (27.8\\%)                & 18 (16.4\\%)                & NA   \\\\\n",
       "\t mnth           & 1            & 31 (8.5\\%)                 & 18 (7.1\\%)                 & 13 (11.8\\%)                & NA   \\\\\n",
       "\t mnth           & 2            & 28 (7.7\\%)                 & 22 (8.6\\%)                 & 6 (5.5\\%)                  & 0.237\\\\\n",
       "\t mnth           & 3            & 31 (8.5\\%)                 & 22 (8.6\\%)                 & 9 (8.2\\%)                  & NA   \\\\\n",
       "\t mnth           & 4            & 30 (8.2\\%)                 & 22 (8.6\\%)                 & 8 (7.3\\%)                  & NA   \\\\\n",
       "\t mnth           & 5            & 31 (8.5\\%)                 & 19 (7.5\\%)                 & 12 (10.9\\%)                & NA   \\\\\n",
       "\t mnth           & 6            & 30 (8.2\\%)                 & 22 (8.6\\%)                 & 8 (7.3\\%)                  & NA   \\\\\n",
       "\t mnth           & 7            & 31 (8.5\\%)                 & 20 (7.8\\%)                 & 11 (10.0\\%)                & NA   \\\\\n",
       "\t mnth           & 8            & 31 (8.5\\%)                 & 16 (6.3\\%)                 & 15 (13.6\\%)                & NA   \\\\\n",
       "\t mnth           & 9            & 30 (8.2\\%)                 & 21 (8.2\\%)                 & 9 (8.2\\%)                  & NA   \\\\\n",
       "\t mnth           & 10           & 31 (8.5\\%)                 & 25 (9.8\\%)                 & 6 (5.5\\%)                  & NA   \\\\\n",
       "\t mnth           & 11           & 30 (8.2\\%)                 & 26 (10.2\\%)                & 4 (3.6\\%)                  & NA   \\\\\n",
       "\t mnth           & 12           & 31 (8.5\\%)                 & 22 (8.6\\%)                 & 9 (8.2\\%)                  & NA   \\\\\n",
       "\t holiday        & 1            & 10 (2.7\\%)                 & 9 (3.5\\%)                  & 1 (0.9\\%)                  & 0.16 \\\\\n",
       "\t weekday        & 0            & 52 (14.2\\%)                & 34 (13.3\\%)                & 18 (16.4\\%)                & NA   \\\\\n",
       "\t weekday        & 1            & 52 (14.2\\%)                & 37 (14.5\\%)                & 15 (13.6\\%)                & 0.959\\\\\n",
       "\t weekday        & 2            & 52 (14.2\\%)                & 37 (14.5\\%)                & 15 (13.6\\%)                & NA   \\\\\n",
       "\t weekday        & 3            & 52 (14.2\\%)                & 34 (13.3\\%)                & 18 (16.4\\%)                & NA   \\\\\n",
       "\t weekday        & 4            & 52 (14.2\\%)                & 37 (14.5\\%)                & 15 (13.6\\%)                & NA   \\\\\n",
       "\t weekday        & 5            & 52 (14.2\\%)                & 37 (14.5\\%)                & 15 (13.6\\%)                & NA   \\\\\n",
       "\t weekday        & 6            & 53 (14.5\\%)                & 39 (15.3\\%)                & 14 (12.7\\%)                & NA   \\\\\n",
       "\t workingday     & 1            & 250 (68.5\\%)               & 173 (67.8\\%)               & 77 (70.0\\%)                & 0.776\\\\\n",
       "\t weathersit     & 1            & 226 (61.9\\%)               & 162 (63.5\\%)               & 64 (58.2\\%)                & NA   \\\\\n",
       "\t weathersit     & 2            & 124 (34.0\\%)               & 80 (31.4\\%)                & 44 (40.0\\%)                & 0.489\\\\\n",
       "\t weathersit     & 3            & 15 (4.1\\%)                 & 13 (5.1\\%)                 & 2 (1.8\\%)                  & NA   \\\\\n",
       "\t temp           & Mean (SD)    & 0.5 (0.2)                 & 0.5 (0.2)                 & 0.5 (0.2)                 & NA   \\\\\n",
       "\t temp           & Median (IQR) & 0.5 (0.3-0.7)             & 0.5 (0.3-0.6)             & 0.6 (0.3-0.7)             & 0.352\\\\\n",
       "\t atemp          & Mean (SD)    & 0.5 (0.2)                 & 0.5 (0.2)                 & 0.5 (0.2)                 & NA   \\\\\n",
       "\t atemp          & Median (IQR) & 0.5 (0.3-0.6)             & 0.5 (0.3-0.6)             & 0.5 (0.3-0.6)             & 0.366\\\\\n",
       "\t hum            & Mean (SD)    & 0.6 (0.1)                 & 0.6 (0.2)                 & 0.7 (0.1)                 & NA   \\\\\n",
       "\t hum            & Median (IQR) & 0.6 (0.5-0.7)             & 0.6 (0.5-0.7)             & 0.7 (0.5-0.8)             & 0.304\\\\\n",
       "\t windspeed      & Mean (SD)    & 0.2 (0.1)                 & 0.2 (0.1)                 & 0.2 (0.1)                 & NA   \\\\\n",
       "\t windspeed      & Median (IQR) & 0.2 (0.1-0.2)             & 0.2 (0.1-0.2)             & 0.2 (0.1-0.2)             & 0.386\\\\\n",
       "\t cnt            & Mean (SD)    & 3,405.8 (1,378.8)         & 3,385.9 (1,381.3)         & 3,451.8 (1,378.0)         & NA   \\\\\n",
       "\t cnt            & Median (IQR) & 3,740.0 (2,132.0-4,586.0) & 3,663.0 (2,066.5-4,552.0) & 3,830.0 (2,405.8-4,645.2) & 0.676\\\\\n",
       "\t traintest\\_ind\\_ & Mean (SD)    & 1.3 (0.5)                 & NA                        & NA                        & NA   \\\\\n",
       "\t traintest\\_ind\\_ & Median (IQR) & 1.0 (1.0-2.0)             & NA                        & NA                        & 0    \\\\\n",
       "\\end{tabular}\n"
      ],
      "text/markdown": [
       "\n",
       "A tibble: 43 × 6\n",
       "\n",
       "| V1 &lt;chr&gt; | V2 &lt;chr&gt; | Pop &lt;chr&gt; | 1 &lt;chr&gt; | 2 &lt;chr&gt; | pval &lt;chr&gt; |\n",
       "|---|---|---|---|---|---|\n",
       "| Individuals    | n            | 365                       | 255                       | 110                       | NA    |\n",
       "| id             | Mean (SD)    | 183.0 (105.5)             | 187.0 (106.8)             | 173.7 (102.4)             | NA    |\n",
       "| id             | Median (IQR) | 183.0 (92.0-274.0)        | 186.0 (93.5-286.5)        | 176.0 (89.8-243.8)        | 0.27  |\n",
       "| season         | 1            | 90 (24.7%)                | 62 (24.3%)                | 28 (25.5%)                | NA    |\n",
       "| season         | 2            | 92 (25.2%)                | 62 (24.3%)                | 30 (27.3%)                | 0.108 |\n",
       "| season         | 3            | 94 (25.8%)                | 60 (23.5%)                | 34 (30.9%)                | NA    |\n",
       "| season         | 4            | 89 (24.4%)                | 71 (27.8%)                | 18 (16.4%)                | NA    |\n",
       "| mnth           | 1            | 31 (8.5%)                 | 18 (7.1%)                 | 13 (11.8%)                | NA    |\n",
       "| mnth           | 2            | 28 (7.7%)                 | 22 (8.6%)                 | 6 (5.5%)                  | 0.237 |\n",
       "| mnth           | 3            | 31 (8.5%)                 | 22 (8.6%)                 | 9 (8.2%)                  | NA    |\n",
       "| mnth           | 4            | 30 (8.2%)                 | 22 (8.6%)                 | 8 (7.3%)                  | NA    |\n",
       "| mnth           | 5            | 31 (8.5%)                 | 19 (7.5%)                 | 12 (10.9%)                | NA    |\n",
       "| mnth           | 6            | 30 (8.2%)                 | 22 (8.6%)                 | 8 (7.3%)                  | NA    |\n",
       "| mnth           | 7            | 31 (8.5%)                 | 20 (7.8%)                 | 11 (10.0%)                | NA    |\n",
       "| mnth           | 8            | 31 (8.5%)                 | 16 (6.3%)                 | 15 (13.6%)                | NA    |\n",
       "| mnth           | 9            | 30 (8.2%)                 | 21 (8.2%)                 | 9 (8.2%)                  | NA    |\n",
       "| mnth           | 10           | 31 (8.5%)                 | 25 (9.8%)                 | 6 (5.5%)                  | NA    |\n",
       "| mnth           | 11           | 30 (8.2%)                 | 26 (10.2%)                | 4 (3.6%)                  | NA    |\n",
       "| mnth           | 12           | 31 (8.5%)                 | 22 (8.6%)                 | 9 (8.2%)                  | NA    |\n",
       "| holiday        | 1            | 10 (2.7%)                 | 9 (3.5%)                  | 1 (0.9%)                  | 0.16  |\n",
       "| weekday        | 0            | 52 (14.2%)                | 34 (13.3%)                | 18 (16.4%)                | NA    |\n",
       "| weekday        | 1            | 52 (14.2%)                | 37 (14.5%)                | 15 (13.6%)                | 0.959 |\n",
       "| weekday        | 2            | 52 (14.2%)                | 37 (14.5%)                | 15 (13.6%)                | NA    |\n",
       "| weekday        | 3            | 52 (14.2%)                | 34 (13.3%)                | 18 (16.4%)                | NA    |\n",
       "| weekday        | 4            | 52 (14.2%)                | 37 (14.5%)                | 15 (13.6%)                | NA    |\n",
       "| weekday        | 5            | 52 (14.2%)                | 37 (14.5%)                | 15 (13.6%)                | NA    |\n",
       "| weekday        | 6            | 53 (14.5%)                | 39 (15.3%)                | 14 (12.7%)                | NA    |\n",
       "| workingday     | 1            | 250 (68.5%)               | 173 (67.8%)               | 77 (70.0%)                | 0.776 |\n",
       "| weathersit     | 1            | 226 (61.9%)               | 162 (63.5%)               | 64 (58.2%)                | NA    |\n",
       "| weathersit     | 2            | 124 (34.0%)               | 80 (31.4%)                | 44 (40.0%)                | 0.489 |\n",
       "| weathersit     | 3            | 15 (4.1%)                 | 13 (5.1%)                 | 2 (1.8%)                  | NA    |\n",
       "| temp           | Mean (SD)    | 0.5 (0.2)                 | 0.5 (0.2)                 | 0.5 (0.2)                 | NA    |\n",
       "| temp           | Median (IQR) | 0.5 (0.3-0.7)             | 0.5 (0.3-0.6)             | 0.6 (0.3-0.7)             | 0.352 |\n",
       "| atemp          | Mean (SD)    | 0.5 (0.2)                 | 0.5 (0.2)                 | 0.5 (0.2)                 | NA    |\n",
       "| atemp          | Median (IQR) | 0.5 (0.3-0.6)             | 0.5 (0.3-0.6)             | 0.5 (0.3-0.6)             | 0.366 |\n",
       "| hum            | Mean (SD)    | 0.6 (0.1)                 | 0.6 (0.2)                 | 0.7 (0.1)                 | NA    |\n",
       "| hum            | Median (IQR) | 0.6 (0.5-0.7)             | 0.6 (0.5-0.7)             | 0.7 (0.5-0.8)             | 0.304 |\n",
       "| windspeed      | Mean (SD)    | 0.2 (0.1)                 | 0.2 (0.1)                 | 0.2 (0.1)                 | NA    |\n",
       "| windspeed      | Median (IQR) | 0.2 (0.1-0.2)             | 0.2 (0.1-0.2)             | 0.2 (0.1-0.2)             | 0.386 |\n",
       "| cnt            | Mean (SD)    | 3,405.8 (1,378.8)         | 3,385.9 (1,381.3)         | 3,451.8 (1,378.0)         | NA    |\n",
       "| cnt            | Median (IQR) | 3,740.0 (2,132.0-4,586.0) | 3,663.0 (2,066.5-4,552.0) | 3,830.0 (2,405.8-4,645.2) | 0.676 |\n",
       "| traintest_ind_ | Mean (SD)    | 1.3 (0.5)                 | NA                        | NA                        | NA    |\n",
       "| traintest_ind_ | Median (IQR) | 1.0 (1.0-2.0)             | NA                        | NA                        | 0     |\n",
       "\n"
      ],
      "text/plain": [
       "   V1             V2           Pop                      \n",
       "1  Individuals    n            365                      \n",
       "2  id             Mean (SD)    183.0 (105.5)            \n",
       "3  id             Median (IQR) 183.0 (92.0-274.0)       \n",
       "4  season         1            90 (24.7%)               \n",
       "5  season         2            92 (25.2%)               \n",
       "6  season         3            94 (25.8%)               \n",
       "7  season         4            89 (24.4%)               \n",
       "8  mnth           1            31 (8.5%)                \n",
       "9  mnth           2            28 (7.7%)                \n",
       "10 mnth           3            31 (8.5%)                \n",
       "11 mnth           4            30 (8.2%)                \n",
       "12 mnth           5            31 (8.5%)                \n",
       "13 mnth           6            30 (8.2%)                \n",
       "14 mnth           7            31 (8.5%)                \n",
       "15 mnth           8            31 (8.5%)                \n",
       "16 mnth           9            30 (8.2%)                \n",
       "17 mnth           10           31 (8.5%)                \n",
       "18 mnth           11           30 (8.2%)                \n",
       "19 mnth           12           31 (8.5%)                \n",
       "20 holiday        1            10 (2.7%)                \n",
       "21 weekday        0            52 (14.2%)               \n",
       "22 weekday        1            52 (14.2%)               \n",
       "23 weekday        2            52 (14.2%)               \n",
       "24 weekday        3            52 (14.2%)               \n",
       "25 weekday        4            52 (14.2%)               \n",
       "26 weekday        5            52 (14.2%)               \n",
       "27 weekday        6            53 (14.5%)               \n",
       "28 workingday     1            250 (68.5%)              \n",
       "29 weathersit     1            226 (61.9%)              \n",
       "30 weathersit     2            124 (34.0%)              \n",
       "31 weathersit     3            15 (4.1%)                \n",
       "32 temp           Mean (SD)    0.5 (0.2)                \n",
       "33 temp           Median (IQR) 0.5 (0.3-0.7)            \n",
       "34 atemp          Mean (SD)    0.5 (0.2)                \n",
       "35 atemp          Median (IQR) 0.5 (0.3-0.6)            \n",
       "36 hum            Mean (SD)    0.6 (0.1)                \n",
       "37 hum            Median (IQR) 0.6 (0.5-0.7)            \n",
       "38 windspeed      Mean (SD)    0.2 (0.1)                \n",
       "39 windspeed      Median (IQR) 0.2 (0.1-0.2)            \n",
       "40 cnt            Mean (SD)    3,405.8 (1,378.8)        \n",
       "41 cnt            Median (IQR) 3,740.0 (2,132.0-4,586.0)\n",
       "42 traintest_ind_ Mean (SD)    1.3 (0.5)                \n",
       "43 traintest_ind_ Median (IQR) 1.0 (1.0-2.0)            \n",
       "   1                         2                         pval \n",
       "1  255                       110                       NA   \n",
       "2  187.0 (106.8)             173.7 (102.4)             NA   \n",
       "3  186.0 (93.5-286.5)        176.0 (89.8-243.8)        0.27 \n",
       "4  62 (24.3%)                28 (25.5%)                NA   \n",
       "5  62 (24.3%)                30 (27.3%)                0.108\n",
       "6  60 (23.5%)                34 (30.9%)                NA   \n",
       "7  71 (27.8%)                18 (16.4%)                NA   \n",
       "8  18 (7.1%)                 13 (11.8%)                NA   \n",
       "9  22 (8.6%)                 6 (5.5%)                  0.237\n",
       "10 22 (8.6%)                 9 (8.2%)                  NA   \n",
       "11 22 (8.6%)                 8 (7.3%)                  NA   \n",
       "12 19 (7.5%)                 12 (10.9%)                NA   \n",
       "13 22 (8.6%)                 8 (7.3%)                  NA   \n",
       "14 20 (7.8%)                 11 (10.0%)                NA   \n",
       "15 16 (6.3%)                 15 (13.6%)                NA   \n",
       "16 21 (8.2%)                 9 (8.2%)                  NA   \n",
       "17 25 (9.8%)                 6 (5.5%)                  NA   \n",
       "18 26 (10.2%)                4 (3.6%)                  NA   \n",
       "19 22 (8.6%)                 9 (8.2%)                  NA   \n",
       "20 9 (3.5%)                  1 (0.9%)                  0.16 \n",
       "21 34 (13.3%)                18 (16.4%)                NA   \n",
       "22 37 (14.5%)                15 (13.6%)                0.959\n",
       "23 37 (14.5%)                15 (13.6%)                NA   \n",
       "24 34 (13.3%)                18 (16.4%)                NA   \n",
       "25 37 (14.5%)                15 (13.6%)                NA   \n",
       "26 37 (14.5%)                15 (13.6%)                NA   \n",
       "27 39 (15.3%)                14 (12.7%)                NA   \n",
       "28 173 (67.8%)               77 (70.0%)                0.776\n",
       "29 162 (63.5%)               64 (58.2%)                NA   \n",
       "30 80 (31.4%)                44 (40.0%)                0.489\n",
       "31 13 (5.1%)                 2 (1.8%)                  NA   \n",
       "32 0.5 (0.2)                 0.5 (0.2)                 NA   \n",
       "33 0.5 (0.3-0.6)             0.6 (0.3-0.7)             0.352\n",
       "34 0.5 (0.2)                 0.5 (0.2)                 NA   \n",
       "35 0.5 (0.3-0.6)             0.5 (0.3-0.6)             0.366\n",
       "36 0.6 (0.2)                 0.7 (0.1)                 NA   \n",
       "37 0.6 (0.5-0.7)             0.7 (0.5-0.8)             0.304\n",
       "38 0.2 (0.1)                 0.2 (0.1)                 NA   \n",
       "39 0.2 (0.1-0.2)             0.2 (0.1-0.2)             0.386\n",
       "40 3,385.9 (1,381.3)         3,451.8 (1,378.0)         NA   \n",
       "41 3,663.0 (2,066.5-4,552.0) 3,830.0 (2,405.8-4,645.2) 0.676\n",
       "42 NA                        NA                        NA   \n",
       "43 NA                        NA                        0    "
      ]
     },
     "metadata": {},
     "output_type": "display_data"
    }
   ],
   "source": [
    "tab1 <- train_test(data=df_train,train_name=\"train\",test_name=\"test\",prop=0.7,seed=4,tableone=TRUE)\n",
    "tab1"
   ]
  },
  {
   "cell_type": "code",
   "execution_count": 11,
   "metadata": {},
   "outputs": [
    {
     "data": {
      "text/html": [
       "<table>\n",
       "<caption>A tibble: 1 × 6</caption>\n",
       "<thead>\n",
       "\t<tr><th scope=col>V1</th><th scope=col>V2</th><th scope=col>Pop</th><th scope=col>1</th><th scope=col>2</th><th scope=col>pval</th></tr>\n",
       "\t<tr><th scope=col>&lt;chr&gt;</th><th scope=col>&lt;chr&gt;</th><th scope=col>&lt;chr&gt;</th><th scope=col>&lt;chr&gt;</th><th scope=col>&lt;chr&gt;</th><th scope=col>&lt;chr&gt;</th></tr>\n",
       "</thead>\n",
       "<tbody>\n",
       "\t<tr><td>traintest_ind_</td><td>Median (IQR)</td><td>1.0 (1.0-2.0)</td><td>NA</td><td>NA</td><td>0</td></tr>\n",
       "</tbody>\n",
       "</table>\n"
      ],
      "text/latex": [
       "A tibble: 1 × 6\n",
       "\\begin{tabular}{llllll}\n",
       " V1 & V2 & Pop & 1 & 2 & pval\\\\\n",
       " <chr> & <chr> & <chr> & <chr> & <chr> & <chr>\\\\\n",
       "\\hline\n",
       "\t traintest\\_ind\\_ & Median (IQR) & 1.0 (1.0-2.0) & NA & NA & 0\\\\\n",
       "\\end{tabular}\n"
      ],
      "text/markdown": [
       "\n",
       "A tibble: 1 × 6\n",
       "\n",
       "| V1 &lt;chr&gt; | V2 &lt;chr&gt; | Pop &lt;chr&gt; | 1 &lt;chr&gt; | 2 &lt;chr&gt; | pval &lt;chr&gt; |\n",
       "|---|---|---|---|---|---|\n",
       "| traintest_ind_ | Median (IQR) | 1.0 (1.0-2.0) | NA | NA | 0 |\n",
       "\n"
      ],
      "text/plain": [
       "  V1             V2           Pop           1  2  pval\n",
       "1 traintest_ind_ Median (IQR) 1.0 (1.0-2.0) NA NA 0   "
      ]
     },
     "metadata": {},
     "output_type": "display_data"
    }
   ],
   "source": [
    "tab1 %>% filter(pval < 0.05)"
   ]
  },
  {
   "cell_type": "markdown",
   "metadata": {},
   "source": [
    "# MODELS"
   ]
  },
  {
   "cell_type": "code",
   "execution_count": 12,
   "metadata": {},
   "outputs": [],
   "source": [
    "### The error we will use is the RMSE and RMSLE\n",
    "rmse <- function(y,y_hat) {\n",
    "    err <- sqrt(sum((y_hat-y)^2,na.rm=T)/length(y))\n",
    "    return(err)\n",
    "}\n",
    "\n",
    "rmsle <- function(y,y_hat) {\n",
    "    err <- sqrt(sum((log(y_hat+1)-log(y+1))^2,na.rm=T)/length(y))\n",
    "    return(err)\n",
    "}\n"
   ]
  },
  {
   "cell_type": "code",
   "execution_count": 13,
   "metadata": {},
   "outputs": [],
   "source": [
    "### Table of resulting errors\n",
    "### Name, Model, RMSE, RMSLE\n",
    "err_res <- NULL"
   ]
  },
  {
   "cell_type": "markdown",
   "metadata": {},
   "source": [
    "## Linear Models"
   ]
  },
  {
   "cell_type": "code",
   "execution_count": 14,
   "metadata": {},
   "outputs": [
    {
     "data": {
      "text/plain": [
       "\n",
       "Call:\n",
       "lm(formula = cnt ~ ., data = train)\n",
       "\n",
       "Residuals:\n",
       "    Min      1Q  Median      3Q     Max \n",
       "-2154.1  -321.0    57.9   307.9  2168.3 \n",
       "\n",
       "Coefficients: (1 not defined because of singularities)\n",
       "             Estimate Std. Error t value Pr(>|t|)    \n",
       "(Intercept)  1967.944    333.558   5.900 1.32e-08 ***\n",
       "id             -3.511      4.606  -0.762 0.446756    \n",
       "season2       558.089    245.316   2.275 0.023845 *  \n",
       "season3      1025.264    286.401   3.580 0.000421 ***\n",
       "season4      1256.975    246.684   5.095 7.34e-07 ***\n",
       "mnth2         300.653    248.354   1.211 0.227320    \n",
       "mnth3         565.881    345.069   1.640 0.102415    \n",
       "mnth4        1095.919    534.899   2.049 0.041634 *  \n",
       "mnth5        1956.128    646.485   3.026 0.002767 ** \n",
       "mnth6        1587.182    797.644   1.990 0.047814 *  \n",
       "mnth7         961.102    936.379   1.026 0.305799    \n",
       "mnth8        1063.428   1042.333   1.020 0.308706    \n",
       "mnth9        1773.750   1153.658   1.538 0.125570    \n",
       "mnth10       1856.392   1302.392   1.425 0.155430    \n",
       "mnth11       1531.801   1432.520   1.069 0.286073    \n",
       "mnth12       1614.403   1558.006   1.036 0.301217    \n",
       "holiday1     -438.013    223.765  -1.957 0.051523 .  \n",
       "weekday1      102.802    150.348   0.684 0.494828    \n",
       "weekday2      231.796    146.164   1.586 0.114168    \n",
       "weekday3       61.695    153.154   0.403 0.687457    \n",
       "weekday4       81.896    147.406   0.556 0.579046    \n",
       "weekday5      134.207    145.640   0.921 0.357773    \n",
       "weekday6      252.084    143.161   1.761 0.079617 .  \n",
       "workingday1        NA         NA      NA       NA    \n",
       "weathersit2  -349.110    107.561  -3.246 0.001349 ** \n",
       "weathersit3 -1570.298    213.189  -7.366 3.27e-12 ***\n",
       "temp         4392.649   3203.791   1.371 0.171710    \n",
       "atemp       -1457.694   3413.987  -0.427 0.669802    \n",
       "hum         -1219.453    376.402  -3.240 0.001376 ** \n",
       "windspeed   -2330.639    582.625  -4.000 8.58e-05 ***\n",
       "---\n",
       "Signif. codes:  0 '***' 0.001 '**' 0.01 '*' 0.05 '.' 0.1 ' ' 1\n",
       "\n",
       "Residual standard error: 603.8 on 226 degrees of freedom\n",
       "Multiple R-squared:   0.83,\tAdjusted R-squared:  0.8089 \n",
       "F-statistic:  39.4 on 28 and 226 DF,  p-value: < 2.2e-16\n"
      ]
     },
     "metadata": {},
     "output_type": "display_data"
    }
   ],
   "source": [
    "## model with only the original variables\n",
    "mod1 <- lm(cnt ~., data=train)\n",
    "summary(mod1)"
   ]
  },
  {
   "cell_type": "code",
   "execution_count": 15,
   "metadata": {},
   "outputs": [
    {
     "name": "stderr",
     "output_type": "stream",
     "text": [
      "Warning message in predict.lm(mod1, newdata = test):\n",
      "\"prediction from a rank-deficient fit may be misleading\"\n"
     ]
    },
    {
     "data": {
      "text/html": [
       "528.315005070936"
      ],
      "text/latex": [
       "528.315005070936"
      ],
      "text/markdown": [
       "528.315005070936"
      ],
      "text/plain": [
       "[1] 528.315"
      ]
     },
     "metadata": {},
     "output_type": "display_data"
    },
    {
     "data": {
      "text/html": [
       "0.237759999738811"
      ],
      "text/latex": [
       "0.237759999738811"
      ],
      "text/markdown": [
       "0.237759999738811"
      ],
      "text/plain": [
       "[1] 0.23776"
      ]
     },
     "metadata": {},
     "output_type": "display_data"
    }
   ],
   "source": [
    "pred1 <- predict(mod1,newdata=test)\n",
    "rmse(test$cnt,pred1)\n",
    "rmsle(test$cnt,pred1)\n",
    "err_res <- rbind(err_res, data.frame(Name=\"Base Linear regression\", Model=\"mod1\", \n",
    "                                     RMSE=rmse(test$cnt,pred1), \n",
    "                                     RMSLE=rmsle(test$cnt,pred1)))"
   ]
  },
  {
   "cell_type": "code",
   "execution_count": 16,
   "metadata": {},
   "outputs": [
    {
     "data": {
      "text/plain": [
       "\n",
       "Call:\n",
       "lm(formula = cnt ~ ., data = train)\n",
       "\n",
       "Residuals:\n",
       "    Min      1Q  Median      3Q     Max \n",
       "-2154.1  -321.0    57.9   307.9  2168.3 \n",
       "\n",
       "Coefficients: (1 not defined because of singularities)\n",
       "             Estimate Std. Error t value Pr(>|t|)    \n",
       "(Intercept)  1967.944    333.558   5.900 1.32e-08 ***\n",
       "id             -3.511      4.606  -0.762 0.446756    \n",
       "season2       558.089    245.316   2.275 0.023845 *  \n",
       "season3      1025.264    286.401   3.580 0.000421 ***\n",
       "season4      1256.975    246.684   5.095 7.34e-07 ***\n",
       "mnth2         300.653    248.354   1.211 0.227320    \n",
       "mnth3         565.881    345.069   1.640 0.102415    \n",
       "mnth4        1095.919    534.899   2.049 0.041634 *  \n",
       "mnth5        1956.128    646.485   3.026 0.002767 ** \n",
       "mnth6        1587.182    797.644   1.990 0.047814 *  \n",
       "mnth7         961.102    936.379   1.026 0.305799    \n",
       "mnth8        1063.428   1042.333   1.020 0.308706    \n",
       "mnth9        1773.750   1153.658   1.538 0.125570    \n",
       "mnth10       1856.392   1302.392   1.425 0.155430    \n",
       "mnth11       1531.801   1432.520   1.069 0.286073    \n",
       "mnth12       1614.403   1558.006   1.036 0.301217    \n",
       "holiday1     -438.013    223.765  -1.957 0.051523 .  \n",
       "weekday1      102.802    150.348   0.684 0.494828    \n",
       "weekday2      231.796    146.164   1.586 0.114168    \n",
       "weekday3       61.695    153.154   0.403 0.687457    \n",
       "weekday4       81.896    147.406   0.556 0.579046    \n",
       "weekday5      134.207    145.640   0.921 0.357773    \n",
       "weekday6      252.084    143.161   1.761 0.079617 .  \n",
       "workingday1        NA         NA      NA       NA    \n",
       "weathersit2  -349.110    107.561  -3.246 0.001349 ** \n",
       "weathersit3 -1570.298    213.189  -7.366 3.27e-12 ***\n",
       "temp         4392.649   3203.791   1.371 0.171710    \n",
       "atemp       -1457.694   3413.987  -0.427 0.669802    \n",
       "hum         -1219.453    376.402  -3.240 0.001376 ** \n",
       "windspeed   -2330.639    582.625  -4.000 8.58e-05 ***\n",
       "---\n",
       "Signif. codes:  0 '***' 0.001 '**' 0.01 '*' 0.05 '.' 0.1 ' ' 1\n",
       "\n",
       "Residual standard error: 603.8 on 226 degrees of freedom\n",
       "Multiple R-squared:   0.83,\tAdjusted R-squared:  0.8089 \n",
       "F-statistic:  39.4 on 28 and 226 DF,  p-value: < 2.2e-16\n"
      ]
     },
     "metadata": {},
     "output_type": "display_data"
    }
   ],
   "source": [
    "## model with all the variables\n",
    "mod2 <- lm(cnt ~., data=train)\n",
    "summary(mod2)"
   ]
  },
  {
   "cell_type": "markdown",
   "metadata": {},
   "source": [
    "## Desicion trees"
   ]
  },
  {
   "cell_type": "code",
   "execution_count": 17,
   "metadata": {},
   "outputs": [
    {
     "name": "stderr",
     "output_type": "stream",
     "text": [
      "Warning message:\n",
      "\"package 'tree' was built under R version 4.0.2\"\n"
     ]
    }
   ],
   "source": [
    "library(tree)\n",
    "library(rpart)"
   ]
  },
  {
   "cell_type": "code",
   "execution_count": 18,
   "metadata": {},
   "outputs": [
    {
     "data": {
      "text/plain": [
       "node), split, n, deviance, yval\n",
       "      * denotes terminal node\n",
       "\n",
       " 1) root 255 484600000 3386  \n",
       "   2) id < 103.5 71  27390000 1746  \n",
       "     4) atemp < 0.410034 62  15910000 1602  \n",
       "       8) id < 37.5 21   2688000 1195 *\n",
       "       9) id > 37.5 41   7951000 1811 *\n",
       "     5) atemp > 0.410034 9   1405000 2734 *\n",
       "   3) id > 103.5 184 192500000 4019  \n",
       "     6) atemp < 0.457063 60  49380000 3193  \n",
       "      12) id < 356.5 54  34180000 3342  \n",
       "        24) hum < 0.898958 49  19920000 3490 *\n",
       "        25) hum > 0.898958 5   2751000 1898 *\n",
       "      13) id > 356.5 6   3239000 1854 *\n",
       "     7) atemp > 0.457063 124  82490000 4418  \n",
       "      14) hum < 0.849166 111  37610000 4572  \n",
       "        28) id < 115 5    764300 3607 *\n",
       "        29) id > 115 106  31970000 4618 *\n",
       "      15) hum > 0.849166 13  19770000 3103  \n",
       "        30) windspeed < 0.186237 7   9982000 3711 *\n",
       "        31) windspeed > 0.186237 6   4176000 2394 *"
      ]
     },
     "metadata": {},
     "output_type": "display_data"
    }
   ],
   "source": [
    "mod2 <- tree(cnt ~., data=train)\n",
    "mod2"
   ]
  },
  {
   "cell_type": "code",
   "execution_count": 19,
   "metadata": {},
   "outputs": [
    {
     "data": {
      "text/html": [
       "612.417611076056"
      ],
      "text/latex": [
       "612.417611076056"
      ],
      "text/markdown": [
       "612.417611076056"
      ],
      "text/plain": [
       "[1] 612.4176"
      ]
     },
     "metadata": {},
     "output_type": "display_data"
    },
    {
     "data": {
      "text/html": [
       "0.30005368297944"
      ],
      "text/latex": [
       "0.30005368297944"
      ],
      "text/markdown": [
       "0.30005368297944"
      ],
      "text/plain": [
       "[1] 0.3000537"
      ]
     },
     "metadata": {},
     "output_type": "display_data"
    }
   ],
   "source": [
    "pred2 <- predict(mod2,newdata=test)\n",
    "rmse(test$cnt,pred2)\n",
    "rmsle(test$cnt,pred2)\n",
    "err_res <- rbind(err_res, data.frame(Name=\"Decision Trees-tree\", Model=\"mod2\", \n",
    "                                     RMSE=rmse(test$cnt,pred2), \n",
    "                                     RMSLE=rmsle(test$cnt,pred2)))"
   ]
  },
  {
   "cell_type": "code",
   "execution_count": 20,
   "metadata": {},
   "outputs": [
    {
     "data": {
      "text/plain": [
       "n= 255 \n",
       "\n",
       "node), split, n, deviance, yval\n",
       "      * denotes terminal node\n",
       "\n",
       " 1) root 255 484633000 3385.886  \n",
       "   2) id< 103.5 71  27393500 1745.662  \n",
       "     4) atemp< 0.410034 62  15911950 1602.129  \n",
       "       8) id< 37.5 21   2687715 1194.619 *\n",
       "       9) id>=37.5 41   7950675 1810.854 *\n",
       "     5) atemp>=0.410034 9   1405032 2734.444 *\n",
       "   3) id>=103.5 184 192519300 4018.799  \n",
       "     6) atemp< 0.4570625 60  49384290 3193.467  \n",
       "      12) id>=318.5 34  26958630 2809.647  \n",
       "        24) id>=354.5 7   4502986 2027.000 *\n",
       "        25) id< 354.5 27  17056250 3012.556  \n",
       "          50) atemp>=0.366148 12  10191290 2537.417 *\n",
       "          51) atemp< 0.366148 15   1988603 3392.667 *\n",
       "      13) id< 318.5 26  10866910 3695.385 *\n",
       "     7) atemp>=0.4570625 124  82488570 4418.153  \n",
       "      14) hum>=0.8491665 13  19767310 3103.154 *\n",
       "      15) hum< 0.8491665 111  37608580 4572.162 *"
      ]
     },
     "metadata": {},
     "output_type": "display_data"
    }
   ],
   "source": [
    "mod3 <- rpart(cnt ~., data=train)\n",
    "mod3"
   ]
  },
  {
   "cell_type": "code",
   "execution_count": 21,
   "metadata": {},
   "outputs": [
    {
     "data": {
      "text/html": [
       "659.073948087819"
      ],
      "text/latex": [
       "659.073948087819"
      ],
      "text/markdown": [
       "659.073948087819"
      ],
      "text/plain": [
       "[1] 659.0739"
      ]
     },
     "metadata": {},
     "output_type": "display_data"
    },
    {
     "data": {
      "text/html": [
       "0.312884720953858"
      ],
      "text/latex": [
       "0.312884720953858"
      ],
      "text/markdown": [
       "0.312884720953858"
      ],
      "text/plain": [
       "[1] 0.3128847"
      ]
     },
     "metadata": {},
     "output_type": "display_data"
    }
   ],
   "source": [
    "pred3 <- predict(mod3,newdata=test)\n",
    "rmse(test$cnt,pred3)\n",
    "rmsle(test$cnt,pred3)\n",
    "err_res <- rbind(err_res, data.frame(Name=\"Decision Trees-rpart\", Model=\"mod3\", \n",
    "                                     RMSE=rmse(test$cnt,pred3), \n",
    "                                     RMSLE=rmsle(test$cnt,pred3)))"
   ]
  },
  {
   "cell_type": "markdown",
   "metadata": {},
   "source": [
    "## Random Forest"
   ]
  },
  {
   "cell_type": "code",
   "execution_count": 22,
   "metadata": {},
   "outputs": [
    {
     "name": "stderr",
     "output_type": "stream",
     "text": [
      "Warning message:\n",
      "\"package 'randomForest' was built under R version 4.0.2\"\n",
      "randomForest 4.6-14\n",
      "\n",
      "Type rfNews() to see new features/changes/bug fixes.\n",
      "\n",
      "\n",
      "Attaching package: 'randomForest'\n",
      "\n",
      "\n",
      "The following object is masked from 'package:ggplot2':\n",
      "\n",
      "    margin\n",
      "\n",
      "\n",
      "The following object is masked from 'package:dplyr':\n",
      "\n",
      "    combine\n",
      "\n",
      "\n",
      "Warning message:\n",
      "\"package 'ranger' was built under R version 4.0.2\"\n",
      "\n",
      "Attaching package: 'ranger'\n",
      "\n",
      "\n",
      "The following object is masked from 'package:randomForest':\n",
      "\n",
      "    importance\n",
      "\n",
      "\n"
     ]
    }
   ],
   "source": [
    "library(randomForest)\n",
    "library(ranger)"
   ]
  },
  {
   "cell_type": "code",
   "execution_count": 23,
   "metadata": {},
   "outputs": [
    {
     "data": {
      "text/plain": [
       "\n",
       "Call:\n",
       " randomForest(formula = cnt ~ ., data = train) \n",
       "               Type of random forest: regression\n",
       "                     Number of trees: 500\n",
       "No. of variables tried at each split: 3\n",
       "\n",
       "          Mean of squared residuals: 321041.2\n",
       "                    % Var explained: 83.11"
      ]
     },
     "metadata": {},
     "output_type": "display_data"
    }
   ],
   "source": [
    "mod4 <- randomForest(cnt ~., data=train)\n",
    "mod4"
   ]
  },
  {
   "cell_type": "code",
   "execution_count": 24,
   "metadata": {},
   "outputs": [
    {
     "data": {
      "text/html": [
       "444.291579233368"
      ],
      "text/latex": [
       "444.291579233368"
      ],
      "text/markdown": [
       "444.291579233368"
      ],
      "text/plain": [
       "[1] 444.2916"
      ]
     },
     "metadata": {},
     "output_type": "display_data"
    },
    {
     "data": {
      "text/html": [
       "0.256420013410309"
      ],
      "text/latex": [
       "0.256420013410309"
      ],
      "text/markdown": [
       "0.256420013410309"
      ],
      "text/plain": [
       "[1] 0.25642"
      ]
     },
     "metadata": {},
     "output_type": "display_data"
    }
   ],
   "source": [
    "pred4 <- predict(mod4,newdata=test)\n",
    "rmse(test$cnt,pred4)\n",
    "rmsle(test$cnt,pred4)\n",
    "err_res <- rbind(err_res, data.frame(Name=\"RandomForest\", Model=\"mod4\", \n",
    "                                     RMSE=rmse(test$cnt,pred4), \n",
    "                                     RMSLE=rmsle(test$cnt,pred4)))"
   ]
  },
  {
   "cell_type": "code",
   "execution_count": 25,
   "metadata": {},
   "outputs": [
    {
     "data": {
      "text/plain": [
       "Ranger result\n",
       "\n",
       "Call:\n",
       " ranger(cnt ~ ., data = train) \n",
       "\n",
       "Type:                             Regression \n",
       "Number of trees:                  500 \n",
       "Sample size:                      255 \n",
       "Number of independent variables:  11 \n",
       "Mtry:                             3 \n",
       "Target node size:                 5 \n",
       "Variable importance mode:         none \n",
       "Splitrule:                        variance \n",
       "OOB prediction error (MSE):       299639 \n",
       "R squared (OOB):                  0.8429569 "
      ]
     },
     "metadata": {},
     "output_type": "display_data"
    }
   ],
   "source": [
    "mod5 <- ranger(cnt ~., data=train)\n",
    "mod5"
   ]
  },
  {
   "cell_type": "code",
   "execution_count": 26,
   "metadata": {},
   "outputs": [
    {
     "data": {
      "text/html": [
       "434.147811279343"
      ],
      "text/latex": [
       "434.147811279343"
      ],
      "text/markdown": [
       "434.147811279343"
      ],
      "text/plain": [
       "[1] 434.1478"
      ]
     },
     "metadata": {},
     "output_type": "display_data"
    },
    {
     "data": {
      "text/html": [
       "0.252275291764744"
      ],
      "text/latex": [
       "0.252275291764744"
      ],
      "text/markdown": [
       "0.252275291764744"
      ],
      "text/plain": [
       "[1] 0.2522753"
      ]
     },
     "metadata": {},
     "output_type": "display_data"
    }
   ],
   "source": [
    "pred5 <- predict(mod5,data=test)\n",
    "#head(pred5)\n",
    "rmse(test$cnt,pred5$predictions)\n",
    "rmsle(test$cnt,pred5$predictions)\n",
    "err_res <- rbind(err_res, data.frame(Name=\"RandomForest (ranger)\", Model=\"mod5\", \n",
    "                                     RMSE=rmse(test$cnt,pred5$predictions), \n",
    "                                     RMSLE=rmsle(test$cnt,pred5$predictions)))"
   ]
  },
  {
   "cell_type": "markdown",
   "metadata": {},
   "source": [
    "## SVM"
   ]
  },
  {
   "cell_type": "code",
   "execution_count": 27,
   "metadata": {},
   "outputs": [
    {
     "name": "stderr",
     "output_type": "stream",
     "text": [
      "Warning message:\n",
      "\"package 'liquidSVM' was built under R version 4.0.3\"\n"
     ]
    }
   ],
   "source": [
    "#install.packages(\"liquidSVM\")\n",
    "library(liquidSVM)"
   ]
  },
  {
   "cell_type": "code",
   "execution_count": 28,
   "metadata": {},
   "outputs": [
    {
     "data": {
      "text/plain": [
       "SVM model on 11 features (cookie=1)\n",
       " Scenario: LS\n",
       " Formula:  cnt ~ .\n",
       "  trained and selected on a 10x10 grid"
      ]
     },
     "metadata": {},
     "output_type": "display_data"
    }
   ],
   "source": [
    "mod9 <- svm(cnt ~., train)\n",
    "mod9"
   ]
  },
  {
   "cell_type": "code",
   "execution_count": 29,
   "metadata": {},
   "outputs": [
    {
     "data": {
      "text/html": [
       "503.262469541668"
      ],
      "text/latex": [
       "503.262469541668"
      ],
      "text/markdown": [
       "503.262469541668"
      ],
      "text/plain": [
       "[1] 503.2625"
      ]
     },
     "metadata": {},
     "output_type": "display_data"
    },
    {
     "data": {
      "text/html": [
       "0.206872502217144"
      ],
      "text/latex": [
       "0.206872502217144"
      ],
      "text/markdown": [
       "0.206872502217144"
      ],
      "text/plain": [
       "[1] 0.2068725"
      ]
     },
     "metadata": {},
     "output_type": "display_data"
    }
   ],
   "source": [
    "pred9 <- predict(mod9, newdata=test)\n",
    "\n",
    "rmse(test$cnt,pred9)\n",
    "rmsle(test$cnt,pred9)\n",
    "err_res <- rbind(err_res, data.frame(Name=\"SVM\", Model=\"mod9\", \n",
    "                                     RMSE=rmse(test$cnt,pred9), \n",
    "                                     RMSLE=rmsle(test$cnt,pred9)))"
   ]
  },
  {
   "cell_type": "markdown",
   "metadata": {},
   "source": [
    "## XGBoost"
   ]
  },
  {
   "cell_type": "code",
   "execution_count": 43,
   "metadata": {},
   "outputs": [],
   "source": [
    "#install.packages(\"xgboost\")"
   ]
  },
  {
   "cell_type": "code",
   "execution_count": 30,
   "metadata": {},
   "outputs": [
    {
     "name": "stderr",
     "output_type": "stream",
     "text": [
      "Warning message:\n",
      "\"package 'xgboost' was built under R version 4.0.3\"\n",
      "\n",
      "Attaching package: 'xgboost'\n",
      "\n",
      "\n",
      "The following object is masked from 'package:dplyr':\n",
      "\n",
      "    slice\n",
      "\n",
      "\n"
     ]
    }
   ],
   "source": [
    "library(xgboost)"
   ]
  },
  {
   "cell_type": "code",
   "execution_count": 31,
   "metadata": {},
   "outputs": [],
   "source": [
    "train_num <- train"
   ]
  },
  {
   "cell_type": "code",
   "execution_count": 32,
   "metadata": {},
   "outputs": [],
   "source": [
    "test_num <- test"
   ]
  },
  {
   "cell_type": "code",
   "execution_count": 33,
   "metadata": {},
   "outputs": [],
   "source": [
    "train_num$season <- as.numeric(train_num$season)\n",
    "train_num$mnth <- as.numeric(train_num$mnth)\n",
    "train_num$holiday <- as.numeric(train_num$holiday)\n",
    "train_num$weekday <- as.numeric(train_num$weekday)\n",
    "train_num$weathersit <- as.numeric(train_num$weathersit)\n",
    "train_num$workingday <- as.numeric(train_num$workingday)"
   ]
  },
  {
   "cell_type": "code",
   "execution_count": 34,
   "metadata": {},
   "outputs": [],
   "source": [
    "test_num$season <- as.numeric(test_num$season)\n",
    "test_num$mnth <- as.numeric(test_num$mnth)\n",
    "test_num$holiday <- as.numeric(test_num$holiday)\n",
    "test_num$weekday <- as.numeric(test_num$weekday)\n",
    "test_num$workingday <- as.numeric(test_num$workingday)\n",
    "test_num$weathersit <- as.numeric(test_num$weathersit)"
   ]
  },
  {
   "cell_type": "code",
   "execution_count": 35,
   "metadata": {},
   "outputs": [
    {
     "data": {
      "text/plain": [
       "       id             season           mnth          holiday     \n",
       " Min.   :  3.00   Min.   :1.000   Min.   : 1.00   Min.   :1.000  \n",
       " 1st Qu.: 89.75   1st Qu.:1.250   1st Qu.: 3.25   1st Qu.:1.000  \n",
       " Median :176.00   Median :2.000   Median : 6.00   Median :1.000  \n",
       " Mean   :173.72   Mean   :2.382   Mean   : 6.20   Mean   :1.009  \n",
       " 3rd Qu.:243.75   3rd Qu.:3.000   3rd Qu.: 8.75   3rd Qu.:1.000  \n",
       " Max.   :365.00   Max.   :4.000   Max.   :12.00   Max.   :2.000  \n",
       "    weekday        workingday    weathersit         temp        \n",
       " Min.   :1.000   Min.   :1.0   Min.   :1.000   Min.   :0.09652  \n",
       " 1st Qu.:2.000   1st Qu.:1.0   1st Qu.:1.000   1st Qu.:0.30542  \n",
       " Median :4.000   Median :2.0   Median :1.000   Median :0.56167  \n",
       " Mean   :3.891   Mean   :1.7   Mean   :1.436   Mean   :0.50075  \n",
       " 3rd Qu.:6.000   3rd Qu.:2.0   3rd Qu.:2.000   3rd Qu.:0.67187  \n",
       " Max.   :7.000   Max.   :2.0   Max.   :3.000   Max.   :0.83833  \n",
       "     atemp              hum           windspeed           cnt      \n",
       " Min.   :0.09884   Min.   :0.3142   Min.   :0.0423   Min.   : 431  \n",
       " 1st Qu.:0.30399   1st Qu.:0.5499   1st Qu.:0.1350   1st Qu.:2406  \n",
       " Median :0.53411   Median :0.6663   Median :0.1886   Median :3830  \n",
       " Mean   :0.47901   Mean   :0.6559   Mean   :0.1861   Mean   :3452  \n",
       " 3rd Qu.:0.62059   3rd Qu.:0.7562   3rd Qu.:0.2325   3rd Qu.:4645  \n",
       " Max.   :0.82637   Max.   :0.9225   Max.   :0.3514   Max.   :5362  "
      ]
     },
     "metadata": {},
     "output_type": "display_data"
    }
   ],
   "source": [
    "summary(test_num)"
   ]
  },
  {
   "cell_type": "code",
   "execution_count": 36,
   "metadata": {},
   "outputs": [
    {
     "data": {
      "text/plain": [
       "       id            season           mnth           holiday     \n",
       " Min.   :  1.0   Min.   :1.000   Min.   : 1.000   Min.   :1.000  \n",
       " 1st Qu.: 93.5   1st Qu.:2.000   1st Qu.: 4.000   1st Qu.:1.000  \n",
       " Median :186.0   Median :3.000   Median : 7.000   Median :1.000  \n",
       " Mean   :187.0   Mean   :2.549   Mean   : 6.667   Mean   :1.035  \n",
       " 3rd Qu.:286.5   3rd Qu.:4.000   3rd Qu.:10.000   3rd Qu.:1.000  \n",
       " Max.   :364.0   Max.   :4.000   Max.   :12.000   Max.   :2.000  \n",
       "    weekday        workingday      weathersit         temp        \n",
       " Min.   :1.000   Min.   :1.000   Min.   :1.000   Min.   :0.05913  \n",
       " 1st Qu.:2.000   1st Qu.:1.000   1st Qu.:1.000   1st Qu.:0.32792  \n",
       " Median :4.000   Median :2.000   Median :1.000   Median :0.46750  \n",
       " Mean   :4.059   Mean   :1.678   Mean   :1.416   Mean   :0.48059  \n",
       " 3rd Qu.:6.000   3rd Qu.:2.000   3rd Qu.:2.000   3rd Qu.:0.64384  \n",
       " Max.   :7.000   Max.   :2.000   Max.   :3.000   Max.   :0.84917  \n",
       "     atemp              hum           windspeed            cnt      \n",
       " Min.   :0.07907   Min.   :0.0000   Min.   :0.02239   Min.   : 506  \n",
       " 1st Qu.:0.32430   1st Qu.:0.5379   1st Qu.:0.13682   1st Qu.:2066  \n",
       " Median :0.45707   Median :0.6362   Median :0.18532   Median :3663  \n",
       " Mean   :0.46158   Mean   :0.6384   Mean   :0.19370   Mean   :3386  \n",
       " 3rd Qu.:0.60284   3rd Qu.:0.7358   3rd Qu.:0.23976   3rd Qu.:4552  \n",
       " Max.   :0.84090   Max.   :0.9725   Max.   :0.50746   Max.   :6043  "
      ]
     },
     "metadata": {},
     "output_type": "display_data"
    }
   ],
   "source": [
    "summary(train_num)"
   ]
  },
  {
   "cell_type": "code",
   "execution_count": 65,
   "metadata": {},
   "outputs": [],
   "source": [
    "#train1 <- Matrix::sparse.model.matrix(cnt ~ .-1, data = train_num)"
   ]
  },
  {
   "cell_type": "code",
   "execution_count": 66,
   "metadata": {},
   "outputs": [],
   "source": [
    "#test1 <- Matrix::sparse.model.matrix(cnt ~ .-1, data = test_num)"
   ]
  },
  {
   "cell_type": "code",
   "execution_count": 69,
   "metadata": {},
   "outputs": [
    {
     "ename": "ERROR",
     "evalue": "Error in predict(mod7, newdata = X_test): object 'mod7' not found\n",
     "output_type": "error",
     "traceback": [
      "Error in predict(mod7, newdata = X_test): object 'mod7' not found\nTraceback:\n",
      "1. predict(mod7, newdata = X_test)"
     ]
    }
   ],
   "source": [
    "#X_test <- xgb.DMatrix(test1)\n",
    "X_test <- test1\n",
    "y_test <- test$cnt\n",
    "\n",
    "pred7 <- predict(mod7,newdata=X_test)\n",
    "rmse(y_test,pred7)\n",
    "rmsle(y_test,pred7)\n",
    "err_res <- rbind(err_res, data.frame(Name=\"XGBoost\", Model=\"mod7\", \n",
    "                                     RMSE=rmse(test_num$cnt,pred7), \n",
    "                                     RMSLE=rmsle(test_num$cnt,pred7)))"
   ]
  },
  {
   "cell_type": "markdown",
   "metadata": {},
   "source": [
    "## kNN "
   ]
  },
  {
   "cell_type": "code",
   "execution_count": 37,
   "metadata": {},
   "outputs": [],
   "source": [
    "### adaboost needs that values to be normalized\n",
    "min_max <- function(x) { (x -min(x))/(max(x)-min(x))   }"
   ]
  },
  {
   "cell_type": "code",
   "execution_count": 38,
   "metadata": {},
   "outputs": [],
   "source": [
    "X_train <- sapply(data.frame(as.matrix(train1)),min_max)"
   ]
  },
  {
   "cell_type": "code",
   "execution_count": 39,
   "metadata": {},
   "outputs": [],
   "source": [
    "X_test <- sapply(data.frame(as.matrix(test1)),min_max)"
   ]
  },
  {
   "cell_type": "code",
   "execution_count": 40,
   "metadata": {},
   "outputs": [
    {
     "data": {
      "text/plain": [
       "       id             season            mnth           holiday       \n",
       " Min.   :0.0000   Min.   :0.0000   Min.   :0.0000   Min.   :0.00000  \n",
       " 1st Qu.:0.2376   1st Qu.:0.0000   1st Qu.:0.1818   1st Qu.:0.00000  \n",
       " Median :0.4835   Median :0.3333   Median :0.4545   Median :0.00000  \n",
       " Mean   :0.4905   Mean   :0.4797   Mean   :0.4909   Mean   :0.02745  \n",
       " 3rd Qu.:0.7404   3rd Qu.:0.6667   3rd Qu.:0.7273   3rd Qu.:0.00000  \n",
       " Max.   :1.0000   Max.   :1.0000   Max.   :1.0000   Max.   :1.00000  \n",
       "    weekday         workingday       weathersit          temp       \n",
       " Min.   :0.0000   Min.   :0.0000   Min.   :0.0000   Min.   :0.0000  \n",
       " 1st Qu.:0.1667   1st Qu.:0.0000   1st Qu.:0.0000   1st Qu.:0.3008  \n",
       " Median :0.5000   Median :1.0000   Median :0.0000   Median :0.4863  \n",
       " Mean   :0.4993   Mean   :0.6784   Mean   :0.2118   Mean   :0.5094  \n",
       " 3rd Qu.:0.8333   3rd Qu.:1.0000   3rd Qu.:0.5000   3rd Qu.:0.7459  \n",
       " Max.   :1.0000   Max.   :1.0000   Max.   :1.0000   Max.   :1.0000  \n",
       "     atemp             hum           windspeed     \n",
       " Min.   :0.0000   Min.   :0.0000   Min.   :0.0000  \n",
       " 1st Qu.:0.2964   1st Qu.:0.4457   1st Qu.:0.2045  \n",
       " Median :0.4819   Median :0.5767   Median :0.3142  \n",
       " Mean   :0.4884   Mean   :0.5769   Mean   :0.3244  \n",
       " 3rd Qu.:0.6959   3rd Qu.:0.7115   3rd Qu.:0.4122  \n",
       " Max.   :1.0000   Max.   :1.0000   Max.   :1.0000  "
      ]
     },
     "metadata": {},
     "output_type": "display_data"
    }
   ],
   "source": [
    "summary(X_train)"
   ]
  },
  {
   "cell_type": "code",
   "execution_count": 41,
   "metadata": {},
   "outputs": [],
   "source": [
    "library(class)\n",
    "mod8 <- knn(X_train,X_test,cl=train$cnt)"
   ]
  },
  {
   "cell_type": "code",
   "execution_count": 42,
   "metadata": {},
   "outputs": [
    {
     "name": "stdout",
     "output_type": "stream",
     "text": [
      " Factor w/ 252 levels \"431\",\"705\",\"754\",..: 21 7 44 22 29 46 19 16 59 71 ...\n"
     ]
    }
   ],
   "source": [
    "str(mod8)"
   ]
  },
  {
   "cell_type": "code",
   "execution_count": 43,
   "metadata": {},
   "outputs": [
    {
     "data": {
      "text/html": [
       "746.751358156844"
      ],
      "text/latex": [
       "746.751358156844"
      ],
      "text/markdown": [
       "746.751358156844"
      ],
      "text/plain": [
       "[1] 746.7514"
      ]
     },
     "metadata": {},
     "output_type": "display_data"
    },
    {
     "data": {
      "text/html": [
       "0.303869733415993"
      ],
      "text/latex": [
       "0.303869733415993"
      ],
      "text/markdown": [
       "0.303869733415993"
      ],
      "text/plain": [
       "[1] 0.3038697"
      ]
     },
     "metadata": {},
     "output_type": "display_data"
    }
   ],
   "source": [
    "pred8 <- as.numeric(as.character(mod8))\n",
    "\n",
    "rmse(test$cnt,pred8)\n",
    "rmsle(test$cnt,pred8)\n",
    "err_res <- rbind(err_res, data.frame(Name=\"kNN\", Model=\"mod8\", \n",
    "                                     RMSE=rmse(test$cnt,pred8), \n",
    "                                     RMSLE=rmsle(test$cnt,pred8)))"
   ]
  },
  {
   "cell_type": "code",
   "execution_count": 48,
   "metadata": {},
   "outputs": [
    {
     "data": {
      "text/html": [
       "<table>\n",
       "<caption>A data.frame: 10 × 4</caption>\n",
       "<thead>\n",
       "\t<tr><th scope=col>Name</th><th scope=col>Model</th><th scope=col>RMSE</th><th scope=col>RMSLE</th></tr>\n",
       "\t<tr><th scope=col>&lt;chr&gt;</th><th scope=col>&lt;chr&gt;</th><th scope=col>&lt;dbl&gt;</th><th scope=col>&lt;dbl&gt;</th></tr>\n",
       "</thead>\n",
       "<tbody>\n",
       "\t<tr><td>RandomForest (ranger) </td><td>mod5</td><td>515.4163</td><td>0.1980710</td></tr>\n",
       "\t<tr><td>RandomForest          </td><td>mod4</td><td>527.0916</td><td>0.2027217</td></tr>\n",
       "\t<tr><td>RandomForest          </td><td>mod4</td><td>530.0440</td><td>0.2043143</td></tr>\n",
       "\t<tr><td>SVM                   </td><td>mod9</td><td>519.7832</td><td>0.2066422</td></tr>\n",
       "\t<tr><td>Base Linear regression</td><td>mod1</td><td>580.2597</td><td>0.2140542</td></tr>\n",
       "\t<tr><td>Base Linear regression</td><td>mod1</td><td>580.2597</td><td>0.2140542</td></tr>\n",
       "\t<tr><td>Decision Trees-tree   </td><td>mod3</td><td>669.6499</td><td>0.2480910</td></tr>\n",
       "\t<tr><td>Decision Trees-tree   </td><td>mod2</td><td>669.6499</td><td>0.2480910</td></tr>\n",
       "\t<tr><td>Decision Trees-rpart  </td><td>mod4</td><td>691.0424</td><td>0.2561763</td></tr>\n",
       "\t<tr><td>Decision Trees-rpart  </td><td>mod3</td><td>691.0424</td><td>0.2561763</td></tr>\n",
       "</tbody>\n",
       "</table>\n"
      ],
      "text/latex": [
       "A data.frame: 10 × 4\n",
       "\\begin{tabular}{llll}\n",
       " Name & Model & RMSE & RMSLE\\\\\n",
       " <chr> & <chr> & <dbl> & <dbl>\\\\\n",
       "\\hline\n",
       "\t RandomForest (ranger)  & mod5 & 515.4163 & 0.1980710\\\\\n",
       "\t RandomForest           & mod4 & 527.0916 & 0.2027217\\\\\n",
       "\t RandomForest           & mod4 & 530.0440 & 0.2043143\\\\\n",
       "\t SVM                    & mod9 & 519.7832 & 0.2066422\\\\\n",
       "\t Base Linear regression & mod1 & 580.2597 & 0.2140542\\\\\n",
       "\t Base Linear regression & mod1 & 580.2597 & 0.2140542\\\\\n",
       "\t Decision Trees-tree    & mod3 & 669.6499 & 0.2480910\\\\\n",
       "\t Decision Trees-tree    & mod2 & 669.6499 & 0.2480910\\\\\n",
       "\t Decision Trees-rpart   & mod4 & 691.0424 & 0.2561763\\\\\n",
       "\t Decision Trees-rpart   & mod3 & 691.0424 & 0.2561763\\\\\n",
       "\\end{tabular}\n"
      ],
      "text/markdown": [
       "\n",
       "A data.frame: 10 × 4\n",
       "\n",
       "| Name &lt;chr&gt; | Model &lt;chr&gt; | RMSE &lt;dbl&gt; | RMSLE &lt;dbl&gt; |\n",
       "|---|---|---|---|\n",
       "| RandomForest (ranger)  | mod5 | 515.4163 | 0.1980710 |\n",
       "| RandomForest           | mod4 | 527.0916 | 0.2027217 |\n",
       "| RandomForest           | mod4 | 530.0440 | 0.2043143 |\n",
       "| SVM                    | mod9 | 519.7832 | 0.2066422 |\n",
       "| Base Linear regression | mod1 | 580.2597 | 0.2140542 |\n",
       "| Base Linear regression | mod1 | 580.2597 | 0.2140542 |\n",
       "| Decision Trees-tree    | mod3 | 669.6499 | 0.2480910 |\n",
       "| Decision Trees-tree    | mod2 | 669.6499 | 0.2480910 |\n",
       "| Decision Trees-rpart   | mod4 | 691.0424 | 0.2561763 |\n",
       "| Decision Trees-rpart   | mod3 | 691.0424 | 0.2561763 |\n",
       "\n"
      ],
      "text/plain": [
       "   Name                   Model RMSE     RMSLE    \n",
       "1  RandomForest (ranger)  mod5  515.4163 0.1980710\n",
       "2  RandomForest           mod4  527.0916 0.2027217\n",
       "3  RandomForest           mod4  530.0440 0.2043143\n",
       "4  SVM                    mod9  519.7832 0.2066422\n",
       "5  Base Linear regression mod1  580.2597 0.2140542\n",
       "6  Base Linear regression mod1  580.2597 0.2140542\n",
       "7  Decision Trees-tree    mod3  669.6499 0.2480910\n",
       "8  Decision Trees-tree    mod2  669.6499 0.2480910\n",
       "9  Decision Trees-rpart   mod4  691.0424 0.2561763\n",
       "10 Decision Trees-rpart   mod3  691.0424 0.2561763"
      ]
     },
     "metadata": {},
     "output_type": "display_data"
    }
   ],
   "source": [
    "err_res %>% arrange(RMSLE)"
   ]
  },
  {
   "cell_type": "code",
   "execution_count": 56,
   "metadata": {},
   "outputs": [
    {
     "data": {
      "text/plain": [
       "Ranger prediction\n",
       "\n",
       "Type:                             Regression \n",
       "Sample size:                      366 \n",
       "Number of independent variables:  11 "
      ]
     },
     "metadata": {},
     "output_type": "display_data"
    }
   ],
   "source": [
    "pred<-predict(mod5,df_test)\n",
    "pred"
   ]
  },
  {
   "cell_type": "code",
   "execution_count": 58,
   "metadata": {},
   "outputs": [
    {
     "data": {
      "text/html": [
       "<table>\n",
       "<caption>A data.frame: 366 × 2</caption>\n",
       "<thead>\n",
       "\t<tr><th scope=col>id</th><th scope=col>cnt</th></tr>\n",
       "\t<tr><th scope=col>&lt;int&gt;</th><th scope=col>&lt;dbl&gt;</th></tr>\n",
       "</thead>\n",
       "<tbody>\n",
       "\t<tr><td>366</td><td>1930.654</td></tr>\n",
       "\t<tr><td>367</td><td>1808.847</td></tr>\n",
       "\t<tr><td>368</td><td>1743.717</td></tr>\n",
       "\t<tr><td>369</td><td>1804.021</td></tr>\n",
       "\t<tr><td>370</td><td>2062.852</td></tr>\n",
       "\t<tr><td>371</td><td>2142.650</td></tr>\n",
       "\t<tr><td>372</td><td>2098.637</td></tr>\n",
       "\t<tr><td>373</td><td>2047.452</td></tr>\n",
       "\t<tr><td>374</td><td>1817.850</td></tr>\n",
       "\t<tr><td>375</td><td>2081.577</td></tr>\n",
       "\t<tr><td>376</td><td>1892.171</td></tr>\n",
       "\t<tr><td>377</td><td>2001.122</td></tr>\n",
       "\t<tr><td>378</td><td>1944.926</td></tr>\n",
       "\t<tr><td>379</td><td>1679.245</td></tr>\n",
       "\t<tr><td>380</td><td>1650.228</td></tr>\n",
       "\t<tr><td>381</td><td>1661.444</td></tr>\n",
       "\t<tr><td>382</td><td>1825.228</td></tr>\n",
       "\t<tr><td>383</td><td>1983.292</td></tr>\n",
       "\t<tr><td>384</td><td>1834.031</td></tr>\n",
       "\t<tr><td>385</td><td>1856.660</td></tr>\n",
       "\t<tr><td>386</td><td>1555.793</td></tr>\n",
       "\t<tr><td>387</td><td>1475.107</td></tr>\n",
       "\t<tr><td>388</td><td>1633.809</td></tr>\n",
       "\t<tr><td>389</td><td>2076.852</td></tr>\n",
       "\t<tr><td>390</td><td>2041.699</td></tr>\n",
       "\t<tr><td>391</td><td>2176.817</td></tr>\n",
       "\t<tr><td>392</td><td>2072.448</td></tr>\n",
       "\t<tr><td>393</td><td>2102.475</td></tr>\n",
       "\t<tr><td>394</td><td>1885.157</td></tr>\n",
       "\t<tr><td>395</td><td>2016.645</td></tr>\n",
       "\t<tr><td>...</td><td>...</td></tr>\n",
       "\t<tr><td>702</td><td>2786.519</td></tr>\n",
       "\t<tr><td>703</td><td>3341.806</td></tr>\n",
       "\t<tr><td>704</td><td>3897.600</td></tr>\n",
       "\t<tr><td>705</td><td>2826.177</td></tr>\n",
       "\t<tr><td>706</td><td>2892.639</td></tr>\n",
       "\t<tr><td>707</td><td>2954.470</td></tr>\n",
       "\t<tr><td>708</td><td>2662.605</td></tr>\n",
       "\t<tr><td>709</td><td>2432.647</td></tr>\n",
       "\t<tr><td>710</td><td>2365.305</td></tr>\n",
       "\t<tr><td>711</td><td>3007.135</td></tr>\n",
       "\t<tr><td>712</td><td>2917.860</td></tr>\n",
       "\t<tr><td>713</td><td>3038.845</td></tr>\n",
       "\t<tr><td>714</td><td>3033.902</td></tr>\n",
       "\t<tr><td>715</td><td>3238.462</td></tr>\n",
       "\t<tr><td>716</td><td>2946.931</td></tr>\n",
       "\t<tr><td>717</td><td>2822.592</td></tr>\n",
       "\t<tr><td>718</td><td>2915.486</td></tr>\n",
       "\t<tr><td>719</td><td>3131.636</td></tr>\n",
       "\t<tr><td>720</td><td>3090.727</td></tr>\n",
       "\t<tr><td>721</td><td>2191.364</td></tr>\n",
       "\t<tr><td>722</td><td>1945.358</td></tr>\n",
       "\t<tr><td>723</td><td>1956.240</td></tr>\n",
       "\t<tr><td>724</td><td>2144.281</td></tr>\n",
       "\t<tr><td>725</td><td>1734.840</td></tr>\n",
       "\t<tr><td>726</td><td>1634.077</td></tr>\n",
       "\t<tr><td>727</td><td>2030.115</td></tr>\n",
       "\t<tr><td>728</td><td>2177.309</td></tr>\n",
       "\t<tr><td>729</td><td>1906.393</td></tr>\n",
       "\t<tr><td>730</td><td>1816.165</td></tr>\n",
       "\t<tr><td>731</td><td>1938.196</td></tr>\n",
       "</tbody>\n",
       "</table>\n"
      ],
      "text/latex": [
       "A data.frame: 366 × 2\n",
       "\\begin{tabular}{ll}\n",
       " id & cnt\\\\\n",
       " <int> & <dbl>\\\\\n",
       "\\hline\n",
       "\t 366 & 1930.654\\\\\n",
       "\t 367 & 1808.847\\\\\n",
       "\t 368 & 1743.717\\\\\n",
       "\t 369 & 1804.021\\\\\n",
       "\t 370 & 2062.852\\\\\n",
       "\t 371 & 2142.650\\\\\n",
       "\t 372 & 2098.637\\\\\n",
       "\t 373 & 2047.452\\\\\n",
       "\t 374 & 1817.850\\\\\n",
       "\t 375 & 2081.577\\\\\n",
       "\t 376 & 1892.171\\\\\n",
       "\t 377 & 2001.122\\\\\n",
       "\t 378 & 1944.926\\\\\n",
       "\t 379 & 1679.245\\\\\n",
       "\t 380 & 1650.228\\\\\n",
       "\t 381 & 1661.444\\\\\n",
       "\t 382 & 1825.228\\\\\n",
       "\t 383 & 1983.292\\\\\n",
       "\t 384 & 1834.031\\\\\n",
       "\t 385 & 1856.660\\\\\n",
       "\t 386 & 1555.793\\\\\n",
       "\t 387 & 1475.107\\\\\n",
       "\t 388 & 1633.809\\\\\n",
       "\t 389 & 2076.852\\\\\n",
       "\t 390 & 2041.699\\\\\n",
       "\t 391 & 2176.817\\\\\n",
       "\t 392 & 2072.448\\\\\n",
       "\t 393 & 2102.475\\\\\n",
       "\t 394 & 1885.157\\\\\n",
       "\t 395 & 2016.645\\\\\n",
       "\t ... & ...\\\\\n",
       "\t 702 & 2786.519\\\\\n",
       "\t 703 & 3341.806\\\\\n",
       "\t 704 & 3897.600\\\\\n",
       "\t 705 & 2826.177\\\\\n",
       "\t 706 & 2892.639\\\\\n",
       "\t 707 & 2954.470\\\\\n",
       "\t 708 & 2662.605\\\\\n",
       "\t 709 & 2432.647\\\\\n",
       "\t 710 & 2365.305\\\\\n",
       "\t 711 & 3007.135\\\\\n",
       "\t 712 & 2917.860\\\\\n",
       "\t 713 & 3038.845\\\\\n",
       "\t 714 & 3033.902\\\\\n",
       "\t 715 & 3238.462\\\\\n",
       "\t 716 & 2946.931\\\\\n",
       "\t 717 & 2822.592\\\\\n",
       "\t 718 & 2915.486\\\\\n",
       "\t 719 & 3131.636\\\\\n",
       "\t 720 & 3090.727\\\\\n",
       "\t 721 & 2191.364\\\\\n",
       "\t 722 & 1945.358\\\\\n",
       "\t 723 & 1956.240\\\\\n",
       "\t 724 & 2144.281\\\\\n",
       "\t 725 & 1734.840\\\\\n",
       "\t 726 & 1634.077\\\\\n",
       "\t 727 & 2030.115\\\\\n",
       "\t 728 & 2177.309\\\\\n",
       "\t 729 & 1906.393\\\\\n",
       "\t 730 & 1816.165\\\\\n",
       "\t 731 & 1938.196\\\\\n",
       "\\end{tabular}\n"
      ],
      "text/markdown": [
       "\n",
       "A data.frame: 366 × 2\n",
       "\n",
       "| id &lt;int&gt; | cnt &lt;dbl&gt; |\n",
       "|---|---|\n",
       "| 366 | 1930.654 |\n",
       "| 367 | 1808.847 |\n",
       "| 368 | 1743.717 |\n",
       "| 369 | 1804.021 |\n",
       "| 370 | 2062.852 |\n",
       "| 371 | 2142.650 |\n",
       "| 372 | 2098.637 |\n",
       "| 373 | 2047.452 |\n",
       "| 374 | 1817.850 |\n",
       "| 375 | 2081.577 |\n",
       "| 376 | 1892.171 |\n",
       "| 377 | 2001.122 |\n",
       "| 378 | 1944.926 |\n",
       "| 379 | 1679.245 |\n",
       "| 380 | 1650.228 |\n",
       "| 381 | 1661.444 |\n",
       "| 382 | 1825.228 |\n",
       "| 383 | 1983.292 |\n",
       "| 384 | 1834.031 |\n",
       "| 385 | 1856.660 |\n",
       "| 386 | 1555.793 |\n",
       "| 387 | 1475.107 |\n",
       "| 388 | 1633.809 |\n",
       "| 389 | 2076.852 |\n",
       "| 390 | 2041.699 |\n",
       "| 391 | 2176.817 |\n",
       "| 392 | 2072.448 |\n",
       "| 393 | 2102.475 |\n",
       "| 394 | 1885.157 |\n",
       "| 395 | 2016.645 |\n",
       "| ... | ... |\n",
       "| 702 | 2786.519 |\n",
       "| 703 | 3341.806 |\n",
       "| 704 | 3897.600 |\n",
       "| 705 | 2826.177 |\n",
       "| 706 | 2892.639 |\n",
       "| 707 | 2954.470 |\n",
       "| 708 | 2662.605 |\n",
       "| 709 | 2432.647 |\n",
       "| 710 | 2365.305 |\n",
       "| 711 | 3007.135 |\n",
       "| 712 | 2917.860 |\n",
       "| 713 | 3038.845 |\n",
       "| 714 | 3033.902 |\n",
       "| 715 | 3238.462 |\n",
       "| 716 | 2946.931 |\n",
       "| 717 | 2822.592 |\n",
       "| 718 | 2915.486 |\n",
       "| 719 | 3131.636 |\n",
       "| 720 | 3090.727 |\n",
       "| 721 | 2191.364 |\n",
       "| 722 | 1945.358 |\n",
       "| 723 | 1956.240 |\n",
       "| 724 | 2144.281 |\n",
       "| 725 | 1734.840 |\n",
       "| 726 | 1634.077 |\n",
       "| 727 | 2030.115 |\n",
       "| 728 | 2177.309 |\n",
       "| 729 | 1906.393 |\n",
       "| 730 | 1816.165 |\n",
       "| 731 | 1938.196 |\n",
       "\n"
      ],
      "text/plain": [
       "    id  cnt     \n",
       "1   366 1930.654\n",
       "2   367 1808.847\n",
       "3   368 1743.717\n",
       "4   369 1804.021\n",
       "5   370 2062.852\n",
       "6   371 2142.650\n",
       "7   372 2098.637\n",
       "8   373 2047.452\n",
       "9   374 1817.850\n",
       "10  375 2081.577\n",
       "11  376 1892.171\n",
       "12  377 2001.122\n",
       "13  378 1944.926\n",
       "14  379 1679.245\n",
       "15  380 1650.228\n",
       "16  381 1661.444\n",
       "17  382 1825.228\n",
       "18  383 1983.292\n",
       "19  384 1834.031\n",
       "20  385 1856.660\n",
       "21  386 1555.793\n",
       "22  387 1475.107\n",
       "23  388 1633.809\n",
       "24  389 2076.852\n",
       "25  390 2041.699\n",
       "26  391 2176.817\n",
       "27  392 2072.448\n",
       "28  393 2102.475\n",
       "29  394 1885.157\n",
       "30  395 2016.645\n",
       "... ... ...     \n",
       "337 702 2786.519\n",
       "338 703 3341.806\n",
       "339 704 3897.600\n",
       "340 705 2826.177\n",
       "341 706 2892.639\n",
       "342 707 2954.470\n",
       "343 708 2662.605\n",
       "344 709 2432.647\n",
       "345 710 2365.305\n",
       "346 711 3007.135\n",
       "347 712 2917.860\n",
       "348 713 3038.845\n",
       "349 714 3033.902\n",
       "350 715 3238.462\n",
       "351 716 2946.931\n",
       "352 717 2822.592\n",
       "353 718 2915.486\n",
       "354 719 3131.636\n",
       "355 720 3090.727\n",
       "356 721 2191.364\n",
       "357 722 1945.358\n",
       "358 723 1956.240\n",
       "359 724 2144.281\n",
       "360 725 1734.840\n",
       "361 726 1634.077\n",
       "362 727 2030.115\n",
       "363 728 2177.309\n",
       "364 729 1906.393\n",
       "365 730 1816.165\n",
       "366 731 1938.196"
      ]
     },
     "metadata": {},
     "output_type": "display_data"
    }
   ],
   "source": [
    "df.test<-data.frame(id=366:731,cnt=pred$predictions)\n",
    "df.test"
   ]
  },
  {
   "cell_type": "code",
   "execution_count": 59,
   "metadata": {},
   "outputs": [],
   "source": [
    "write.csv(df.test, file=\"results_RandomForesr(ranger)_Jennie_02112020.csv\",row.names=FALSE)"
   ]
  },
  {
   "cell_type": "code",
   "execution_count": 61,
   "metadata": {},
   "outputs": [
    {
     "name": "stderr",
     "output_type": "stream",
     "text": [
      "Warning message in predict.lm(mod1, newdata = df_test):\n",
      "\"prediction from a rank-deficient fit may be misleading\"\n"
     ]
    },
    {
     "data": {
      "text/html": [
       "<style>\n",
       ".dl-inline {width: auto; margin:0; padding: 0}\n",
       ".dl-inline>dt, .dl-inline>dd {float: none; width: auto; display: inline-block}\n",
       ".dl-inline>dt::after {content: \":\\0020\"; padding-right: .5ex}\n",
       ".dl-inline>dt:not(:first-of-type) {padding-left: .5ex}\n",
       "</style><dl class=dl-inline><dt>1</dt><dd>-1573.5162190966</dd><dt>2</dt><dd>-2017.83949141391</dd><dt>3</dt><dd>-2171.30292569672</dd><dt>4</dt><dd>-2244.27156451236</dd><dt>5</dt><dd>-1406.06592893401</dd><dt>6</dt><dd>-1306.11383005875</dd><dt>7</dt><dd>-1130.68792645126</dd><dt>8</dt><dd>-1452.33232710926</dd><dt>9</dt><dd>-1988.99549128771</dd><dt>10</dt><dd>-1707.13688347705</dd><dt>11</dt><dd>-2174.53536883192</dd><dt>12</dt><dd>-1739.8937006104</dd><dt>13</dt><dd>-1898.9886954477</dd><dt>14</dt><dd>-1799.0370666487</dd><dt>15</dt><dd>-2086.93277719625</dd><dt>16</dt><dd>-2408.00862690337</dd><dt>17</dt><dd>-2201.70580502198</dd><dt>18</dt><dd>-2006.93518771768</dd><dt>19</dt><dd>-1899.81454889485</dd><dt>20</dt><dd>-1967.94427234645</dd><dt>21</dt><dd>-2624.32191123551</dd><dt>22</dt><dd>-2718.62897775568</dd><dt>23</dt><dd>-2417.67968376544</dd><dt>24</dt><dd>-1783.16951758364</dd><dt>25</dt><dd>-1824.28709598401</dd><dt>26</dt><dd>-1747.10200482516</dd><dt>27</dt><dd>-2049.89474303141</dd><dt>28</dt><dd>-1715.63652147245</dd><dt>29</dt><dd>-1694.23845206236</dd><dt>30</dt><dd>-1636.1734410191</dd><dt>31</dt><dd>-1490.060556189</dd><dt>32</dt><dd>-835.34728375127</dd><dt>33</dt><dd>-1319.7119812278</dd><dt>34</dt><dd>-1162.27025188259</dd><dt>35</dt><dd>-1772.76653190175</dd><dt>36</dt><dd>-1920.52557529525</dd><dt>37</dt><dd>-1428.1371174144</dd><dt>38</dt><dd>-1109.88008832585</dd><dt>39</dt><dd>-1920.72463708572</dd><dt>40</dt><dd>-1439.37674889615</dd><dt>41</dt><dd>-1476.78678093601</dd><dt>42</dt><dd>-3662.93952037355</dd><dt>43</dt><dd>-2391.15253294383</dd><dt>44</dt><dd>-1419.84122048841</dd><dt>45</dt><dd>-1530.55475031485</dd><dt>46</dt><dd>-1358.70963525171</dd><dt>47</dt><dd>-1608.77216749789</dd><dt>48</dt><dd>-1450.67605843033</dd><dt>49</dt><dd>-1321.44589185848</dd><dt>50</dt><dd>-1940.3808632078</dd><dt>51</dt><dd>-1979.09977046696</dd><dt>52</dt><dd>-1699.17529494551</dd><dt>53</dt><dd>-1428.5936768722</dd><dt>54</dt><dd>-958.105721353746</dd><dt>55</dt><dd>-1721.85862483827</dd><dt>56</dt><dd>-1773.51915012</dd><dt>57</dt><dd>-1558.64689384518</dd><dt>58</dt><dd>-1402.70274228938</dd><dt>59</dt><dd>-1229.48185350446</dd><dt>60</dt><dd>-2037.57519263114</dd><dt>61</dt><dd>-505.534865188467</dd><dt>62</dt><dd>-1053.14276206359</dd><dt>63</dt><dd>-872.525354308666</dd><dt>64</dt><dd>-1166.02350884097</dd><dt>65</dt><dd>-1202.23514437016</dd><dt>66</dt><dd>-1113.7624267202</dd><dt>67</dt><dd>-1095.61237342403</dd><dt>68</dt><dd>-958.793767512434</dd><dt>69</dt><dd>-1237.67768063239</dd><dt>70</dt><dd>-898.516488144039</dd><dt>71</dt><dd>-1020.68228795934</dd><dt>72</dt><dd>-506.370706059895</dd><dt>73</dt><dd>-461.773729072212</dd><dt>74</dt><dd>-52.7677844413396</dd><dt>75</dt><dd>-123.240417774306</dd><dt>76</dt><dd>-1047.84338288307</dd><dt>77</dt><dd>-698.758513023625</dd><dt>78</dt><dd>-1098.62479251247</dd><dt>79</dt><dd>-483.783241540012</dd><dt>80</dt><dd>-472.646646146816</dd><dt>81</dt><dd>-436.641378603955</dd><dt>82</dt><dd>-71.1561414814341</dd><dt>83</dt><dd>39.8503319910009</dd><dt>84</dt><dd>-775.550613189535</dd><dt>85</dt><dd>-1271.38822817628</dd><dt>86</dt><dd>-780.36000364855</dd><dt>87</dt><dd>-511.671801896265</dd><dt>88</dt><dd>-551.144991904747</dd><dt>89</dt><dd>-404.288139357591</dd><dt>90</dt><dd>-798.370236392871</dd><dt>91</dt><dd>-1102.65632492092</dd><dt>92</dt><dd>-403.358117543649</dd><dt>93</dt><dd>-160.277179518725</dd><dt>94</dt><dd>499.560543615113</dd><dt>95</dt><dd>391.944935430368</dd><dt>96</dt><dd>214.29613812208</dd><dt>97</dt><dd>-63.6512167433831</dd><dt>98</dt><dd>207.79443554379</dd><dt>99</dt><dd>289.005426984761</dd><dt>100</dt><dd>72.0519615760778</dd><dt>101</dt><dd>-19.7656925545803</dd><dt>102</dt><dd>-519.237017086435</dd><dt>103</dt><dd>-221.101844121739</dd><dt>104</dt><dd>306.206856131344</dd><dt>105</dt><dd>212.510365696067</dd><dt>106</dt><dd>397.945367171064</dd><dt>107</dt><dd>134.937380641774</dd><dt>108</dt><dd>387.146930338768</dd><dt>109</dt><dd>-281.758806510649</dd><dt>110</dt><dd>384.027361216893</dd><dt>111</dt><dd>170.203887174492</dd><dt>112</dt><dd>15.5764913790299</dd><dt>113</dt><dd>-2746.9196483316</dd><dt>114</dt><dd>-1131.99435522806</dd><dt>115</dt><dd>-280.649278934671</dd><dt>116</dt><dd>201.944455572601</dd><dt>117</dt><dd>-304.256078947967</dd><dt>118</dt><dd>-274.782972699634</dd><dt>119</dt><dd>-353.414832246038</dd><dt>120</dt><dd>-102.781917651533</dd><dt>121</dt><dd>-271.431659439304</dd><dt>122</dt><dd>1273.63834084607</dd><dt>123</dt><dd>1128.55137069479</dd><dt>124</dt><dd>1070.30560822056</dd><dt>125</dt><dd>1500.11893768373</dd><dt>126</dt><dd>1232.14451804347</dd><dt>127</dt><dd>821.503508413383</dd><dt>128</dt><dd>767.506173373209</dd><dt>129</dt><dd>681.157764739707</dd><dt>130</dt><dd>725.646851297216</dd><dt>131</dt><dd>829.046289603654</dd><dt>132</dt><dd>1307.0036441964</dd><dt>133</dt><dd>1538.07929402156</dd><dt>134</dt><dd>1180.04092449121</dd><dt>135</dt><dd>764.431596653554</dd><dt>136</dt><dd>998.195480405624</dd><dt>137</dt><dd>1434.95981844204</dd><dt>138</dt><dd>1304.0991279185</dd><dt>139</dt><dd>1395.3451676617</dd><dt>140</dt><dd>1767.11446733512</dd><dt>141</dt><dd>1163.49625679896</dd><dt>142</dt><dd>738.21023869276</dd><dt>143</dt><dd>1046.10596287319</dd><dt>144</dt><dd>1052.41502251185</dd><dt>145</dt><dd>1453.82717419336</dd><dt>146</dt><dd>1575.52625661641</dd><dt>147</dt><dd>1438.27468441571</dd><dt>148</dt><dd>1258.10000692908</dd><dt>149</dt><dd>1035.53419478904</dd><dt>150</dt><dd>1240.43857737098</dd><dt>151</dt><dd>1172.0124283955</dd><dt>152</dt><dd>1673.52932518229</dd><dt>153</dt><dd>1082.96528205258</dd><dt>154</dt><dd>1299.80852295591</dd><dt>155</dt><dd>1305.42283260127</dd><dt>156</dt><dd>1167.22112418243</dd><dt>157</dt><dd>710.794729610205</dd><dt>158</dt><dd>1233.15729156952</dd><dt>159</dt><dd>1464.57499053507</dd><dt>160</dt><dd>1739.16499098767</dd><dt>161</dt><dd>2051.96844670119</dd><dt>162</dt><dd>1840.55515203482</dd><dt>163</dt><dd>1509.06297009861</dd><dt>164</dt><dd>887.140803859653</dd><dt>165</dt><dd>984.253698233806</dd><dt>166</dt><dd>1253.12938623646</dd><dt>167</dt><dd>1446.60261686805</dd><dt>168</dt><dd>1505.22029922407</dd><dt>169</dt><dd>1090.91871528247</dd><dt>170</dt><dd>684.296698739522</dd><dt>171</dt><dd>1385.80131305676</dd><dt>172</dt><dd>1933.05823128691</dd><dt>173</dt><dd>2478.48145876027</dd><dt>174</dt><dd>2211.2832645355</dd><dt>175</dt><dd>2206.22625425525</dd><dt>176</dt><dd>2180.37953121259</dd><dt>177</dt><dd>1806.7209276103</dd><dt>178</dt><dd>1387.67418917236</dd><dt>179</dt><dd>1825.50533729514</dd><dt>180</dt><dd>2373.60589595291</dd><dt>181</dt><dd>2434.24989525915</dd><dt>182</dt><dd>2203.31796924735</dd><dt>183</dt><dd>1619.37591340491</dd><dt>184</dt><dd>1755.13427354493</dd><dt>185</dt><dd>1776.29958229726</dd><dt>186</dt><dd>1124.20403665474</dd><dt>187</dt><dd>1820.51946359644</dd><dt>188</dt><dd>1977.29294026609</dd><dt>189</dt><dd>1867.32023405416</dd><dt>190</dt><dd>1472.75023186218</dd><dt>191</dt><dd>918.498508219779</dd><dt>192</dt><dd>947.238916800147</dd><dt>193</dt><dd>1182.73325190251</dd><dt>194</dt><dd>1435.36086497453</dd><dt>195</dt><dd>1475.61760729026</dd><dt>196</dt><dd>833.055708182725</dd><dt>197</dt><dd>944.708038049455</dd><dt>198</dt><dd>1239.69072678368</dd><dt>199</dt><dd>1704.98594618004</dd><dt>200</dt><dd>1367.52753391438</dd><dt>201</dt><dd>1377.06985606281</dd><dt>202</dt><dd>424.536511531501</dd><dt>203</dt><dd>-1323.32592350463</dd><dt>204</dt><dd>574.098245966467</dd><dt>205</dt><dd>1171.07019911607</dd><dt>206</dt><dd>941.207997061716</dd><dt>207</dt><dd>1276.30325374794</dd><dt>208</dt><dd>960.074731187716</dd><dt>209</dt><dd>1334.93197773434</dd><dt>210</dt><dd>1238.16158554384</dd><dt>211</dt><dd>903.132033074093</dd><dt>212</dt><dd>1041.78038546242</dd><dt>213</dt><dd>848.801926295517</dd><dt>214</dt><dd>1174.54878502699</dd><dt>215</dt><dd>1451.98997958678</dd><dt>216</dt><dd>1050.33527924211</dd><dt>217</dt><dd>1243.26248800751</dd><dt>218</dt><dd>856.592437403752</dd><dt>219</dt><dd>1164.26328391779</dd><dt>220</dt><dd>979.983783933734</dd><dt>221</dt><dd>1035.61356149122</dd><dt>222</dt><dd>1424.66722480107</dd><dt>223</dt><dd>714.567646706607</dd><dt>224</dt><dd>699.579754669247</dd><dt>225</dt><dd>1231.93198207009</dd><dt>226</dt><dd>1406.66023874068</dd><dt>227</dt><dd>1047.53037156564</dd><dt>228</dt><dd>1021.20157215964</dd><dt>229</dt><dd>1441.92611613733</dd><dt>230</dt><dd>2973.80827262261</dd><dt>231</dt><dd>1062.39324767886</dd><dt>232</dt><dd>527.052218507256</dd><dt>233</dt><dd>581.73570283505</dd><dt>234</dt><dd>1000.94556293883</dd><dt>235</dt><dd>990.700517687534</dd><dt>236</dt><dd>1288.91885958931</dd><dt>237</dt><dd>1114.83856816291</dd><dt>238</dt><dd>358.685996605156</dd><dt>239</dt><dd>110.181092631036</dd><dt>240</dt><dd>983.175556797355</dd><dt>241</dt><dd>1002.34323677645</dd><dt>242</dt><dd>1036.07737707867</dd><dt>243</dt><dd>1307.62666550872</dd><dt>244</dt><dd>1329.01546002588</dd><dt>245</dt><dd>1871.96099106342</dd><dt>246</dt><dd>1435.80685346437</dd><dt>247</dt><dd>1196.0226168539</dd><dt>248</dt><dd>1410.48016517431</dd><dt>249</dt><dd>1474.81276176352</dd><dt>250</dt><dd>1371.9665135093</dd><dt>251</dt><dd>1629.65880778161</dd><dt>252</dt><dd>906.006201161885</dd><dt>253</dt><dd>1173.51580190937</dd><dt>254</dt><dd>1158.39471177452</dd><dt>255</dt><dd>1473.19689105732</dd><dt>256</dt><dd>1340.41710482215</dd><dt>257</dt><dd>1592.42491348775</dd><dt>258</dt><dd>1571.38641447353</dd><dt>259</dt><dd>1231.76829952272</dd><dt>260</dt><dd>1267.14763808935</dd><dt>261</dt><dd>907.627999803585</dd><dt>262</dt><dd>400.557660825314</dd><dt>263</dt><dd>902.049613861518</dd><dt>264</dt><dd>1184.70759692228</dd><dt>265</dt><dd>1231.08497987594</dd><dt>266</dt><dd>1105.07917174125</dd><dt>267</dt><dd>1265.67348254648</dd><dt>268</dt><dd>1555.82122894525</dd><dt>269</dt><dd>1221.76695445641</dd><dt>270</dt><dd>1469.2626172394</dd><dt>271</dt><dd>1659.09159857944</dd><dt>272</dt><dd>1439.36790630147</dd><dt>273</dt><dd>1318.14508855854</dd><dt>274</dt><dd>1272.36261749753</dd><dt>275</dt><dd>1276.66943048804</dd><dt>276</dt><dd>-166.779853562941</dd><dt>277</dt><dd>1644.84827234733</dd><dt>278</dt><dd>1705.49355291796</dd><dt>279</dt><dd>1857.53917375285</dd><dt>280</dt><dd>1111.01459586589</dd><dt>281</dt><dd>490.879564933077</dd><dt>282</dt><dd>-23.6951733597615</dd><dt>283</dt><dd>519.103937042774</dd><dt>284</dt><dd>1053.86201091036</dd><dt>285</dt><dd>1142.8502486495</dd><dt>286</dt><dd>913.642919739775</dd><dt>287</dt><dd>1012.23724452677</dd><dt>288</dt><dd>773.239367348282</dd><dt>289</dt><dd>747.667406685133</dd><dt>290</dt><dd>993.290555088302</dd><dt>291</dt><dd>935.588230374027</dd><dt>292</dt><dd>696.36756052412</dd><dt>293</dt><dd>1022.87778930581</dd><dt>294</dt><dd>1238.9261116232</dd><dt>295</dt><dd>947.838326549525</dd><dt>296</dt><dd>1303.10403914446</dd><dt>297</dt><dd>1303.93605028716</dd><dt>298</dt><dd>1502.84154617353</dd><dt>299</dt><dd>956.212144293127</dd><dt>300</dt><dd>911.736128245817</dd><dt>301</dt><dd>639.267822747684</dd><dt>302</dt><dd>-84.2626031422875</dd><dt>303</dt><dd>-1637.43169467714</dd><dt>304</dt><dd>-189.802870075117</dd><dt>305</dt><dd>122.314192904698</dd><dt>306</dt><dd>317.211949062238</dd><dt>307</dt><dd>298.947533841383</dd><dt>308</dt><dd>126.885111693364</dd><dt>309</dt><dd>202.807748914582</dd><dt>310</dt><dd>307.12189398295</dd><dt>311</dt><dd>122.687689745597</dd><dt>312</dt><dd>-315.046963687887</dd><dt>313</dt><dd>309.999077523895</dd><dt>314</dt><dd>393.439806658154</dd><dt>315</dt><dd>661.927591567801</dd><dt>316</dt><dd>414.258697453245</dd><dt>317</dt><dd>145.42185317923</dd><dt>318</dt><dd>-417.238768618791</dd><dt>319</dt><dd>15.8434791826369</dd><dt>320</dt><dd>27.9118937151974</dd><dt>321</dt><dd>370.571276478527</dd><dt>322</dt><dd>234.334053939444</dd><dt>323</dt><dd>-148.974843821967</dd><dt>324</dt><dd>-31.0302619413159</dd><dt>325</dt><dd>116.575681930674</dd><dt>326</dt><dd>227.388340035674</dd><dt>327</dt><dd>50.9273288991943</dd><dt>328</dt><dd>345.2924348911</dd><dt>329</dt><dd>-160.579174618619</dd><dt>330</dt><dd>-115.848615454432</dd><dt>331</dt><dd>361.996099517632</dd><dt>332</dt><dd>-628.031800347823</dd><dt>333</dt><dd>-67.3199273477659</dd><dt>334</dt><dd>102.099659489014</dd><dt>335</dt><dd>135.112405128842</dd><dt>336</dt><dd>-45.3699365431248</dd><dt>337</dt><dd>-218.869100220362</dd><dt>338</dt><dd>676.350191144854</dd><dt>339</dt><dd>511.522333322599</dd><dt>340</dt><dd>277.395721159942</dd><dt>341</dt><dd>166.613405766183</dd><dt>342</dt><dd>-59.6012434491699</dd><dt>343</dt><dd>-41.8707598326729</dd><dt>344</dt><dd>-329.586014587756</dd><dt>345</dt><dd>-95.3819434534785</dd><dt>346</dt><dd>-243.869214982392</dd><dt>347</dt><dd>-129.634355618765</dd><dt>348</dt><dd>267.715772420253</dd><dt>349</dt><dd>69.5680397156057</dd><dt>350</dt><dd>208.328273519911</dd><dt>351</dt><dd>-243.060648739638</dd><dt>352</dt><dd>-71.8017844122129</dd><dt>353</dt><dd>125.941034011747</dd><dt>354</dt><dd>-69.4861750873262</dd><dt>355</dt><dd>-53.7736375192374</dd><dt>356</dt><dd>-1580.44533194045</dd><dt>357</dt><dd>-1502.3312964202</dd><dt>358</dt><dd>-1321.67565686949</dd><dt>359</dt><dd>-1673.27650981659</dd><dt>360</dt><dd>-2089.94574912019</dd><dt>361</dt><dd>-3637.72577660167</dd><dt>362</dt><dd>-1886.05403069171</dd><dt>363</dt><dd>-1471.43021529999</dd><dt>364</dt><dd>-1564.37033434792</dd><dt>365</dt><dd>-1697.54167614733</dd><dt>366</dt><dd>-1638.49544372323</dd></dl>\n"
      ],
      "text/latex": [
       "\\begin{description*}\n",
       "\\item[1] -1573.5162190966\n",
       "\\item[2] -2017.83949141391\n",
       "\\item[3] -2171.30292569672\n",
       "\\item[4] -2244.27156451236\n",
       "\\item[5] -1406.06592893401\n",
       "\\item[6] -1306.11383005875\n",
       "\\item[7] -1130.68792645126\n",
       "\\item[8] -1452.33232710926\n",
       "\\item[9] -1988.99549128771\n",
       "\\item[10] -1707.13688347705\n",
       "\\item[11] -2174.53536883192\n",
       "\\item[12] -1739.8937006104\n",
       "\\item[13] -1898.9886954477\n",
       "\\item[14] -1799.0370666487\n",
       "\\item[15] -2086.93277719625\n",
       "\\item[16] -2408.00862690337\n",
       "\\item[17] -2201.70580502198\n",
       "\\item[18] -2006.93518771768\n",
       "\\item[19] -1899.81454889485\n",
       "\\item[20] -1967.94427234645\n",
       "\\item[21] -2624.32191123551\n",
       "\\item[22] -2718.62897775568\n",
       "\\item[23] -2417.67968376544\n",
       "\\item[24] -1783.16951758364\n",
       "\\item[25] -1824.28709598401\n",
       "\\item[26] -1747.10200482516\n",
       "\\item[27] -2049.89474303141\n",
       "\\item[28] -1715.63652147245\n",
       "\\item[29] -1694.23845206236\n",
       "\\item[30] -1636.1734410191\n",
       "\\item[31] -1490.060556189\n",
       "\\item[32] -835.34728375127\n",
       "\\item[33] -1319.7119812278\n",
       "\\item[34] -1162.27025188259\n",
       "\\item[35] -1772.76653190175\n",
       "\\item[36] -1920.52557529525\n",
       "\\item[37] -1428.1371174144\n",
       "\\item[38] -1109.88008832585\n",
       "\\item[39] -1920.72463708572\n",
       "\\item[40] -1439.37674889615\n",
       "\\item[41] -1476.78678093601\n",
       "\\item[42] -3662.93952037355\n",
       "\\item[43] -2391.15253294383\n",
       "\\item[44] -1419.84122048841\n",
       "\\item[45] -1530.55475031485\n",
       "\\item[46] -1358.70963525171\n",
       "\\item[47] -1608.77216749789\n",
       "\\item[48] -1450.67605843033\n",
       "\\item[49] -1321.44589185848\n",
       "\\item[50] -1940.3808632078\n",
       "\\item[51] -1979.09977046696\n",
       "\\item[52] -1699.17529494551\n",
       "\\item[53] -1428.5936768722\n",
       "\\item[54] -958.105721353746\n",
       "\\item[55] -1721.85862483827\n",
       "\\item[56] -1773.51915012\n",
       "\\item[57] -1558.64689384518\n",
       "\\item[58] -1402.70274228938\n",
       "\\item[59] -1229.48185350446\n",
       "\\item[60] -2037.57519263114\n",
       "\\item[61] -505.534865188467\n",
       "\\item[62] -1053.14276206359\n",
       "\\item[63] -872.525354308666\n",
       "\\item[64] -1166.02350884097\n",
       "\\item[65] -1202.23514437016\n",
       "\\item[66] -1113.7624267202\n",
       "\\item[67] -1095.61237342403\n",
       "\\item[68] -958.793767512434\n",
       "\\item[69] -1237.67768063239\n",
       "\\item[70] -898.516488144039\n",
       "\\item[71] -1020.68228795934\n",
       "\\item[72] -506.370706059895\n",
       "\\item[73] -461.773729072212\n",
       "\\item[74] -52.7677844413396\n",
       "\\item[75] -123.240417774306\n",
       "\\item[76] -1047.84338288307\n",
       "\\item[77] -698.758513023625\n",
       "\\item[78] -1098.62479251247\n",
       "\\item[79] -483.783241540012\n",
       "\\item[80] -472.646646146816\n",
       "\\item[81] -436.641378603955\n",
       "\\item[82] -71.1561414814341\n",
       "\\item[83] 39.8503319910009\n",
       "\\item[84] -775.550613189535\n",
       "\\item[85] -1271.38822817628\n",
       "\\item[86] -780.36000364855\n",
       "\\item[87] -511.671801896265\n",
       "\\item[88] -551.144991904747\n",
       "\\item[89] -404.288139357591\n",
       "\\item[90] -798.370236392871\n",
       "\\item[91] -1102.65632492092\n",
       "\\item[92] -403.358117543649\n",
       "\\item[93] -160.277179518725\n",
       "\\item[94] 499.560543615113\n",
       "\\item[95] 391.944935430368\n",
       "\\item[96] 214.29613812208\n",
       "\\item[97] -63.6512167433831\n",
       "\\item[98] 207.79443554379\n",
       "\\item[99] 289.005426984761\n",
       "\\item[100] 72.0519615760778\n",
       "\\item[101] -19.7656925545803\n",
       "\\item[102] -519.237017086435\n",
       "\\item[103] -221.101844121739\n",
       "\\item[104] 306.206856131344\n",
       "\\item[105] 212.510365696067\n",
       "\\item[106] 397.945367171064\n",
       "\\item[107] 134.937380641774\n",
       "\\item[108] 387.146930338768\n",
       "\\item[109] -281.758806510649\n",
       "\\item[110] 384.027361216893\n",
       "\\item[111] 170.203887174492\n",
       "\\item[112] 15.5764913790299\n",
       "\\item[113] -2746.9196483316\n",
       "\\item[114] -1131.99435522806\n",
       "\\item[115] -280.649278934671\n",
       "\\item[116] 201.944455572601\n",
       "\\item[117] -304.256078947967\n",
       "\\item[118] -274.782972699634\n",
       "\\item[119] -353.414832246038\n",
       "\\item[120] -102.781917651533\n",
       "\\item[121] -271.431659439304\n",
       "\\item[122] 1273.63834084607\n",
       "\\item[123] 1128.55137069479\n",
       "\\item[124] 1070.30560822056\n",
       "\\item[125] 1500.11893768373\n",
       "\\item[126] 1232.14451804347\n",
       "\\item[127] 821.503508413383\n",
       "\\item[128] 767.506173373209\n",
       "\\item[129] 681.157764739707\n",
       "\\item[130] 725.646851297216\n",
       "\\item[131] 829.046289603654\n",
       "\\item[132] 1307.0036441964\n",
       "\\item[133] 1538.07929402156\n",
       "\\item[134] 1180.04092449121\n",
       "\\item[135] 764.431596653554\n",
       "\\item[136] 998.195480405624\n",
       "\\item[137] 1434.95981844204\n",
       "\\item[138] 1304.0991279185\n",
       "\\item[139] 1395.3451676617\n",
       "\\item[140] 1767.11446733512\n",
       "\\item[141] 1163.49625679896\n",
       "\\item[142] 738.21023869276\n",
       "\\item[143] 1046.10596287319\n",
       "\\item[144] 1052.41502251185\n",
       "\\item[145] 1453.82717419336\n",
       "\\item[146] 1575.52625661641\n",
       "\\item[147] 1438.27468441571\n",
       "\\item[148] 1258.10000692908\n",
       "\\item[149] 1035.53419478904\n",
       "\\item[150] 1240.43857737098\n",
       "\\item[151] 1172.0124283955\n",
       "\\item[152] 1673.52932518229\n",
       "\\item[153] 1082.96528205258\n",
       "\\item[154] 1299.80852295591\n",
       "\\item[155] 1305.42283260127\n",
       "\\item[156] 1167.22112418243\n",
       "\\item[157] 710.794729610205\n",
       "\\item[158] 1233.15729156952\n",
       "\\item[159] 1464.57499053507\n",
       "\\item[160] 1739.16499098767\n",
       "\\item[161] 2051.96844670119\n",
       "\\item[162] 1840.55515203482\n",
       "\\item[163] 1509.06297009861\n",
       "\\item[164] 887.140803859653\n",
       "\\item[165] 984.253698233806\n",
       "\\item[166] 1253.12938623646\n",
       "\\item[167] 1446.60261686805\n",
       "\\item[168] 1505.22029922407\n",
       "\\item[169] 1090.91871528247\n",
       "\\item[170] 684.296698739522\n",
       "\\item[171] 1385.80131305676\n",
       "\\item[172] 1933.05823128691\n",
       "\\item[173] 2478.48145876027\n",
       "\\item[174] 2211.2832645355\n",
       "\\item[175] 2206.22625425525\n",
       "\\item[176] 2180.37953121259\n",
       "\\item[177] 1806.7209276103\n",
       "\\item[178] 1387.67418917236\n",
       "\\item[179] 1825.50533729514\n",
       "\\item[180] 2373.60589595291\n",
       "\\item[181] 2434.24989525915\n",
       "\\item[182] 2203.31796924735\n",
       "\\item[183] 1619.37591340491\n",
       "\\item[184] 1755.13427354493\n",
       "\\item[185] 1776.29958229726\n",
       "\\item[186] 1124.20403665474\n",
       "\\item[187] 1820.51946359644\n",
       "\\item[188] 1977.29294026609\n",
       "\\item[189] 1867.32023405416\n",
       "\\item[190] 1472.75023186218\n",
       "\\item[191] 918.498508219779\n",
       "\\item[192] 947.238916800147\n",
       "\\item[193] 1182.73325190251\n",
       "\\item[194] 1435.36086497453\n",
       "\\item[195] 1475.61760729026\n",
       "\\item[196] 833.055708182725\n",
       "\\item[197] 944.708038049455\n",
       "\\item[198] 1239.69072678368\n",
       "\\item[199] 1704.98594618004\n",
       "\\item[200] 1367.52753391438\n",
       "\\item[201] 1377.06985606281\n",
       "\\item[202] 424.536511531501\n",
       "\\item[203] -1323.32592350463\n",
       "\\item[204] 574.098245966467\n",
       "\\item[205] 1171.07019911607\n",
       "\\item[206] 941.207997061716\n",
       "\\item[207] 1276.30325374794\n",
       "\\item[208] 960.074731187716\n",
       "\\item[209] 1334.93197773434\n",
       "\\item[210] 1238.16158554384\n",
       "\\item[211] 903.132033074093\n",
       "\\item[212] 1041.78038546242\n",
       "\\item[213] 848.801926295517\n",
       "\\item[214] 1174.54878502699\n",
       "\\item[215] 1451.98997958678\n",
       "\\item[216] 1050.33527924211\n",
       "\\item[217] 1243.26248800751\n",
       "\\item[218] 856.592437403752\n",
       "\\item[219] 1164.26328391779\n",
       "\\item[220] 979.983783933734\n",
       "\\item[221] 1035.61356149122\n",
       "\\item[222] 1424.66722480107\n",
       "\\item[223] 714.567646706607\n",
       "\\item[224] 699.579754669247\n",
       "\\item[225] 1231.93198207009\n",
       "\\item[226] 1406.66023874068\n",
       "\\item[227] 1047.53037156564\n",
       "\\item[228] 1021.20157215964\n",
       "\\item[229] 1441.92611613733\n",
       "\\item[230] 2973.80827262261\n",
       "\\item[231] 1062.39324767886\n",
       "\\item[232] 527.052218507256\n",
       "\\item[233] 581.73570283505\n",
       "\\item[234] 1000.94556293883\n",
       "\\item[235] 990.700517687534\n",
       "\\item[236] 1288.91885958931\n",
       "\\item[237] 1114.83856816291\n",
       "\\item[238] 358.685996605156\n",
       "\\item[239] 110.181092631036\n",
       "\\item[240] 983.175556797355\n",
       "\\item[241] 1002.34323677645\n",
       "\\item[242] 1036.07737707867\n",
       "\\item[243] 1307.62666550872\n",
       "\\item[244] 1329.01546002588\n",
       "\\item[245] 1871.96099106342\n",
       "\\item[246] 1435.80685346437\n",
       "\\item[247] 1196.0226168539\n",
       "\\item[248] 1410.48016517431\n",
       "\\item[249] 1474.81276176352\n",
       "\\item[250] 1371.9665135093\n",
       "\\item[251] 1629.65880778161\n",
       "\\item[252] 906.006201161885\n",
       "\\item[253] 1173.51580190937\n",
       "\\item[254] 1158.39471177452\n",
       "\\item[255] 1473.19689105732\n",
       "\\item[256] 1340.41710482215\n",
       "\\item[257] 1592.42491348775\n",
       "\\item[258] 1571.38641447353\n",
       "\\item[259] 1231.76829952272\n",
       "\\item[260] 1267.14763808935\n",
       "\\item[261] 907.627999803585\n",
       "\\item[262] 400.557660825314\n",
       "\\item[263] 902.049613861518\n",
       "\\item[264] 1184.70759692228\n",
       "\\item[265] 1231.08497987594\n",
       "\\item[266] 1105.07917174125\n",
       "\\item[267] 1265.67348254648\n",
       "\\item[268] 1555.82122894525\n",
       "\\item[269] 1221.76695445641\n",
       "\\item[270] 1469.2626172394\n",
       "\\item[271] 1659.09159857944\n",
       "\\item[272] 1439.36790630147\n",
       "\\item[273] 1318.14508855854\n",
       "\\item[274] 1272.36261749753\n",
       "\\item[275] 1276.66943048804\n",
       "\\item[276] -166.779853562941\n",
       "\\item[277] 1644.84827234733\n",
       "\\item[278] 1705.49355291796\n",
       "\\item[279] 1857.53917375285\n",
       "\\item[280] 1111.01459586589\n",
       "\\item[281] 490.879564933077\n",
       "\\item[282] -23.6951733597615\n",
       "\\item[283] 519.103937042774\n",
       "\\item[284] 1053.86201091036\n",
       "\\item[285] 1142.8502486495\n",
       "\\item[286] 913.642919739775\n",
       "\\item[287] 1012.23724452677\n",
       "\\item[288] 773.239367348282\n",
       "\\item[289] 747.667406685133\n",
       "\\item[290] 993.290555088302\n",
       "\\item[291] 935.588230374027\n",
       "\\item[292] 696.36756052412\n",
       "\\item[293] 1022.87778930581\n",
       "\\item[294] 1238.9261116232\n",
       "\\item[295] 947.838326549525\n",
       "\\item[296] 1303.10403914446\n",
       "\\item[297] 1303.93605028716\n",
       "\\item[298] 1502.84154617353\n",
       "\\item[299] 956.212144293127\n",
       "\\item[300] 911.736128245817\n",
       "\\item[301] 639.267822747684\n",
       "\\item[302] -84.2626031422875\n",
       "\\item[303] -1637.43169467714\n",
       "\\item[304] -189.802870075117\n",
       "\\item[305] 122.314192904698\n",
       "\\item[306] 317.211949062238\n",
       "\\item[307] 298.947533841383\n",
       "\\item[308] 126.885111693364\n",
       "\\item[309] 202.807748914582\n",
       "\\item[310] 307.12189398295\n",
       "\\item[311] 122.687689745597\n",
       "\\item[312] -315.046963687887\n",
       "\\item[313] 309.999077523895\n",
       "\\item[314] 393.439806658154\n",
       "\\item[315] 661.927591567801\n",
       "\\item[316] 414.258697453245\n",
       "\\item[317] 145.42185317923\n",
       "\\item[318] -417.238768618791\n",
       "\\item[319] 15.8434791826369\n",
       "\\item[320] 27.9118937151974\n",
       "\\item[321] 370.571276478527\n",
       "\\item[322] 234.334053939444\n",
       "\\item[323] -148.974843821967\n",
       "\\item[324] -31.0302619413159\n",
       "\\item[325] 116.575681930674\n",
       "\\item[326] 227.388340035674\n",
       "\\item[327] 50.9273288991943\n",
       "\\item[328] 345.2924348911\n",
       "\\item[329] -160.579174618619\n",
       "\\item[330] -115.848615454432\n",
       "\\item[331] 361.996099517632\n",
       "\\item[332] -628.031800347823\n",
       "\\item[333] -67.3199273477659\n",
       "\\item[334] 102.099659489014\n",
       "\\item[335] 135.112405128842\n",
       "\\item[336] -45.3699365431248\n",
       "\\item[337] -218.869100220362\n",
       "\\item[338] 676.350191144854\n",
       "\\item[339] 511.522333322599\n",
       "\\item[340] 277.395721159942\n",
       "\\item[341] 166.613405766183\n",
       "\\item[342] -59.6012434491699\n",
       "\\item[343] -41.8707598326729\n",
       "\\item[344] -329.586014587756\n",
       "\\item[345] -95.3819434534785\n",
       "\\item[346] -243.869214982392\n",
       "\\item[347] -129.634355618765\n",
       "\\item[348] 267.715772420253\n",
       "\\item[349] 69.5680397156057\n",
       "\\item[350] 208.328273519911\n",
       "\\item[351] -243.060648739638\n",
       "\\item[352] -71.8017844122129\n",
       "\\item[353] 125.941034011747\n",
       "\\item[354] -69.4861750873262\n",
       "\\item[355] -53.7736375192374\n",
       "\\item[356] -1580.44533194045\n",
       "\\item[357] -1502.3312964202\n",
       "\\item[358] -1321.67565686949\n",
       "\\item[359] -1673.27650981659\n",
       "\\item[360] -2089.94574912019\n",
       "\\item[361] -3637.72577660167\n",
       "\\item[362] -1886.05403069171\n",
       "\\item[363] -1471.43021529999\n",
       "\\item[364] -1564.37033434792\n",
       "\\item[365] -1697.54167614733\n",
       "\\item[366] -1638.49544372323\n",
       "\\end{description*}\n"
      ],
      "text/markdown": [
       "1\n",
       ":   -1573.51621909662\n",
       ":   -2017.839491413913\n",
       ":   -2171.302925696724\n",
       ":   -2244.271564512365\n",
       ":   -1406.065928934016\n",
       ":   -1306.113830058757\n",
       ":   -1130.687926451268\n",
       ":   -1452.332327109269\n",
       ":   -1988.9954912877110\n",
       ":   -1707.1368834770511\n",
       ":   -2174.5353688319212\n",
       ":   -1739.893700610413\n",
       ":   -1898.988695447714\n",
       ":   -1799.037066648715\n",
       ":   -2086.9327771962516\n",
       ":   -2408.0086269033717\n",
       ":   -2201.7058050219818\n",
       ":   -2006.9351877176819\n",
       ":   -1899.8145488948520\n",
       ":   -1967.9442723464521\n",
       ":   -2624.3219112355122\n",
       ":   -2718.6289777556823\n",
       ":   -2417.6796837654424\n",
       ":   -1783.1695175836425\n",
       ":   -1824.2870959840126\n",
       ":   -1747.1020048251627\n",
       ":   -2049.8947430314128\n",
       ":   -1715.6365214724529\n",
       ":   -1694.2384520623630\n",
       ":   -1636.173441019131\n",
       ":   -1490.06055618932\n",
       ":   -835.3472837512733\n",
       ":   -1319.711981227834\n",
       ":   -1162.2702518825935\n",
       ":   -1772.7665319017536\n",
       ":   -1920.5255752952537\n",
       ":   -1428.137117414438\n",
       ":   -1109.8800883258539\n",
       ":   -1920.7246370857240\n",
       ":   -1439.3767488961541\n",
       ":   -1476.7867809360142\n",
       ":   -3662.9395203735543\n",
       ":   -2391.1525329438344\n",
       ":   -1419.8412204884145\n",
       ":   -1530.5547503148546\n",
       ":   -1358.7096352517147\n",
       ":   -1608.7721674978948\n",
       ":   -1450.6760584303349\n",
       ":   -1321.4458918584850\n",
       ":   -1940.380863207851\n",
       ":   -1979.0997704669652\n",
       ":   -1699.1752949455153\n",
       ":   -1428.593676872254\n",
       ":   -958.10572135374655\n",
       ":   -1721.8586248382756\n",
       ":   -1773.5191501257\n",
       ":   -1558.6468938451858\n",
       ":   -1402.7027422893859\n",
       ":   -1229.4818535044660\n",
       ":   -2037.5751926311461\n",
       ":   -505.53486518846762\n",
       ":   -1053.1427620635963\n",
       ":   -872.52535430866664\n",
       ":   -1166.0235088409765\n",
       ":   -1202.2351443701666\n",
       ":   -1113.762426720267\n",
       ":   -1095.6123734240368\n",
       ":   -958.79376751243469\n",
       ":   -1237.6776806323970\n",
       ":   -898.51648814403971\n",
       ":   -1020.6822879593472\n",
       ":   -506.37070605989573\n",
       ":   -461.77372907221274\n",
       ":   -52.767784441339675\n",
       ":   -123.24041777430676\n",
       ":   -1047.8433828830777\n",
       ":   -698.75851302362578\n",
       ":   -1098.6247925124779\n",
       ":   -483.78324154001280\n",
       ":   -472.64664614681681\n",
       ":   -436.64137860395582\n",
       ":   -71.156141481434183\n",
       ":   39.850331991000984\n",
       ":   -775.55061318953585\n",
       ":   -1271.3882281762886\n",
       ":   -780.3600036485587\n",
       ":   -511.67180189626588\n",
       ":   -551.14499190474789\n",
       ":   -404.28813935759190\n",
       ":   -798.37023639287191\n",
       ":   -1102.6563249209292\n",
       ":   -403.35811754364993\n",
       ":   -160.27717951872594\n",
       ":   499.56054361511395\n",
       ":   391.94493543036896\n",
       ":   214.2961381220897\n",
       ":   -63.651216743383198\n",
       ":   207.7944355437999\n",
       ":   289.005426984761100\n",
       ":   72.0519615760778101\n",
       ":   -19.7656925545803102\n",
       ":   -519.237017086435103\n",
       ":   -221.101844121739104\n",
       ":   306.206856131344105\n",
       ":   212.510365696067106\n",
       ":   397.945367171064107\n",
       ":   134.937380641774108\n",
       ":   387.146930338768109\n",
       ":   -281.758806510649110\n",
       ":   384.027361216893111\n",
       ":   170.203887174492112\n",
       ":   15.5764913790299113\n",
       ":   -2746.9196483316114\n",
       ":   -1131.99435522806115\n",
       ":   -280.649278934671116\n",
       ":   201.944455572601117\n",
       ":   -304.256078947967118\n",
       ":   -274.782972699634119\n",
       ":   -353.414832246038120\n",
       ":   -102.781917651533121\n",
       ":   -271.431659439304122\n",
       ":   1273.63834084607123\n",
       ":   1128.55137069479124\n",
       ":   1070.30560822056125\n",
       ":   1500.11893768373126\n",
       ":   1232.14451804347127\n",
       ":   821.503508413383128\n",
       ":   767.506173373209129\n",
       ":   681.157764739707130\n",
       ":   725.646851297216131\n",
       ":   829.046289603654132\n",
       ":   1307.0036441964133\n",
       ":   1538.07929402156134\n",
       ":   1180.04092449121135\n",
       ":   764.431596653554136\n",
       ":   998.195480405624137\n",
       ":   1434.95981844204138\n",
       ":   1304.0991279185139\n",
       ":   1395.3451676617140\n",
       ":   1767.11446733512141\n",
       ":   1163.49625679896142\n",
       ":   738.21023869276143\n",
       ":   1046.10596287319144\n",
       ":   1052.41502251185145\n",
       ":   1453.82717419336146\n",
       ":   1575.52625661641147\n",
       ":   1438.27468441571148\n",
       ":   1258.10000692908149\n",
       ":   1035.53419478904150\n",
       ":   1240.43857737098151\n",
       ":   1172.0124283955152\n",
       ":   1673.52932518229153\n",
       ":   1082.96528205258154\n",
       ":   1299.80852295591155\n",
       ":   1305.42283260127156\n",
       ":   1167.22112418243157\n",
       ":   710.794729610205158\n",
       ":   1233.15729156952159\n",
       ":   1464.57499053507160\n",
       ":   1739.16499098767161\n",
       ":   2051.96844670119162\n",
       ":   1840.55515203482163\n",
       ":   1509.06297009861164\n",
       ":   887.140803859653165\n",
       ":   984.253698233806166\n",
       ":   1253.12938623646167\n",
       ":   1446.60261686805168\n",
       ":   1505.22029922407169\n",
       ":   1090.91871528247170\n",
       ":   684.296698739522171\n",
       ":   1385.80131305676172\n",
       ":   1933.05823128691173\n",
       ":   2478.48145876027174\n",
       ":   2211.2832645355175\n",
       ":   2206.22625425525176\n",
       ":   2180.37953121259177\n",
       ":   1806.7209276103178\n",
       ":   1387.67418917236179\n",
       ":   1825.50533729514180\n",
       ":   2373.60589595291181\n",
       ":   2434.24989525915182\n",
       ":   2203.31796924735183\n",
       ":   1619.37591340491184\n",
       ":   1755.13427354493185\n",
       ":   1776.29958229726186\n",
       ":   1124.20403665474187\n",
       ":   1820.51946359644188\n",
       ":   1977.29294026609189\n",
       ":   1867.32023405416190\n",
       ":   1472.75023186218191\n",
       ":   918.498508219779192\n",
       ":   947.238916800147193\n",
       ":   1182.73325190251194\n",
       ":   1435.36086497453195\n",
       ":   1475.61760729026196\n",
       ":   833.055708182725197\n",
       ":   944.708038049455198\n",
       ":   1239.69072678368199\n",
       ":   1704.98594618004200\n",
       ":   1367.52753391438201\n",
       ":   1377.06985606281202\n",
       ":   424.536511531501203\n",
       ":   -1323.32592350463204\n",
       ":   574.098245966467205\n",
       ":   1171.07019911607206\n",
       ":   941.207997061716207\n",
       ":   1276.30325374794208\n",
       ":   960.074731187716209\n",
       ":   1334.93197773434210\n",
       ":   1238.16158554384211\n",
       ":   903.132033074093212\n",
       ":   1041.78038546242213\n",
       ":   848.801926295517214\n",
       ":   1174.54878502699215\n",
       ":   1451.98997958678216\n",
       ":   1050.33527924211217\n",
       ":   1243.26248800751218\n",
       ":   856.592437403752219\n",
       ":   1164.26328391779220\n",
       ":   979.983783933734221\n",
       ":   1035.61356149122222\n",
       ":   1424.66722480107223\n",
       ":   714.567646706607224\n",
       ":   699.579754669247225\n",
       ":   1231.93198207009226\n",
       ":   1406.66023874068227\n",
       ":   1047.53037156564228\n",
       ":   1021.20157215964229\n",
       ":   1441.92611613733230\n",
       ":   2973.80827262261231\n",
       ":   1062.39324767886232\n",
       ":   527.052218507256233\n",
       ":   581.73570283505234\n",
       ":   1000.94556293883235\n",
       ":   990.700517687534236\n",
       ":   1288.91885958931237\n",
       ":   1114.83856816291238\n",
       ":   358.685996605156239\n",
       ":   110.181092631036240\n",
       ":   983.175556797355241\n",
       ":   1002.34323677645242\n",
       ":   1036.07737707867243\n",
       ":   1307.62666550872244\n",
       ":   1329.01546002588245\n",
       ":   1871.96099106342246\n",
       ":   1435.80685346437247\n",
       ":   1196.0226168539248\n",
       ":   1410.48016517431249\n",
       ":   1474.81276176352250\n",
       ":   1371.9665135093251\n",
       ":   1629.65880778161252\n",
       ":   906.006201161885253\n",
       ":   1173.51580190937254\n",
       ":   1158.39471177452255\n",
       ":   1473.19689105732256\n",
       ":   1340.41710482215257\n",
       ":   1592.42491348775258\n",
       ":   1571.38641447353259\n",
       ":   1231.76829952272260\n",
       ":   1267.14763808935261\n",
       ":   907.627999803585262\n",
       ":   400.557660825314263\n",
       ":   902.049613861518264\n",
       ":   1184.70759692228265\n",
       ":   1231.08497987594266\n",
       ":   1105.07917174125267\n",
       ":   1265.67348254648268\n",
       ":   1555.82122894525269\n",
       ":   1221.76695445641270\n",
       ":   1469.2626172394271\n",
       ":   1659.09159857944272\n",
       ":   1439.36790630147273\n",
       ":   1318.14508855854274\n",
       ":   1272.36261749753275\n",
       ":   1276.66943048804276\n",
       ":   -166.779853562941277\n",
       ":   1644.84827234733278\n",
       ":   1705.49355291796279\n",
       ":   1857.53917375285280\n",
       ":   1111.01459586589281\n",
       ":   490.879564933077282\n",
       ":   -23.6951733597615283\n",
       ":   519.103937042774284\n",
       ":   1053.86201091036285\n",
       ":   1142.8502486495286\n",
       ":   913.642919739775287\n",
       ":   1012.23724452677288\n",
       ":   773.239367348282289\n",
       ":   747.667406685133290\n",
       ":   993.290555088302291\n",
       ":   935.588230374027292\n",
       ":   696.36756052412293\n",
       ":   1022.87778930581294\n",
       ":   1238.9261116232295\n",
       ":   947.838326549525296\n",
       ":   1303.10403914446297\n",
       ":   1303.93605028716298\n",
       ":   1502.84154617353299\n",
       ":   956.212144293127300\n",
       ":   911.736128245817301\n",
       ":   639.267822747684302\n",
       ":   -84.2626031422875303\n",
       ":   -1637.43169467714304\n",
       ":   -189.802870075117305\n",
       ":   122.314192904698306\n",
       ":   317.211949062238307\n",
       ":   298.947533841383308\n",
       ":   126.885111693364309\n",
       ":   202.807748914582310\n",
       ":   307.12189398295311\n",
       ":   122.687689745597312\n",
       ":   -315.046963687887313\n",
       ":   309.999077523895314\n",
       ":   393.439806658154315\n",
       ":   661.927591567801316\n",
       ":   414.258697453245317\n",
       ":   145.42185317923318\n",
       ":   -417.238768618791319\n",
       ":   15.8434791826369320\n",
       ":   27.9118937151974321\n",
       ":   370.571276478527322\n",
       ":   234.334053939444323\n",
       ":   -148.974843821967324\n",
       ":   -31.0302619413159325\n",
       ":   116.575681930674326\n",
       ":   227.388340035674327\n",
       ":   50.9273288991943328\n",
       ":   345.2924348911329\n",
       ":   -160.579174618619330\n",
       ":   -115.848615454432331\n",
       ":   361.996099517632332\n",
       ":   -628.031800347823333\n",
       ":   -67.3199273477659334\n",
       ":   102.099659489014335\n",
       ":   135.112405128842336\n",
       ":   -45.3699365431248337\n",
       ":   -218.869100220362338\n",
       ":   676.350191144854339\n",
       ":   511.522333322599340\n",
       ":   277.395721159942341\n",
       ":   166.613405766183342\n",
       ":   -59.6012434491699343\n",
       ":   -41.8707598326729344\n",
       ":   -329.586014587756345\n",
       ":   -95.3819434534785346\n",
       ":   -243.869214982392347\n",
       ":   -129.634355618765348\n",
       ":   267.715772420253349\n",
       ":   69.5680397156057350\n",
       ":   208.328273519911351\n",
       ":   -243.060648739638352\n",
       ":   -71.8017844122129353\n",
       ":   125.941034011747354\n",
       ":   -69.4861750873262355\n",
       ":   -53.7736375192374356\n",
       ":   -1580.44533194045357\n",
       ":   -1502.3312964202358\n",
       ":   -1321.67565686949359\n",
       ":   -1673.27650981659360\n",
       ":   -2089.94574912019361\n",
       ":   -3637.72577660167362\n",
       ":   -1886.05403069171363\n",
       ":   -1471.43021529999364\n",
       ":   -1564.37033434792365\n",
       ":   -1697.54167614733366\n",
       ":   -1638.49544372323\n",
       "\n"
      ],
      "text/plain": [
       "          1           2           3           4           5           6 \n",
       "-1573.51622 -2017.83949 -2171.30293 -2244.27156 -1406.06593 -1306.11383 \n",
       "          7           8           9          10          11          12 \n",
       "-1130.68793 -1452.33233 -1988.99549 -1707.13688 -2174.53537 -1739.89370 \n",
       "         13          14          15          16          17          18 \n",
       "-1898.98870 -1799.03707 -2086.93278 -2408.00863 -2201.70581 -2006.93519 \n",
       "         19          20          21          22          23          24 \n",
       "-1899.81455 -1967.94427 -2624.32191 -2718.62898 -2417.67968 -1783.16952 \n",
       "         25          26          27          28          29          30 \n",
       "-1824.28710 -1747.10200 -2049.89474 -1715.63652 -1694.23845 -1636.17344 \n",
       "         31          32          33          34          35          36 \n",
       "-1490.06056  -835.34728 -1319.71198 -1162.27025 -1772.76653 -1920.52558 \n",
       "         37          38          39          40          41          42 \n",
       "-1428.13712 -1109.88009 -1920.72464 -1439.37675 -1476.78678 -3662.93952 \n",
       "         43          44          45          46          47          48 \n",
       "-2391.15253 -1419.84122 -1530.55475 -1358.70964 -1608.77217 -1450.67606 \n",
       "         49          50          51          52          53          54 \n",
       "-1321.44589 -1940.38086 -1979.09977 -1699.17529 -1428.59368  -958.10572 \n",
       "         55          56          57          58          59          60 \n",
       "-1721.85862 -1773.51915 -1558.64689 -1402.70274 -1229.48185 -2037.57519 \n",
       "         61          62          63          64          65          66 \n",
       " -505.53487 -1053.14276  -872.52535 -1166.02351 -1202.23514 -1113.76243 \n",
       "         67          68          69          70          71          72 \n",
       "-1095.61237  -958.79377 -1237.67768  -898.51649 -1020.68229  -506.37071 \n",
       "         73          74          75          76          77          78 \n",
       " -461.77373   -52.76778  -123.24042 -1047.84338  -698.75851 -1098.62479 \n",
       "         79          80          81          82          83          84 \n",
       " -483.78324  -472.64665  -436.64138   -71.15614    39.85033  -775.55061 \n",
       "         85          86          87          88          89          90 \n",
       "-1271.38823  -780.36000  -511.67180  -551.14499  -404.28814  -798.37024 \n",
       "         91          92          93          94          95          96 \n",
       "-1102.65632  -403.35812  -160.27718   499.56054   391.94494   214.29614 \n",
       "         97          98          99         100         101         102 \n",
       "  -63.65122   207.79444   289.00543    72.05196   -19.76569  -519.23702 \n",
       "        103         104         105         106         107         108 \n",
       " -221.10184   306.20686   212.51037   397.94537   134.93738   387.14693 \n",
       "        109         110         111         112         113         114 \n",
       " -281.75881   384.02736   170.20389    15.57649 -2746.91965 -1131.99436 \n",
       "        115         116         117         118         119         120 \n",
       " -280.64928   201.94446  -304.25608  -274.78297  -353.41483  -102.78192 \n",
       "        121         122         123         124         125         126 \n",
       " -271.43166  1273.63834  1128.55137  1070.30561  1500.11894  1232.14452 \n",
       "        127         128         129         130         131         132 \n",
       "  821.50351   767.50617   681.15776   725.64685   829.04629  1307.00364 \n",
       "        133         134         135         136         137         138 \n",
       " 1538.07929  1180.04092   764.43160   998.19548  1434.95982  1304.09913 \n",
       "        139         140         141         142         143         144 \n",
       " 1395.34517  1767.11447  1163.49626   738.21024  1046.10596  1052.41502 \n",
       "        145         146         147         148         149         150 \n",
       " 1453.82717  1575.52626  1438.27468  1258.10001  1035.53419  1240.43858 \n",
       "        151         152         153         154         155         156 \n",
       " 1172.01243  1673.52933  1082.96528  1299.80852  1305.42283  1167.22112 \n",
       "        157         158         159         160         161         162 \n",
       "  710.79473  1233.15729  1464.57499  1739.16499  2051.96845  1840.55515 \n",
       "        163         164         165         166         167         168 \n",
       " 1509.06297   887.14080   984.25370  1253.12939  1446.60262  1505.22030 \n",
       "        169         170         171         172         173         174 \n",
       " 1090.91872   684.29670  1385.80131  1933.05823  2478.48146  2211.28326 \n",
       "        175         176         177         178         179         180 \n",
       " 2206.22625  2180.37953  1806.72093  1387.67419  1825.50534  2373.60590 \n",
       "        181         182         183         184         185         186 \n",
       " 2434.24990  2203.31797  1619.37591  1755.13427  1776.29958  1124.20404 \n",
       "        187         188         189         190         191         192 \n",
       " 1820.51946  1977.29294  1867.32023  1472.75023   918.49851   947.23892 \n",
       "        193         194         195         196         197         198 \n",
       " 1182.73325  1435.36086  1475.61761   833.05571   944.70804  1239.69073 \n",
       "        199         200         201         202         203         204 \n",
       " 1704.98595  1367.52753  1377.06986   424.53651 -1323.32592   574.09825 \n",
       "        205         206         207         208         209         210 \n",
       " 1171.07020   941.20800  1276.30325   960.07473  1334.93198  1238.16159 \n",
       "        211         212         213         214         215         216 \n",
       "  903.13203  1041.78039   848.80193  1174.54879  1451.98998  1050.33528 \n",
       "        217         218         219         220         221         222 \n",
       " 1243.26249   856.59244  1164.26328   979.98378  1035.61356  1424.66722 \n",
       "        223         224         225         226         227         228 \n",
       "  714.56765   699.57975  1231.93198  1406.66024  1047.53037  1021.20157 \n",
       "        229         230         231         232         233         234 \n",
       " 1441.92612  2973.80827  1062.39325   527.05222   581.73570  1000.94556 \n",
       "        235         236         237         238         239         240 \n",
       "  990.70052  1288.91886  1114.83857   358.68600   110.18109   983.17556 \n",
       "        241         242         243         244         245         246 \n",
       " 1002.34324  1036.07738  1307.62667  1329.01546  1871.96099  1435.80685 \n",
       "        247         248         249         250         251         252 \n",
       " 1196.02262  1410.48017  1474.81276  1371.96651  1629.65881   906.00620 \n",
       "        253         254         255         256         257         258 \n",
       " 1173.51580  1158.39471  1473.19689  1340.41710  1592.42491  1571.38641 \n",
       "        259         260         261         262         263         264 \n",
       " 1231.76830  1267.14764   907.62800   400.55766   902.04961  1184.70760 \n",
       "        265         266         267         268         269         270 \n",
       " 1231.08498  1105.07917  1265.67348  1555.82123  1221.76695  1469.26262 \n",
       "        271         272         273         274         275         276 \n",
       " 1659.09160  1439.36791  1318.14509  1272.36262  1276.66943  -166.77985 \n",
       "        277         278         279         280         281         282 \n",
       " 1644.84827  1705.49355  1857.53917  1111.01460   490.87956   -23.69517 \n",
       "        283         284         285         286         287         288 \n",
       "  519.10394  1053.86201  1142.85025   913.64292  1012.23724   773.23937 \n",
       "        289         290         291         292         293         294 \n",
       "  747.66741   993.29056   935.58823   696.36756  1022.87779  1238.92611 \n",
       "        295         296         297         298         299         300 \n",
       "  947.83833  1303.10404  1303.93605  1502.84155   956.21214   911.73613 \n",
       "        301         302         303         304         305         306 \n",
       "  639.26782   -84.26260 -1637.43169  -189.80287   122.31419   317.21195 \n",
       "        307         308         309         310         311         312 \n",
       "  298.94753   126.88511   202.80775   307.12189   122.68769  -315.04696 \n",
       "        313         314         315         316         317         318 \n",
       "  309.99908   393.43981   661.92759   414.25870   145.42185  -417.23877 \n",
       "        319         320         321         322         323         324 \n",
       "   15.84348    27.91189   370.57128   234.33405  -148.97484   -31.03026 \n",
       "        325         326         327         328         329         330 \n",
       "  116.57568   227.38834    50.92733   345.29243  -160.57917  -115.84862 \n",
       "        331         332         333         334         335         336 \n",
       "  361.99610  -628.03180   -67.31993   102.09966   135.11241   -45.36994 \n",
       "        337         338         339         340         341         342 \n",
       " -218.86910   676.35019   511.52233   277.39572   166.61341   -59.60124 \n",
       "        343         344         345         346         347         348 \n",
       "  -41.87076  -329.58601   -95.38194  -243.86921  -129.63436   267.71577 \n",
       "        349         350         351         352         353         354 \n",
       "   69.56804   208.32827  -243.06065   -71.80178   125.94103   -69.48618 \n",
       "        355         356         357         358         359         360 \n",
       "  -53.77364 -1580.44533 -1502.33130 -1321.67566 -1673.27651 -2089.94575 \n",
       "        361         362         363         364         365         366 \n",
       "-3637.72578 -1886.05403 -1471.43022 -1564.37033 -1697.54168 -1638.49544 "
      ]
     },
     "metadata": {},
     "output_type": "display_data"
    }
   ],
   "source": [
    "pred<-predict(mod1,newdata=df_test)\n",
    "pred"
   ]
  },
  {
   "cell_type": "code",
   "execution_count": 62,
   "metadata": {},
   "outputs": [
    {
     "data": {
      "text/html": [
       "<table>\n",
       "<caption>A data.frame: 366 × 2</caption>\n",
       "<thead>\n",
       "\t<tr><th></th><th scope=col>id</th><th scope=col>cnt</th></tr>\n",
       "\t<tr><th></th><th scope=col>&lt;int&gt;</th><th scope=col>&lt;dbl&gt;</th></tr>\n",
       "</thead>\n",
       "<tbody>\n",
       "\t<tr><th scope=row>1</th><td>366</td><td>-1573.516</td></tr>\n",
       "\t<tr><th scope=row>2</th><td>367</td><td>-2017.839</td></tr>\n",
       "\t<tr><th scope=row>3</th><td>368</td><td>-2171.303</td></tr>\n",
       "\t<tr><th scope=row>4</th><td>369</td><td>-2244.272</td></tr>\n",
       "\t<tr><th scope=row>5</th><td>370</td><td>-1406.066</td></tr>\n",
       "\t<tr><th scope=row>6</th><td>371</td><td>-1306.114</td></tr>\n",
       "\t<tr><th scope=row>7</th><td>372</td><td>-1130.688</td></tr>\n",
       "\t<tr><th scope=row>8</th><td>373</td><td>-1452.332</td></tr>\n",
       "\t<tr><th scope=row>9</th><td>374</td><td>-1988.995</td></tr>\n",
       "\t<tr><th scope=row>10</th><td>375</td><td>-1707.137</td></tr>\n",
       "\t<tr><th scope=row>11</th><td>376</td><td>-2174.535</td></tr>\n",
       "\t<tr><th scope=row>12</th><td>377</td><td>-1739.894</td></tr>\n",
       "\t<tr><th scope=row>13</th><td>378</td><td>-1898.989</td></tr>\n",
       "\t<tr><th scope=row>14</th><td>379</td><td>-1799.037</td></tr>\n",
       "\t<tr><th scope=row>15</th><td>380</td><td>-2086.933</td></tr>\n",
       "\t<tr><th scope=row>16</th><td>381</td><td>-2408.009</td></tr>\n",
       "\t<tr><th scope=row>17</th><td>382</td><td>-2201.706</td></tr>\n",
       "\t<tr><th scope=row>18</th><td>383</td><td>-2006.935</td></tr>\n",
       "\t<tr><th scope=row>19</th><td>384</td><td>-1899.815</td></tr>\n",
       "\t<tr><th scope=row>20</th><td>385</td><td>-1967.944</td></tr>\n",
       "\t<tr><th scope=row>21</th><td>386</td><td>-2624.322</td></tr>\n",
       "\t<tr><th scope=row>22</th><td>387</td><td>-2718.629</td></tr>\n",
       "\t<tr><th scope=row>23</th><td>388</td><td>-2417.680</td></tr>\n",
       "\t<tr><th scope=row>24</th><td>389</td><td>-1783.170</td></tr>\n",
       "\t<tr><th scope=row>25</th><td>390</td><td>-1824.287</td></tr>\n",
       "\t<tr><th scope=row>26</th><td>391</td><td>-1747.102</td></tr>\n",
       "\t<tr><th scope=row>27</th><td>392</td><td>-2049.895</td></tr>\n",
       "\t<tr><th scope=row>28</th><td>393</td><td>-1715.637</td></tr>\n",
       "\t<tr><th scope=row>29</th><td>394</td><td>-1694.238</td></tr>\n",
       "\t<tr><th scope=row>30</th><td>395</td><td>-1636.173</td></tr>\n",
       "\t<tr><th scope=row>...</th><td>...</td><td>...</td></tr>\n",
       "\t<tr><th scope=row>337</th><td>702</td><td> -218.86910</td></tr>\n",
       "\t<tr><th scope=row>338</th><td>703</td><td>  676.35019</td></tr>\n",
       "\t<tr><th scope=row>339</th><td>704</td><td>  511.52233</td></tr>\n",
       "\t<tr><th scope=row>340</th><td>705</td><td>  277.39572</td></tr>\n",
       "\t<tr><th scope=row>341</th><td>706</td><td>  166.61341</td></tr>\n",
       "\t<tr><th scope=row>342</th><td>707</td><td>  -59.60124</td></tr>\n",
       "\t<tr><th scope=row>343</th><td>708</td><td>  -41.87076</td></tr>\n",
       "\t<tr><th scope=row>344</th><td>709</td><td> -329.58601</td></tr>\n",
       "\t<tr><th scope=row>345</th><td>710</td><td>  -95.38194</td></tr>\n",
       "\t<tr><th scope=row>346</th><td>711</td><td> -243.86921</td></tr>\n",
       "\t<tr><th scope=row>347</th><td>712</td><td> -129.63436</td></tr>\n",
       "\t<tr><th scope=row>348</th><td>713</td><td>  267.71577</td></tr>\n",
       "\t<tr><th scope=row>349</th><td>714</td><td>   69.56804</td></tr>\n",
       "\t<tr><th scope=row>350</th><td>715</td><td>  208.32827</td></tr>\n",
       "\t<tr><th scope=row>351</th><td>716</td><td> -243.06065</td></tr>\n",
       "\t<tr><th scope=row>352</th><td>717</td><td>  -71.80178</td></tr>\n",
       "\t<tr><th scope=row>353</th><td>718</td><td>  125.94103</td></tr>\n",
       "\t<tr><th scope=row>354</th><td>719</td><td>  -69.48618</td></tr>\n",
       "\t<tr><th scope=row>355</th><td>720</td><td>  -53.77364</td></tr>\n",
       "\t<tr><th scope=row>356</th><td>721</td><td>-1580.44533</td></tr>\n",
       "\t<tr><th scope=row>357</th><td>722</td><td>-1502.33130</td></tr>\n",
       "\t<tr><th scope=row>358</th><td>723</td><td>-1321.67566</td></tr>\n",
       "\t<tr><th scope=row>359</th><td>724</td><td>-1673.27651</td></tr>\n",
       "\t<tr><th scope=row>360</th><td>725</td><td>-2089.94575</td></tr>\n",
       "\t<tr><th scope=row>361</th><td>726</td><td>-3637.72578</td></tr>\n",
       "\t<tr><th scope=row>362</th><td>727</td><td>-1886.05403</td></tr>\n",
       "\t<tr><th scope=row>363</th><td>728</td><td>-1471.43022</td></tr>\n",
       "\t<tr><th scope=row>364</th><td>729</td><td>-1564.37033</td></tr>\n",
       "\t<tr><th scope=row>365</th><td>730</td><td>-1697.54168</td></tr>\n",
       "\t<tr><th scope=row>366</th><td>731</td><td>-1638.49544</td></tr>\n",
       "</tbody>\n",
       "</table>\n"
      ],
      "text/latex": [
       "A data.frame: 366 × 2\n",
       "\\begin{tabular}{r|ll}\n",
       "  & id & cnt\\\\\n",
       "  & <int> & <dbl>\\\\\n",
       "\\hline\n",
       "\t1 & 366 & -1573.516\\\\\n",
       "\t2 & 367 & -2017.839\\\\\n",
       "\t3 & 368 & -2171.303\\\\\n",
       "\t4 & 369 & -2244.272\\\\\n",
       "\t5 & 370 & -1406.066\\\\\n",
       "\t6 & 371 & -1306.114\\\\\n",
       "\t7 & 372 & -1130.688\\\\\n",
       "\t8 & 373 & -1452.332\\\\\n",
       "\t9 & 374 & -1988.995\\\\\n",
       "\t10 & 375 & -1707.137\\\\\n",
       "\t11 & 376 & -2174.535\\\\\n",
       "\t12 & 377 & -1739.894\\\\\n",
       "\t13 & 378 & -1898.989\\\\\n",
       "\t14 & 379 & -1799.037\\\\\n",
       "\t15 & 380 & -2086.933\\\\\n",
       "\t16 & 381 & -2408.009\\\\\n",
       "\t17 & 382 & -2201.706\\\\\n",
       "\t18 & 383 & -2006.935\\\\\n",
       "\t19 & 384 & -1899.815\\\\\n",
       "\t20 & 385 & -1967.944\\\\\n",
       "\t21 & 386 & -2624.322\\\\\n",
       "\t22 & 387 & -2718.629\\\\\n",
       "\t23 & 388 & -2417.680\\\\\n",
       "\t24 & 389 & -1783.170\\\\\n",
       "\t25 & 390 & -1824.287\\\\\n",
       "\t26 & 391 & -1747.102\\\\\n",
       "\t27 & 392 & -2049.895\\\\\n",
       "\t28 & 393 & -1715.637\\\\\n",
       "\t29 & 394 & -1694.238\\\\\n",
       "\t30 & 395 & -1636.173\\\\\n",
       "\t... & ... & ...\\\\\n",
       "\t337 & 702 &  -218.86910\\\\\n",
       "\t338 & 703 &   676.35019\\\\\n",
       "\t339 & 704 &   511.52233\\\\\n",
       "\t340 & 705 &   277.39572\\\\\n",
       "\t341 & 706 &   166.61341\\\\\n",
       "\t342 & 707 &   -59.60124\\\\\n",
       "\t343 & 708 &   -41.87076\\\\\n",
       "\t344 & 709 &  -329.58601\\\\\n",
       "\t345 & 710 &   -95.38194\\\\\n",
       "\t346 & 711 &  -243.86921\\\\\n",
       "\t347 & 712 &  -129.63436\\\\\n",
       "\t348 & 713 &   267.71577\\\\\n",
       "\t349 & 714 &    69.56804\\\\\n",
       "\t350 & 715 &   208.32827\\\\\n",
       "\t351 & 716 &  -243.06065\\\\\n",
       "\t352 & 717 &   -71.80178\\\\\n",
       "\t353 & 718 &   125.94103\\\\\n",
       "\t354 & 719 &   -69.48618\\\\\n",
       "\t355 & 720 &   -53.77364\\\\\n",
       "\t356 & 721 & -1580.44533\\\\\n",
       "\t357 & 722 & -1502.33130\\\\\n",
       "\t358 & 723 & -1321.67566\\\\\n",
       "\t359 & 724 & -1673.27651\\\\\n",
       "\t360 & 725 & -2089.94575\\\\\n",
       "\t361 & 726 & -3637.72578\\\\\n",
       "\t362 & 727 & -1886.05403\\\\\n",
       "\t363 & 728 & -1471.43022\\\\\n",
       "\t364 & 729 & -1564.37033\\\\\n",
       "\t365 & 730 & -1697.54168\\\\\n",
       "\t366 & 731 & -1638.49544\\\\\n",
       "\\end{tabular}\n"
      ],
      "text/markdown": [
       "\n",
       "A data.frame: 366 × 2\n",
       "\n",
       "| <!--/--> | id &lt;int&gt; | cnt &lt;dbl&gt; |\n",
       "|---|---|---|\n",
       "| 1 | 366 | -1573.516 |\n",
       "| 2 | 367 | -2017.839 |\n",
       "| 3 | 368 | -2171.303 |\n",
       "| 4 | 369 | -2244.272 |\n",
       "| 5 | 370 | -1406.066 |\n",
       "| 6 | 371 | -1306.114 |\n",
       "| 7 | 372 | -1130.688 |\n",
       "| 8 | 373 | -1452.332 |\n",
       "| 9 | 374 | -1988.995 |\n",
       "| 10 | 375 | -1707.137 |\n",
       "| 11 | 376 | -2174.535 |\n",
       "| 12 | 377 | -1739.894 |\n",
       "| 13 | 378 | -1898.989 |\n",
       "| 14 | 379 | -1799.037 |\n",
       "| 15 | 380 | -2086.933 |\n",
       "| 16 | 381 | -2408.009 |\n",
       "| 17 | 382 | -2201.706 |\n",
       "| 18 | 383 | -2006.935 |\n",
       "| 19 | 384 | -1899.815 |\n",
       "| 20 | 385 | -1967.944 |\n",
       "| 21 | 386 | -2624.322 |\n",
       "| 22 | 387 | -2718.629 |\n",
       "| 23 | 388 | -2417.680 |\n",
       "| 24 | 389 | -1783.170 |\n",
       "| 25 | 390 | -1824.287 |\n",
       "| 26 | 391 | -1747.102 |\n",
       "| 27 | 392 | -2049.895 |\n",
       "| 28 | 393 | -1715.637 |\n",
       "| 29 | 394 | -1694.238 |\n",
       "| 30 | 395 | -1636.173 |\n",
       "| ... | ... | ... |\n",
       "| 337 | 702 |  -218.86910 |\n",
       "| 338 | 703 |   676.35019 |\n",
       "| 339 | 704 |   511.52233 |\n",
       "| 340 | 705 |   277.39572 |\n",
       "| 341 | 706 |   166.61341 |\n",
       "| 342 | 707 |   -59.60124 |\n",
       "| 343 | 708 |   -41.87076 |\n",
       "| 344 | 709 |  -329.58601 |\n",
       "| 345 | 710 |   -95.38194 |\n",
       "| 346 | 711 |  -243.86921 |\n",
       "| 347 | 712 |  -129.63436 |\n",
       "| 348 | 713 |   267.71577 |\n",
       "| 349 | 714 |    69.56804 |\n",
       "| 350 | 715 |   208.32827 |\n",
       "| 351 | 716 |  -243.06065 |\n",
       "| 352 | 717 |   -71.80178 |\n",
       "| 353 | 718 |   125.94103 |\n",
       "| 354 | 719 |   -69.48618 |\n",
       "| 355 | 720 |   -53.77364 |\n",
       "| 356 | 721 | -1580.44533 |\n",
       "| 357 | 722 | -1502.33130 |\n",
       "| 358 | 723 | -1321.67566 |\n",
       "| 359 | 724 | -1673.27651 |\n",
       "| 360 | 725 | -2089.94575 |\n",
       "| 361 | 726 | -3637.72578 |\n",
       "| 362 | 727 | -1886.05403 |\n",
       "| 363 | 728 | -1471.43022 |\n",
       "| 364 | 729 | -1564.37033 |\n",
       "| 365 | 730 | -1697.54168 |\n",
       "| 366 | 731 | -1638.49544 |\n",
       "\n"
      ],
      "text/plain": [
       "    id  cnt        \n",
       "1   366 -1573.516  \n",
       "2   367 -2017.839  \n",
       "3   368 -2171.303  \n",
       "4   369 -2244.272  \n",
       "5   370 -1406.066  \n",
       "6   371 -1306.114  \n",
       "7   372 -1130.688  \n",
       "8   373 -1452.332  \n",
       "9   374 -1988.995  \n",
       "10  375 -1707.137  \n",
       "11  376 -2174.535  \n",
       "12  377 -1739.894  \n",
       "13  378 -1898.989  \n",
       "14  379 -1799.037  \n",
       "15  380 -2086.933  \n",
       "16  381 -2408.009  \n",
       "17  382 -2201.706  \n",
       "18  383 -2006.935  \n",
       "19  384 -1899.815  \n",
       "20  385 -1967.944  \n",
       "21  386 -2624.322  \n",
       "22  387 -2718.629  \n",
       "23  388 -2417.680  \n",
       "24  389 -1783.170  \n",
       "25  390 -1824.287  \n",
       "26  391 -1747.102  \n",
       "27  392 -2049.895  \n",
       "28  393 -1715.637  \n",
       "29  394 -1694.238  \n",
       "30  395 -1636.173  \n",
       "... ... ...        \n",
       "337 702  -218.86910\n",
       "338 703   676.35019\n",
       "339 704   511.52233\n",
       "340 705   277.39572\n",
       "341 706   166.61341\n",
       "342 707   -59.60124\n",
       "343 708   -41.87076\n",
       "344 709  -329.58601\n",
       "345 710   -95.38194\n",
       "346 711  -243.86921\n",
       "347 712  -129.63436\n",
       "348 713   267.71577\n",
       "349 714    69.56804\n",
       "350 715   208.32827\n",
       "351 716  -243.06065\n",
       "352 717   -71.80178\n",
       "353 718   125.94103\n",
       "354 719   -69.48618\n",
       "355 720   -53.77364\n",
       "356 721 -1580.44533\n",
       "357 722 -1502.33130\n",
       "358 723 -1321.67566\n",
       "359 724 -1673.27651\n",
       "360 725 -2089.94575\n",
       "361 726 -3637.72578\n",
       "362 727 -1886.05403\n",
       "363 728 -1471.43022\n",
       "364 729 -1564.37033\n",
       "365 730 -1697.54168\n",
       "366 731 -1638.49544"
      ]
     },
     "metadata": {},
     "output_type": "display_data"
    }
   ],
   "source": [
    "df.test<-data.frame(id=366:731,cnt=pred)\n",
    "df.test"
   ]
  },
  {
   "cell_type": "code",
   "execution_count": 65,
   "metadata": {},
   "outputs": [],
   "source": [
    "write.csv(df.test, file=\"results_LM_Jennie_02112020.csv\",row.names=FALSE)"
   ]
  },
  {
   "cell_type": "code",
   "execution_count": null,
   "metadata": {},
   "outputs": [],
   "source": []
  }
 ],
 "metadata": {
  "kernelspec": {
   "display_name": "R",
   "language": "R",
   "name": "ir"
  },
  "language_info": {
   "codemirror_mode": "r",
   "file_extension": ".r",
   "mimetype": "text/x-r-source",
   "name": "R",
   "pygments_lexer": "r",
   "version": "4.0.1"
  }
 },
 "nbformat": 4,
 "nbformat_minor": 2
}
